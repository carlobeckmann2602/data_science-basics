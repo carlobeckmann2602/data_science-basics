{
 "cells": [
  {
   "cell_type": "code",
   "execution_count": 3,
   "metadata": {},
   "outputs": [
    {
     "name": "stdout",
     "output_type": "stream",
     "text": [
      "no stored variable or alias columns\n",
      "no stored variable or alias data\n"
     ]
    }
   ],
   "source": [
    "%store -r columns_encoded\n",
    "%store -r columns\n",
    "%store -r data\n",
    "%store -r data_encoded"
   ]
  },
  {
   "cell_type": "code",
   "execution_count": 2,
   "metadata": {},
   "outputs": [
    {
     "data": {
      "text/plain": [
       "alter                                                                            Alter\n",
       "geschlecht                                                                  Geschlecht\n",
       "pseudonym                            Bitte gib hier ein Pseudonym ein und merke dir...\n",
       "funktion                             Welcher Funktion an der HSD fühlst du dich am ...\n",
       "studiengang                          Welchem Studiengang fühlst du dich am meisten ...\n",
       "                                                           ...                        \n",
       "lieblingssportart_Kampfsport                                    lieblingsmusiker_Sting\n",
       "lieblingsmusiker_Radiohead                           lieblingsmusiker_System of a Down\n",
       "lieblingsessen_Vegane Lasagne                                lieblingsmusiker_The 1975\n",
       "lieblingsmusiker_Mac Miller                         lieblingsmusiker_Tyler the Creator\n",
       "lieblingsmusiker_System of a Down                              lieblingsmusiker_eminem\n",
       "Length: 176, dtype: object"
      ]
     },
     "execution_count": 2,
     "metadata": {},
     "output_type": "execute_result"
    }
   ],
   "source": [
    "columns_encoded"
   ]
  },
  {
   "cell_type": "code",
   "execution_count": null,
   "metadata": {},
   "outputs": [],
   "source": []
  }
 ],
 "metadata": {
  "kernelspec": {
   "display_name": "data_science",
   "language": "python",
   "name": "python3"
  },
  "language_info": {
   "codemirror_mode": {
    "name": "ipython",
    "version": 3
   },
   "file_extension": ".py",
   "mimetype": "text/x-python",
   "name": "python",
   "nbconvert_exporter": "python",
   "pygments_lexer": "ipython3",
   "version": "3.9.16"
  },
  "orig_nbformat": 4
 },
 "nbformat": 4,
 "nbformat_minor": 2
}
