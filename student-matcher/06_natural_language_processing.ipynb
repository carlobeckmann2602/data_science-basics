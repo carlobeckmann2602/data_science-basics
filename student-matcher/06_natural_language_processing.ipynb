{
 "cells": [
  {
   "cell_type": "markdown",
   "metadata": {},
   "source": [
    "# Natural Language Processing"
   ]
  },
  {
   "cell_type": "markdown",
   "metadata": {},
   "source": [
    "## Inhalt ##\n",
    "\n",
    "1. Textdaten ermitteln<br>\n",
    "2. Wordvektoren aus Textdaten\n",
    "    2.1 Tfidf Vectoren<br> \n",
    "    2.2 Spacy Wordvektoren basierend auf der Deutschensprache<br>\n",
    "3. Clustering mit Wortvektoren<br> \n",
    "    3.1 Dimensionsreduzierung der Wordvektoren<br> \n",
    "    3.2 Erstellen von Cluster ausschließlich mit den reduzierten Wordvektoren<br>\n",
    "    3.3 Vergleich mit Clustern aus der Cluster Analyse<br> "
   ]
  },
  {
   "cell_type": "code",
   "execution_count": 1,
   "metadata": {},
   "outputs": [],
   "source": [
    "%store -r columns_encoded\n",
    "%store -r columns\n",
    "%store -r data\n",
    "%store -r data_encoded\n",
    "\n",
    "%store -r df_genres\n",
    "%store -r df_tsne_hc_cluster \n",
    "\n",
    "columns_encoded = columns_encoded\n",
    "columns = columns\n",
    "data = data\n",
    "data_encoded = data_encoded\n",
    "\n",
    "df_genres = df_genres\n",
    "df_tsne_hc_cluster = df_tsne_hc_cluster"
   ]
  },
  {
   "cell_type": "code",
   "execution_count": 2,
   "metadata": {},
   "outputs": [],
   "source": [
    "#!python -m spacy download de_core_news_md"
   ]
  },
  {
   "cell_type": "code",
   "execution_count": 3,
   "metadata": {},
   "outputs": [],
   "source": [
    "import os\n",
    "import numpy as np\n",
    "import pandas as pd\n",
    "import matplotlib.pyplot as plt\n",
    "import seaborn as sb\n",
    "import spacy\n",
    "\n",
    "from sklearn.feature_extraction.text import TfidfVectorizer\n",
    "from sklearn.cluster import AgglomerativeClustering\n",
    "from sklearn.preprocessing import StandardScaler\n",
    "from sklearn.manifold import TSNE\n",
    "\n",
    "import plotly.express as px\n",
    "\n",
    "pd.set_option('display.max_columns', None)"
   ]
  },
  {
   "cell_type": "markdown",
   "metadata": {},
   "source": [
    "# 1. Textdaten ermitteln\n",
    "Alle Textdaten, die aus dem Fragebogen hervorgehen werden in einem sepraten DataFrame gespeichert um im weiteren mit diesen eine NLP Analyse durchzuführen."
   ]
  },
  {
   "cell_type": "code",
   "execution_count": 4,
   "metadata": {},
   "outputs": [],
   "source": [
    "text_data_lieblingssportart = data[columns.lieblingssportart]\n",
    "text_data_lieblingsessen = data[columns.lieblingsessen]\n",
    "text_data_lieblingsgenre = df_genres\n",
    "text_data_combined = text_data_lieblingssportart + \" \" + text_data_lieblingsessen + \" \" + df_genres"
   ]
  },
  {
   "cell_type": "code",
   "execution_count": 5,
   "metadata": {},
   "outputs": [
    {
     "data": {
      "text/html": [
       "<div>\n",
       "<style scoped>\n",
       "    .dataframe tbody tr th:only-of-type {\n",
       "        vertical-align: middle;\n",
       "    }\n",
       "\n",
       "    .dataframe tbody tr th {\n",
       "        vertical-align: top;\n",
       "    }\n",
       "\n",
       "    .dataframe thead th {\n",
       "        text-align: right;\n",
       "    }\n",
       "</style>\n",
       "<table border=\"1\" class=\"dataframe\">\n",
       "  <thead>\n",
       "    <tr style=\"text-align: right;\">\n",
       "      <th></th>\n",
       "      <th>lieblingssportart</th>\n",
       "      <th>lieblingsessen</th>\n",
       "      <th>lieblingsgenre</th>\n",
       "      <th>combined</th>\n",
       "    </tr>\n",
       "  </thead>\n",
       "  <tbody>\n",
       "    <tr>\n",
       "      <th>0</th>\n",
       "      <td>Joggen</td>\n",
       "      <td>Vegane Lasagne</td>\n",
       "      <td>Rock</td>\n",
       "      <td>Joggen Vegane Lasagne Rock</td>\n",
       "    </tr>\n",
       "    <tr>\n",
       "      <th>1</th>\n",
       "      <td>Fußball</td>\n",
       "      <td>Butterbrot</td>\n",
       "      <td>Rock</td>\n",
       "      <td>Fußball Butterbrot Rock</td>\n",
       "    </tr>\n",
       "    <tr>\n",
       "      <th>2</th>\n",
       "      <td>Keine Lieblingssportart</td>\n",
       "      <td>Lasagne</td>\n",
       "      <td>Alternative</td>\n",
       "      <td>Keine Lieblingssportart Lasagne Alternative</td>\n",
       "    </tr>\n",
       "    <tr>\n",
       "      <th>3</th>\n",
       "      <td>Trampolin</td>\n",
       "      <td>Burger</td>\n",
       "      <td>Kein Lieblingsgenre</td>\n",
       "      <td>Trampolin Burger Kein Lieblingsgenre</td>\n",
       "    </tr>\n",
       "    <tr>\n",
       "      <th>4</th>\n",
       "      <td>Klettern</td>\n",
       "      <td>Dampfnudeln</td>\n",
       "      <td>Kein Lieblingsgenre</td>\n",
       "      <td>Klettern Dampfnudeln Kein Lieblingsgenre</td>\n",
       "    </tr>\n",
       "    <tr>\n",
       "      <th>5</th>\n",
       "      <td>Bouldern</td>\n",
       "      <td>Pho</td>\n",
       "      <td>Kein Lieblingsgenre</td>\n",
       "      <td>Bouldern Pho Kein Lieblingsgenre</td>\n",
       "    </tr>\n",
       "    <tr>\n",
       "      <th>6</th>\n",
       "      <td>Keine Lieblingssportart</td>\n",
       "      <td>Tomaten</td>\n",
       "      <td>Pop</td>\n",
       "      <td>Keine Lieblingssportart Tomaten Pop</td>\n",
       "    </tr>\n",
       "    <tr>\n",
       "      <th>7</th>\n",
       "      <td>Fußball</td>\n",
       "      <td>Pasta</td>\n",
       "      <td>Alternative</td>\n",
       "      <td>Fußball Pasta Alternative</td>\n",
       "    </tr>\n",
       "    <tr>\n",
       "      <th>8</th>\n",
       "      <td>Schnorcheln</td>\n",
       "      <td>Pizza</td>\n",
       "      <td>Rap/Hip Hop</td>\n",
       "      <td>Schnorcheln Pizza Rap/Hip Hop</td>\n",
       "    </tr>\n",
       "    <tr>\n",
       "      <th>9</th>\n",
       "      <td>Tennis</td>\n",
       "      <td>Sushi</td>\n",
       "      <td>Alternative</td>\n",
       "      <td>Tennis Sushi Alternative</td>\n",
       "    </tr>\n",
       "  </tbody>\n",
       "</table>\n",
       "</div>"
      ],
      "text/plain": [
       "         lieblingssportart  lieblingsessen       lieblingsgenre   \n",
       "0                   Joggen  Vegane Lasagne                 Rock  \\\n",
       "1                  Fußball      Butterbrot                 Rock   \n",
       "2  Keine Lieblingssportart         Lasagne          Alternative   \n",
       "3                Trampolin          Burger  Kein Lieblingsgenre   \n",
       "4                 Klettern     Dampfnudeln  Kein Lieblingsgenre   \n",
       "5                 Bouldern             Pho  Kein Lieblingsgenre   \n",
       "6  Keine Lieblingssportart         Tomaten                  Pop   \n",
       "7                  Fußball           Pasta          Alternative   \n",
       "8              Schnorcheln           Pizza          Rap/Hip Hop   \n",
       "9                   Tennis           Sushi          Alternative   \n",
       "\n",
       "                                      combined  \n",
       "0                   Joggen Vegane Lasagne Rock  \n",
       "1                      Fußball Butterbrot Rock  \n",
       "2  Keine Lieblingssportart Lasagne Alternative  \n",
       "3         Trampolin Burger Kein Lieblingsgenre  \n",
       "4     Klettern Dampfnudeln Kein Lieblingsgenre  \n",
       "5             Bouldern Pho Kein Lieblingsgenre  \n",
       "6          Keine Lieblingssportart Tomaten Pop  \n",
       "7                    Fußball Pasta Alternative  \n",
       "8                Schnorcheln Pizza Rap/Hip Hop  \n",
       "9                     Tennis Sushi Alternative  "
      ]
     },
     "execution_count": 5,
     "metadata": {},
     "output_type": "execute_result"
    }
   ],
   "source": [
    "data_frame_content = {\n",
    "    \"lieblingssportart\": text_data_lieblingssportart,\n",
    "    \"lieblingsessen\": text_data_lieblingsessen,\n",
    "    \"lieblingsgenre\": text_data_lieblingsgenre,\n",
    "    \"combined\": text_data_combined\n",
    "}\n",
    "\n",
    "text_data = pd.DataFrame(data_frame_content)\n",
    "\n",
    "text_data.head(10)\n"
   ]
  },
  {
   "cell_type": "markdown",
   "metadata": {},
   "source": [
    "# 2. Wordvektoren aus Textdaten"
   ]
  },
  {
   "cell_type": "markdown",
   "metadata": {},
   "source": [
    "## 2.1 Tfidf Vectoren"
   ]
  },
  {
   "cell_type": "code",
   "execution_count": 6,
   "metadata": {},
   "outputs": [
    {
     "data": {
      "text/plain": [
       "array(['badminton', 'basketball', 'bogenschießen', 'bouldern',\n",
       "       'calisthenics', 'fahren', 'fitness', 'football', 'fußball',\n",
       "       'hockey', 'inlineskaten', 'joggen', 'kampfsport', 'karate',\n",
       "       'keine', 'klettern', 'kraftsport', 'lieblingssportart', 'padel',\n",
       "       'radfahren', 'reiten', 'ruderboot', 'schnorcheln', 'schwimmen',\n",
       "       'ski', 'sport', 'squash', 'tanzen', 'tauchen', 'tennis',\n",
       "       'thaiboxen', 'tischtennis', 'trampolin', 'volleyball', 'yoga'],\n",
       "      dtype=object)"
      ]
     },
     "execution_count": 6,
     "metadata": {},
     "output_type": "execute_result"
    }
   ],
   "source": [
    "tfidf_lieblingssportart = TfidfVectorizer(max_df=0.25, min_df=1)\n",
    "tfidf_vectors_lieblingssportart = tfidf_lieblingssportart.fit_transform(text_data.lieblingssportart)\n",
    "tfidf_lieblingssportart.get_feature_names_out()"
   ]
  },
  {
   "cell_type": "code",
   "execution_count": 7,
   "metadata": {},
   "outputs": [
    {
     "data": {
      "text/plain": [
       "array(['asiatische', 'bleu', 'bo', 'bratkartoffeln', 'burger', 'burrito',\n",
       "       'butterbrot', 'carbonara', 'cordon', 'curry', 'dakgangjeong',\n",
       "       'dampfnudeln', 'döner', 'gemüse', 'gemüsepfanne', 'gurke',\n",
       "       'gurkensalat', 'humus', 'hähnchen', 'hühnchen', 'in', 'kein',\n",
       "       'koreanisches', 'lachs', 'lasagne', 'lieblingsessen', 'mit',\n",
       "       'mozzarella', 'nudeln', 'ofenkartoffeln', 'pasta', 'pfannkuchen',\n",
       "       'pho', 'pilzen', 'pizza', 'pommes', 'ramen', 'reis', 'reispfanne',\n",
       "       'risotto', 'sahnesauce', 'shakshuka', 'sojasoße', 'suppe', 'sushi',\n",
       "       'tofu', 'tomaten', 'tortelini', 'und', 'vegane', 'viel', 'yaprak'],\n",
       "      dtype=object)"
      ]
     },
     "execution_count": 7,
     "metadata": {},
     "output_type": "execute_result"
    }
   ],
   "source": [
    "tfidf_lieblingsessen = TfidfVectorizer(max_df=0.25, min_df=1)\n",
    "tfidf_vectors_lieblingsessen = tfidf_lieblingsessen.fit_transform(text_data.lieblingsessen)\n",
    "tfidf_lieblingsessen.get_feature_names_out()"
   ]
  },
  {
   "cell_type": "code",
   "execution_count": 8,
   "metadata": {},
   "outputs": [
    {
     "data": {
      "text/plain": [
       "array(['alternative', 'electro', 'filme', 'heavy', 'kein', 'klassik',\n",
       "       'lieblingsgenre', 'metal', 'pop', 'rock', 'videospiele'],\n",
       "      dtype=object)"
      ]
     },
     "execution_count": 8,
     "metadata": {},
     "output_type": "execute_result"
    }
   ],
   "source": [
    "tfidf_lieblingsgenre = TfidfVectorizer(max_df=0.25, min_df=1)\n",
    "tfidf_vectors_lieblingsgenre = tfidf_lieblingsgenre.fit_transform(text_data.lieblingsgenre)\n",
    "tfidf_lieblingsgenre.get_feature_names_out()"
   ]
  },
  {
   "cell_type": "markdown",
   "metadata": {},
   "source": [
    "Die TF-IDF Vektoren sind für die Weiter Clustern der Daten aber eher nicht zu benutzen, da dafür zu wenig und maxmimal 3 Wort Textdaten vorliegen. Man könnte die TF-IDF Vektoren aber nutzen, um die Antworten zu filtern und die wenigsten oder auch meist geschriebenen Antworten herauszufiltern."
   ]
  },
  {
   "cell_type": "markdown",
   "metadata": {},
   "source": [
    "## 2.2 Spacy Wordvektoren basierend auf der Deutschensprache\n",
    "Im Folgenden werden alle Wortvektoren von allen Freitext-Fragen mit Hilfe des deutschen Datensatz von Spacy ermittelt und dem DataFrame angefügt. Diese werden dann genutzt um die Daten zu Clustern. "
   ]
  },
  {
   "cell_type": "code",
   "execution_count": 9,
   "metadata": {},
   "outputs": [],
   "source": [
    "nlp = spacy.load(\"de_core_news_md\")"
   ]
  },
  {
   "cell_type": "code",
   "execution_count": 10,
   "metadata": {},
   "outputs": [],
   "source": [
    "tokens_lieblingsportart = []\n",
    "for entry in text_data.lieblingssportart:\n",
    "    tokens_lieblingsportart.append(nlp(entry))\n",
    "text_data[\"tokens_lieblingssportart\"] = tokens_lieblingsportart"
   ]
  },
  {
   "cell_type": "code",
   "execution_count": 11,
   "metadata": {},
   "outputs": [],
   "source": [
    "tokens_lieblingsessen = []\n",
    "for entry in text_data.lieblingsessen:\n",
    "    tokens_lieblingsessen.append(nlp(entry))\n",
    "text_data[\"tokens_lieblingsessen\"] = tokens_lieblingsessen"
   ]
  },
  {
   "cell_type": "code",
   "execution_count": 12,
   "metadata": {},
   "outputs": [],
   "source": [
    "tokens_lieblingsgenre = []\n",
    "for entry in text_data.lieblingsgenre:\n",
    "    tokens_lieblingsgenre.append(nlp(entry))\n",
    "text_data[\"tokens_lieblingsgenre\"] = tokens_lieblingsgenre"
   ]
  },
  {
   "cell_type": "code",
   "execution_count": 13,
   "metadata": {},
   "outputs": [],
   "source": [
    "tokens_combined = []\n",
    "for entry in text_data.combined:\n",
    "    tokens_combined.append(nlp(entry))\n",
    "text_data[\"tokens_combined\"] = tokens_combined"
   ]
  },
  {
   "cell_type": "code",
   "execution_count": 14,
   "metadata": {},
   "outputs": [
    {
     "data": {
      "text/html": [
       "<div>\n",
       "<style scoped>\n",
       "    .dataframe tbody tr th:only-of-type {\n",
       "        vertical-align: middle;\n",
       "    }\n",
       "\n",
       "    .dataframe tbody tr th {\n",
       "        vertical-align: top;\n",
       "    }\n",
       "\n",
       "    .dataframe thead th {\n",
       "        text-align: right;\n",
       "    }\n",
       "</style>\n",
       "<table border=\"1\" class=\"dataframe\">\n",
       "  <thead>\n",
       "    <tr style=\"text-align: right;\">\n",
       "      <th></th>\n",
       "      <th>lieblingssportart</th>\n",
       "      <th>lieblingsessen</th>\n",
       "      <th>lieblingsgenre</th>\n",
       "      <th>combined</th>\n",
       "      <th>tokens_lieblingssportart</th>\n",
       "      <th>tokens_lieblingsessen</th>\n",
       "      <th>tokens_lieblingsgenre</th>\n",
       "      <th>tokens_combined</th>\n",
       "    </tr>\n",
       "  </thead>\n",
       "  <tbody>\n",
       "    <tr>\n",
       "      <th>0</th>\n",
       "      <td>Joggen</td>\n",
       "      <td>Vegane Lasagne</td>\n",
       "      <td>Rock</td>\n",
       "      <td>Joggen Vegane Lasagne Rock</td>\n",
       "      <td>(Joggen)</td>\n",
       "      <td>(Vegane, Lasagne)</td>\n",
       "      <td>(Rock)</td>\n",
       "      <td>(Joggen, Vegane, Lasagne, Rock)</td>\n",
       "    </tr>\n",
       "    <tr>\n",
       "      <th>1</th>\n",
       "      <td>Fußball</td>\n",
       "      <td>Butterbrot</td>\n",
       "      <td>Rock</td>\n",
       "      <td>Fußball Butterbrot Rock</td>\n",
       "      <td>(Fußball)</td>\n",
       "      <td>(Butterbrot)</td>\n",
       "      <td>(Rock)</td>\n",
       "      <td>(Fußball, Butterbrot, Rock)</td>\n",
       "    </tr>\n",
       "    <tr>\n",
       "      <th>2</th>\n",
       "      <td>Keine Lieblingssportart</td>\n",
       "      <td>Lasagne</td>\n",
       "      <td>Alternative</td>\n",
       "      <td>Keine Lieblingssportart Lasagne Alternative</td>\n",
       "      <td>(Keine, Lieblingssportart)</td>\n",
       "      <td>(Lasagne)</td>\n",
       "      <td>(Alternative)</td>\n",
       "      <td>(Keine, Lieblingssportart, Lasagne, Alternative)</td>\n",
       "    </tr>\n",
       "    <tr>\n",
       "      <th>3</th>\n",
       "      <td>Trampolin</td>\n",
       "      <td>Burger</td>\n",
       "      <td>Kein Lieblingsgenre</td>\n",
       "      <td>Trampolin Burger Kein Lieblingsgenre</td>\n",
       "      <td>(Trampolin)</td>\n",
       "      <td>(Burger)</td>\n",
       "      <td>(Kein, Lieblingsgenre)</td>\n",
       "      <td>(Trampolin, Burger, Kein, Lieblingsgenre)</td>\n",
       "    </tr>\n",
       "    <tr>\n",
       "      <th>4</th>\n",
       "      <td>Klettern</td>\n",
       "      <td>Dampfnudeln</td>\n",
       "      <td>Kein Lieblingsgenre</td>\n",
       "      <td>Klettern Dampfnudeln Kein Lieblingsgenre</td>\n",
       "      <td>(Klettern)</td>\n",
       "      <td>(Dampfnudeln)</td>\n",
       "      <td>(Kein, Lieblingsgenre)</td>\n",
       "      <td>(Klettern, Dampfnudeln, Kein, Lieblingsgenre)</td>\n",
       "    </tr>\n",
       "    <tr>\n",
       "      <th>5</th>\n",
       "      <td>Bouldern</td>\n",
       "      <td>Pho</td>\n",
       "      <td>Kein Lieblingsgenre</td>\n",
       "      <td>Bouldern Pho Kein Lieblingsgenre</td>\n",
       "      <td>(Bouldern)</td>\n",
       "      <td>(Pho)</td>\n",
       "      <td>(Kein, Lieblingsgenre)</td>\n",
       "      <td>(Bouldern, Pho, Kein, Lieblingsgenre)</td>\n",
       "    </tr>\n",
       "    <tr>\n",
       "      <th>6</th>\n",
       "      <td>Keine Lieblingssportart</td>\n",
       "      <td>Tomaten</td>\n",
       "      <td>Pop</td>\n",
       "      <td>Keine Lieblingssportart Tomaten Pop</td>\n",
       "      <td>(Keine, Lieblingssportart)</td>\n",
       "      <td>(Tomaten)</td>\n",
       "      <td>(Pop)</td>\n",
       "      <td>(Keine, Lieblingssportart, Tomaten, Pop)</td>\n",
       "    </tr>\n",
       "    <tr>\n",
       "      <th>7</th>\n",
       "      <td>Fußball</td>\n",
       "      <td>Pasta</td>\n",
       "      <td>Alternative</td>\n",
       "      <td>Fußball Pasta Alternative</td>\n",
       "      <td>(Fußball)</td>\n",
       "      <td>(Pasta)</td>\n",
       "      <td>(Alternative)</td>\n",
       "      <td>(Fußball, Pasta, Alternative)</td>\n",
       "    </tr>\n",
       "    <tr>\n",
       "      <th>8</th>\n",
       "      <td>Schnorcheln</td>\n",
       "      <td>Pizza</td>\n",
       "      <td>Rap/Hip Hop</td>\n",
       "      <td>Schnorcheln Pizza Rap/Hip Hop</td>\n",
       "      <td>(Schnorcheln)</td>\n",
       "      <td>(Pizza)</td>\n",
       "      <td>(Rap, /, Hip, Hop)</td>\n",
       "      <td>(Schnorcheln, Pizza, Rap, /, Hip, Hop)</td>\n",
       "    </tr>\n",
       "    <tr>\n",
       "      <th>9</th>\n",
       "      <td>Tennis</td>\n",
       "      <td>Sushi</td>\n",
       "      <td>Alternative</td>\n",
       "      <td>Tennis Sushi Alternative</td>\n",
       "      <td>(Tennis)</td>\n",
       "      <td>(Sushi)</td>\n",
       "      <td>(Alternative)</td>\n",
       "      <td>(Tennis, Sushi, Alternative)</td>\n",
       "    </tr>\n",
       "  </tbody>\n",
       "</table>\n",
       "</div>"
      ],
      "text/plain": [
       "         lieblingssportart  lieblingsessen       lieblingsgenre   \n",
       "0                   Joggen  Vegane Lasagne                 Rock  \\\n",
       "1                  Fußball      Butterbrot                 Rock   \n",
       "2  Keine Lieblingssportart         Lasagne          Alternative   \n",
       "3                Trampolin          Burger  Kein Lieblingsgenre   \n",
       "4                 Klettern     Dampfnudeln  Kein Lieblingsgenre   \n",
       "5                 Bouldern             Pho  Kein Lieblingsgenre   \n",
       "6  Keine Lieblingssportart         Tomaten                  Pop   \n",
       "7                  Fußball           Pasta          Alternative   \n",
       "8              Schnorcheln           Pizza          Rap/Hip Hop   \n",
       "9                   Tennis           Sushi          Alternative   \n",
       "\n",
       "                                      combined    tokens_lieblingssportart   \n",
       "0                   Joggen Vegane Lasagne Rock                    (Joggen)  \\\n",
       "1                      Fußball Butterbrot Rock                   (Fußball)   \n",
       "2  Keine Lieblingssportart Lasagne Alternative  (Keine, Lieblingssportart)   \n",
       "3         Trampolin Burger Kein Lieblingsgenre                 (Trampolin)   \n",
       "4     Klettern Dampfnudeln Kein Lieblingsgenre                  (Klettern)   \n",
       "5             Bouldern Pho Kein Lieblingsgenre                  (Bouldern)   \n",
       "6          Keine Lieblingssportart Tomaten Pop  (Keine, Lieblingssportart)   \n",
       "7                    Fußball Pasta Alternative                   (Fußball)   \n",
       "8                Schnorcheln Pizza Rap/Hip Hop               (Schnorcheln)   \n",
       "9                     Tennis Sushi Alternative                    (Tennis)   \n",
       "\n",
       "  tokens_lieblingsessen   tokens_lieblingsgenre   \n",
       "0     (Vegane, Lasagne)                  (Rock)  \\\n",
       "1          (Butterbrot)                  (Rock)   \n",
       "2             (Lasagne)           (Alternative)   \n",
       "3              (Burger)  (Kein, Lieblingsgenre)   \n",
       "4         (Dampfnudeln)  (Kein, Lieblingsgenre)   \n",
       "5                 (Pho)  (Kein, Lieblingsgenre)   \n",
       "6             (Tomaten)                   (Pop)   \n",
       "7               (Pasta)           (Alternative)   \n",
       "8               (Pizza)      (Rap, /, Hip, Hop)   \n",
       "9               (Sushi)           (Alternative)   \n",
       "\n",
       "                                    tokens_combined  \n",
       "0                   (Joggen, Vegane, Lasagne, Rock)  \n",
       "1                       (Fußball, Butterbrot, Rock)  \n",
       "2  (Keine, Lieblingssportart, Lasagne, Alternative)  \n",
       "3         (Trampolin, Burger, Kein, Lieblingsgenre)  \n",
       "4     (Klettern, Dampfnudeln, Kein, Lieblingsgenre)  \n",
       "5             (Bouldern, Pho, Kein, Lieblingsgenre)  \n",
       "6          (Keine, Lieblingssportart, Tomaten, Pop)  \n",
       "7                     (Fußball, Pasta, Alternative)  \n",
       "8            (Schnorcheln, Pizza, Rap, /, Hip, Hop)  \n",
       "9                      (Tennis, Sushi, Alternative)  "
      ]
     },
     "execution_count": 14,
     "metadata": {},
     "output_type": "execute_result"
    }
   ],
   "source": [
    "text_data.head(10)"
   ]
  },
  {
   "cell_type": "markdown",
   "metadata": {},
   "source": [
    "# 3. Clustering mit Wortvektoren\n",
    "In diesem Abschnitt werden die vorher ermittelten Wordvektoren genutzt, um die Daten zu Clustern."
   ]
  },
  {
   "cell_type": "markdown",
   "metadata": {},
   "source": [
    "## 3.1 Dimensionsreduzierung der Wordvektoren\n",
    "Um die Daten clustern zu können, müssen die Wordvektoren erst auf zwei Dimensionen reduziert werden. Dafür wird der TSNE Algorithmus genutzt."
   ]
  },
  {
   "cell_type": "code",
   "execution_count": 15,
   "metadata": {},
   "outputs": [],
   "source": [
    "tsne = TSNE(random_state=42)\n",
    "lieblingssportart_vectors = np.array([token.vector for token in text_data.tokens_lieblingssportart])\n",
    "\n",
    "tsne_vectors_lieblingssportart = tsne.fit_transform(lieblingssportart_vectors)"
   ]
  },
  {
   "cell_type": "code",
   "execution_count": 16,
   "metadata": {},
   "outputs": [],
   "source": [
    "lieblingsessen_vectors = np.array([token.vector for token in text_data.tokens_lieblingsessen])\n",
    "tsne_vectors_lieblingsessen = tsne.fit_transform(lieblingsessen_vectors)"
   ]
  },
  {
   "cell_type": "code",
   "execution_count": 17,
   "metadata": {},
   "outputs": [],
   "source": [
    "lieblingsgenre_vectors = np.array([token.vector for token in text_data.tokens_lieblingsgenre])\n",
    "tsne_vectors_lieblingsgenre = tsne.fit_transform(lieblingsgenre_vectors)"
   ]
  },
  {
   "cell_type": "code",
   "execution_count": 18,
   "metadata": {},
   "outputs": [],
   "source": [
    "tsne_vectors = { \n",
    "    'x_coord_lieblingssportart' : tsne_vectors_lieblingssportart[:, 0], \n",
    "    'y_coord_lieblingssportart' : tsne_vectors_lieblingssportart[:, 1],\n",
    "    'x_coord_lieblingsessen' : tsne_vectors_lieblingsessen[:, 0], \n",
    "    'y_coord_lieblingsessen' : tsne_vectors_lieblingsessen[:, 1],\n",
    "    'x_coord_lieblingsgenre' : tsne_vectors_lieblingsgenre[:, 0], \n",
    "    'y_coord_lieblingsgenre' : tsne_vectors_lieblingsgenre[:, 1]\n",
    "}\n",
    "\n",
    "tsne_df = pd.DataFrame(tsne_vectors)"
   ]
  },
  {
   "cell_type": "markdown",
   "metadata": {},
   "source": [
    "## 3.2 Erstellen von Cluster ausschließlich mit den reduzierten Wordvektoren\n",
    "Die nun reduzierten Wordvektoren, der einzelnen Freitext-Fragen, werden nun von uns genutzt zum Clustern. Wir machen dafür eine herachisches Clustering zu 3 Clustern, genau wie im Clustering Teil."
   ]
  },
  {
   "cell_type": "code",
   "execution_count": 19,
   "metadata": {},
   "outputs": [
    {
     "data": {
      "text/html": [
       "<div>\n",
       "<style scoped>\n",
       "    .dataframe tbody tr th:only-of-type {\n",
       "        vertical-align: middle;\n",
       "    }\n",
       "\n",
       "    .dataframe tbody tr th {\n",
       "        vertical-align: top;\n",
       "    }\n",
       "\n",
       "    .dataframe thead th {\n",
       "        text-align: right;\n",
       "    }\n",
       "</style>\n",
       "<table border=\"1\" class=\"dataframe\">\n",
       "  <thead>\n",
       "    <tr style=\"text-align: right;\">\n",
       "      <th></th>\n",
       "      <th>lieblingssportart</th>\n",
       "      <th>lieblingsessen</th>\n",
       "      <th>lieblingsgenre</th>\n",
       "      <th>combined</th>\n",
       "      <th>tokens_lieblingssportart</th>\n",
       "      <th>tokens_lieblingsessen</th>\n",
       "      <th>tokens_lieblingsgenre</th>\n",
       "      <th>tokens_combined</th>\n",
       "      <th>cluster</th>\n",
       "    </tr>\n",
       "  </thead>\n",
       "  <tbody>\n",
       "    <tr>\n",
       "      <th>0</th>\n",
       "      <td>Joggen</td>\n",
       "      <td>Vegane Lasagne</td>\n",
       "      <td>Rock</td>\n",
       "      <td>Joggen Vegane Lasagne Rock</td>\n",
       "      <td>(Joggen)</td>\n",
       "      <td>(Vegane, Lasagne)</td>\n",
       "      <td>(Rock)</td>\n",
       "      <td>(Joggen, Vegane, Lasagne, Rock)</td>\n",
       "      <td>1</td>\n",
       "    </tr>\n",
       "    <tr>\n",
       "      <th>1</th>\n",
       "      <td>Fußball</td>\n",
       "      <td>Butterbrot</td>\n",
       "      <td>Rock</td>\n",
       "      <td>Fußball Butterbrot Rock</td>\n",
       "      <td>(Fußball)</td>\n",
       "      <td>(Butterbrot)</td>\n",
       "      <td>(Rock)</td>\n",
       "      <td>(Fußball, Butterbrot, Rock)</td>\n",
       "      <td>0</td>\n",
       "    </tr>\n",
       "    <tr>\n",
       "      <th>2</th>\n",
       "      <td>Keine Lieblingssportart</td>\n",
       "      <td>Lasagne</td>\n",
       "      <td>Alternative</td>\n",
       "      <td>Keine Lieblingssportart Lasagne Alternative</td>\n",
       "      <td>(Keine, Lieblingssportart)</td>\n",
       "      <td>(Lasagne)</td>\n",
       "      <td>(Alternative)</td>\n",
       "      <td>(Keine, Lieblingssportart, Lasagne, Alternative)</td>\n",
       "      <td>0</td>\n",
       "    </tr>\n",
       "    <tr>\n",
       "      <th>3</th>\n",
       "      <td>Trampolin</td>\n",
       "      <td>Burger</td>\n",
       "      <td>Kein Lieblingsgenre</td>\n",
       "      <td>Trampolin Burger Kein Lieblingsgenre</td>\n",
       "      <td>(Trampolin)</td>\n",
       "      <td>(Burger)</td>\n",
       "      <td>(Kein, Lieblingsgenre)</td>\n",
       "      <td>(Trampolin, Burger, Kein, Lieblingsgenre)</td>\n",
       "      <td>1</td>\n",
       "    </tr>\n",
       "    <tr>\n",
       "      <th>4</th>\n",
       "      <td>Klettern</td>\n",
       "      <td>Dampfnudeln</td>\n",
       "      <td>Kein Lieblingsgenre</td>\n",
       "      <td>Klettern Dampfnudeln Kein Lieblingsgenre</td>\n",
       "      <td>(Klettern)</td>\n",
       "      <td>(Dampfnudeln)</td>\n",
       "      <td>(Kein, Lieblingsgenre)</td>\n",
       "      <td>(Klettern, Dampfnudeln, Kein, Lieblingsgenre)</td>\n",
       "      <td>0</td>\n",
       "    </tr>\n",
       "  </tbody>\n",
       "</table>\n",
       "</div>"
      ],
      "text/plain": [
       "         lieblingssportart  lieblingsessen       lieblingsgenre   \n",
       "0                   Joggen  Vegane Lasagne                 Rock  \\\n",
       "1                  Fußball      Butterbrot                 Rock   \n",
       "2  Keine Lieblingssportart         Lasagne          Alternative   \n",
       "3                Trampolin          Burger  Kein Lieblingsgenre   \n",
       "4                 Klettern     Dampfnudeln  Kein Lieblingsgenre   \n",
       "\n",
       "                                      combined    tokens_lieblingssportart   \n",
       "0                   Joggen Vegane Lasagne Rock                    (Joggen)  \\\n",
       "1                      Fußball Butterbrot Rock                   (Fußball)   \n",
       "2  Keine Lieblingssportart Lasagne Alternative  (Keine, Lieblingssportart)   \n",
       "3         Trampolin Burger Kein Lieblingsgenre                 (Trampolin)   \n",
       "4     Klettern Dampfnudeln Kein Lieblingsgenre                  (Klettern)   \n",
       "\n",
       "  tokens_lieblingsessen   tokens_lieblingsgenre   \n",
       "0     (Vegane, Lasagne)                  (Rock)  \\\n",
       "1          (Butterbrot)                  (Rock)   \n",
       "2             (Lasagne)           (Alternative)   \n",
       "3              (Burger)  (Kein, Lieblingsgenre)   \n",
       "4         (Dampfnudeln)  (Kein, Lieblingsgenre)   \n",
       "\n",
       "                                    tokens_combined  cluster  \n",
       "0                   (Joggen, Vegane, Lasagne, Rock)        1  \n",
       "1                       (Fußball, Butterbrot, Rock)        0  \n",
       "2  (Keine, Lieblingssportart, Lasagne, Alternative)        0  \n",
       "3         (Trampolin, Burger, Kein, Lieblingsgenre)        1  \n",
       "4     (Klettern, Dampfnudeln, Kein, Lieblingsgenre)        0  "
      ]
     },
     "execution_count": 19,
     "metadata": {},
     "output_type": "execute_result"
    }
   ],
   "source": [
    "ward = AgglomerativeClustering(linkage=\"ward\",\n",
    "                               n_clusters=3)\n",
    "\n",
    "ward.fit(tsne_df)\n",
    "\n",
    "# Cluster-Zentren\n",
    "text_data[\"cluster\"] = ward.labels_\n",
    "text_data.head()"
   ]
  },
  {
   "cell_type": "code",
   "execution_count": 20,
   "metadata": {},
   "outputs": [],
   "source": [
    "#!pip install plotly"
   ]
  },
  {
   "cell_type": "code",
   "execution_count": 21,
   "metadata": {},
   "outputs": [],
   "source": [
    "combined_vectors = np.array([token.vector for token in text_data.tokens_combined])\n",
    "tsne_vectors_combined = tsne.fit_transform(combined_vectors)\n",
    "text_data[\"x_coord\"] = tsne_vectors_combined[:, 0]\n",
    "text_data[\"y_coord\"] = tsne_vectors_combined[:, 1]"
   ]
  },
  {
   "cell_type": "code",
   "execution_count": 22,
   "metadata": {},
   "outputs": [
    {
     "data": {
      "application/vnd.plotly.v1+json": {
       "config": {
        "plotlyServerURL": "https://plot.ly"
       },
       "data": [
        {
         "customdata": [
          [
           "Joggen",
           "Vegane Lasagne",
           "Rock"
          ],
          [
           "Fußball",
           "Butterbrot",
           "Rock"
          ],
          [
           "Keine Lieblingssportart",
           "Lasagne",
           "Alternative"
          ],
          [
           "Trampolin",
           "Burger",
           "Kein Lieblingsgenre"
          ],
          [
           "Klettern",
           "Dampfnudeln",
           "Kein Lieblingsgenre"
          ],
          [
           "Bouldern",
           "Pho",
           "Kein Lieblingsgenre"
          ],
          [
           "Keine Lieblingssportart",
           "Tomaten",
           "Pop"
          ],
          [
           "Fußball",
           "Pasta",
           "Alternative"
          ],
          [
           "Schnorcheln",
           "Pizza",
           "Rap/Hip Hop"
          ],
          [
           "Tennis",
           "Sushi",
           "Alternative"
          ],
          [
           "Keine Lieblingssportart",
           "Koreanisches Dakgangjeong",
           "Alternative"
          ],
          [
           "Kampfsport",
           "Döner",
           "Kein Lieblingsgenre"
          ],
          [
           "Football",
           "Asiatische Nudeln",
           "Pop"
          ],
          [
           "Thaiboxen",
           "Hühnchen",
           "Rap/Hip Hop"
          ],
          [
           "Calisthenics",
           "Curry",
           "Rap/Hip Hop"
          ],
          [
           "Calisthenics",
           "Burger",
           "Rap/Hip Hop"
          ],
          [
           "Tauchen",
           "Pfannkuchen",
           "Rap/Hip Hop"
          ],
          [
           "Tischtennis",
           "Burger",
           "Rap/Hip Hop"
          ],
          [
           "Tischtennis",
           "Risotto",
           "Rock"
          ],
          [
           "Basketball",
           "Burger",
           "Rock"
          ],
          [
           "Fußball",
           "Pizza",
           "Pop"
          ],
          [
           "Schwimmen",
           "Burger",
           "Pop"
          ],
          [
           "Fußball",
           "Pizza",
           "Rap/Hip Hop"
          ],
          [
           "Basketball",
           "Reis mit Sojasoße Hähnchen",
           "Rock"
          ],
          [
           "Radfahren",
           "Kein Lieblingsessen",
           "Kein Lieblingsgenre"
          ],
          [
           "Fitness",
           "Döner",
           "Electro"
          ],
          [
           "Tischtennis",
           "Burrito",
           "Electro"
          ],
          [
           "Fußball",
           "Pizza",
           "Rap/Hip Hop"
          ],
          [
           "E-Sport ",
           "Shakshuka",
           "Rap/Hip Hop"
          ],
          [
           "Reiten",
           "Pasta",
           "Pop"
          ],
          [
           "Tischtennis",
           "Pizza",
           "Alternative"
          ],
          [
           "Karate",
           "Lasagne",
           "Rap/Hip Hop"
          ],
          [
           "Keine Lieblingssportart",
           "Döner",
           "Alternative"
          ],
          [
           "Badminton",
           "Pasta",
           "Kein Lieblingsgenre"
          ],
          [
           "Bouldern",
           "Lasagne",
           "Rock"
          ],
          [
           "Radfahren",
           "Gurke mit Mozzarella und Tofu",
           "Pop"
          ],
          [
           "Tanzen",
           "Pfannkuchen",
           "Pop"
          ],
          [
           "Kraftsport ",
           "Döner",
           "Kein Lieblingsgenre"
          ],
          [
           "Volleyball",
           "Sushi",
           "Rap/Hip Hop"
          ],
          [
           "Bogenschießen",
           "Gemüsepfanne mit Reis",
           "Heavy Metal"
          ],
          [
           "Bouldern",
           "Kein Lieblingsessen",
           "Kein Lieblingsgenre"
          ],
          [
           "Hockey",
           "Lasagne",
           "Rock"
          ],
          [
           "Badminton",
           "Burger",
           "Filme/Videospiele"
          ],
          [
           "Reiten",
           "Tortelini",
           "Klassik"
          ],
          [
           "Squash",
           "Sushi",
           "R&B"
          ],
          [
           "Tauchen",
           "Pfannkuchen",
           "Rap/Hip Hop"
          ],
          [
           "Fußball",
           "Pasta",
           "Rap/Hip Hop"
          ],
          [
           "Fußball",
           "Yaprak",
           "Rock"
          ],
          [
           "Fußball",
           "Lachs mit Bratkartoffeln und Gurkensalat",
           "Rock"
          ],
          [
           "Klettern",
           "Pizza",
           "Rap/Hip Hop"
          ],
          [
           "Yoga",
           "Ramen",
           "Electro"
          ],
          [
           "Badminton",
           "Humus",
           "Alternative"
          ],
          [
           "Inlineskaten",
           "Pasta",
           "Alternative"
          ],
          [
           "Basketball",
           "Cordon bleu",
           "Alternative"
          ],
          [
           "Fußball",
           "Reispfanne mit viel Gemüse",
           "Pop"
          ],
          [
           "Volleyball",
           "Carbonara",
           "Kein Lieblingsgenre"
          ],
          [
           "Joggen",
           "Ofenkartoffeln mit Gemüse",
           "Alternative"
          ],
          [
           "Keine Lieblingssportart",
           "Pommes",
           "Rap/Hip Hop"
          ],
          [
           "Fußball",
           "Kein Lieblingsessen",
           "Kein Lieblingsgenre"
          ],
          [
           "Ruderboot fahren",
           "Nudeln mit Pilzen in Sahnesauce",
           "Rap/Hip Hop"
          ],
          [
           "Padel-Tennis",
           "Vegane Pho Bo Suppe",
           "Pop"
          ],
          [
           "Ski fahren",
           "Kein Lieblingsessen",
           "Kein Lieblingsgenre"
          ]
         ],
         "hovertemplate": "x_coord=%{x}<br>y_coord=%{y}<br>lieblingssportart=%{customdata[0]}<br>lieblingsessen=%{customdata[1]}<br>lieblingsgenre=%{customdata[2]}<br>cluster=%{marker.color}<extra></extra>",
         "legendgroup": "",
         "marker": {
          "color": [
           1,
           0,
           0,
           1,
           0,
           1,
           0,
           0,
           2,
           0,
           0,
           1,
           0,
           2,
           2,
           2,
           2,
           2,
           1,
           1,
           0,
           0,
           2,
           1,
           1,
           1,
           1,
           2,
           2,
           0,
           0,
           2,
           0,
           0,
           1,
           0,
           0,
           1,
           2,
           1,
           1,
           1,
           2,
           0,
           0,
           2,
           2,
           1,
           1,
           2,
           1,
           0,
           0,
           0,
           0,
           0,
           0,
           2,
           1,
           2,
           0,
           1
          ],
          "coloraxis": "coloraxis",
          "symbol": "circle"
         },
         "mode": "markers",
         "name": "",
         "orientation": "v",
         "showlegend": false,
         "type": "scatter",
         "x": [
          1.8245313167572021,
          0.5679604411125183,
          3.2055776119232178,
          4.902401924133301,
          4.857844352722168,
          5.534844398498535,
          2.6223065853118896,
          3.0147922039031982,
          4.082535266876221,
          3.3604736328125,
          3.1103363037109375,
          4.810385227203369,
          2.4377784729003906,
          4.012669086456299,
          4.7856125831604,
          4.920440673828125,
          4.090461730957031,
          4.921441078186035,
          1.468294620513916,
          1.1369884014129639,
          2.293903350830078,
          2.165029764175415,
          4.262933254241943,
          1.264904499053955,
          5.544639587402344,
          3.8432302474975586,
          3.6823012828826904,
          4.262933254241943,
          4.771238803863525,
          2.1248037815093994,
          3.338966131210327,
          4.6473307609558105,
          3.3160765171051025,
          4.848701477050781,
          1.4155136346817017,
          1.4852243661880493,
          1.785475730895996,
          4.645588397979736,
          4.584519386291504,
          1.3039318323135376,
          5.537887096405029,
          1.3265149593353271,
          5.546702861785889,
          2.417264223098755,
          2.534930467605591,
          4.090461730957031,
          4.51070499420166,
          1.1463855504989624,
          1.3588529825210571,
          4.043225288391113,
          4.093986511230469,
          2.8669378757476807,
          2.87200927734375,
          3.1071455478668213,
          1.3489493131637573,
          4.852737903594971,
          1.7919965982437134,
          4.676451206207275,
          5.574385643005371,
          3.7377007007598877,
          3.6660149097442627,
          5.527624607086182
         ],
         "xaxis": "x",
         "y": [
          -0.841592013835907,
          -0.5585165619850159,
          -2.358670234680176,
          -2.7703962326049805,
          -2.798894166946411,
          -2.1469831466674805,
          -0.5604386329650879,
          -1.991778016090393,
          3.1935391426086426,
          -1.5746285915374756,
          -2.653817892074585,
          -2.3963816165924072,
          0.047692056745290756,
          3.7539665699005127,
          3.8368546962738037,
          3.6179428100585938,
          2.9151597023010254,
          3.376387357711792,
          -0.5453688502311707,
          -0.25717243552207947,
          0.5963807702064514,
          0.4451495110988617,
          3.7471420764923096,
          -1.794830322265625,
          -2.851989269256592,
          -1.0338391065597534,
          -1.2008620500564575,
          3.7471420764923096,
          3.0448198318481445,
          0.41517743468284607,
          -1.7695387601852417,
          3.3051602840423584,
          -2.2926721572875977,
          -2.351196527481079,
          -0.6845579147338867,
          -2.0827836990356445,
          0.8781723380088806,
          -2.266946792602539,
          3.8563742637634277,
          -1.9142521619796753,
          -2.8367624282836914,
          -0.4119327664375305,
          2.6092135906219482,
          -2.7958178520202637,
          0.6588528752326965,
          2.9151597023010254,
          3.4277503490448,
          -0.40723100304603577,
          -1.9662106037139893,
          3.4315850734710693,
          -0.503755509853363,
          -2.8367183208465576,
          -2.1515204906463623,
          -3.73745059967041,
          -2.106013774871826,
          -2.4284157752990723,
          -2.4934804439544678,
          2.8906776905059814,
          -2.807741403579712,
          2.091010093688965,
          0.14189298450946808,
          -3.0887486934661865
         ],
         "yaxis": "y"
        }
       ],
       "layout": {
        "coloraxis": {
         "colorbar": {
          "title": {
           "text": "cluster"
          }
         },
         "colorscale": [
          [
           0,
           "#0d0887"
          ],
          [
           0.1111111111111111,
           "#46039f"
          ],
          [
           0.2222222222222222,
           "#7201a8"
          ],
          [
           0.3333333333333333,
           "#9c179e"
          ],
          [
           0.4444444444444444,
           "#bd3786"
          ],
          [
           0.5555555555555556,
           "#d8576b"
          ],
          [
           0.6666666666666666,
           "#ed7953"
          ],
          [
           0.7777777777777778,
           "#fb9f3a"
          ],
          [
           0.8888888888888888,
           "#fdca26"
          ],
          [
           1,
           "#f0f921"
          ]
         ]
        },
        "legend": {
         "tracegroupgap": 0
        },
        "margin": {
         "t": 60
        },
        "template": {
         "data": {
          "bar": [
           {
            "error_x": {
             "color": "#2a3f5f"
            },
            "error_y": {
             "color": "#2a3f5f"
            },
            "marker": {
             "line": {
              "color": "#E5ECF6",
              "width": 0.5
             },
             "pattern": {
              "fillmode": "overlay",
              "size": 10,
              "solidity": 0.2
             }
            },
            "type": "bar"
           }
          ],
          "barpolar": [
           {
            "marker": {
             "line": {
              "color": "#E5ECF6",
              "width": 0.5
             },
             "pattern": {
              "fillmode": "overlay",
              "size": 10,
              "solidity": 0.2
             }
            },
            "type": "barpolar"
           }
          ],
          "carpet": [
           {
            "aaxis": {
             "endlinecolor": "#2a3f5f",
             "gridcolor": "white",
             "linecolor": "white",
             "minorgridcolor": "white",
             "startlinecolor": "#2a3f5f"
            },
            "baxis": {
             "endlinecolor": "#2a3f5f",
             "gridcolor": "white",
             "linecolor": "white",
             "minorgridcolor": "white",
             "startlinecolor": "#2a3f5f"
            },
            "type": "carpet"
           }
          ],
          "choropleth": [
           {
            "colorbar": {
             "outlinewidth": 0,
             "ticks": ""
            },
            "type": "choropleth"
           }
          ],
          "contour": [
           {
            "colorbar": {
             "outlinewidth": 0,
             "ticks": ""
            },
            "colorscale": [
             [
              0,
              "#0d0887"
             ],
             [
              0.1111111111111111,
              "#46039f"
             ],
             [
              0.2222222222222222,
              "#7201a8"
             ],
             [
              0.3333333333333333,
              "#9c179e"
             ],
             [
              0.4444444444444444,
              "#bd3786"
             ],
             [
              0.5555555555555556,
              "#d8576b"
             ],
             [
              0.6666666666666666,
              "#ed7953"
             ],
             [
              0.7777777777777778,
              "#fb9f3a"
             ],
             [
              0.8888888888888888,
              "#fdca26"
             ],
             [
              1,
              "#f0f921"
             ]
            ],
            "type": "contour"
           }
          ],
          "contourcarpet": [
           {
            "colorbar": {
             "outlinewidth": 0,
             "ticks": ""
            },
            "type": "contourcarpet"
           }
          ],
          "heatmap": [
           {
            "colorbar": {
             "outlinewidth": 0,
             "ticks": ""
            },
            "colorscale": [
             [
              0,
              "#0d0887"
             ],
             [
              0.1111111111111111,
              "#46039f"
             ],
             [
              0.2222222222222222,
              "#7201a8"
             ],
             [
              0.3333333333333333,
              "#9c179e"
             ],
             [
              0.4444444444444444,
              "#bd3786"
             ],
             [
              0.5555555555555556,
              "#d8576b"
             ],
             [
              0.6666666666666666,
              "#ed7953"
             ],
             [
              0.7777777777777778,
              "#fb9f3a"
             ],
             [
              0.8888888888888888,
              "#fdca26"
             ],
             [
              1,
              "#f0f921"
             ]
            ],
            "type": "heatmap"
           }
          ],
          "heatmapgl": [
           {
            "colorbar": {
             "outlinewidth": 0,
             "ticks": ""
            },
            "colorscale": [
             [
              0,
              "#0d0887"
             ],
             [
              0.1111111111111111,
              "#46039f"
             ],
             [
              0.2222222222222222,
              "#7201a8"
             ],
             [
              0.3333333333333333,
              "#9c179e"
             ],
             [
              0.4444444444444444,
              "#bd3786"
             ],
             [
              0.5555555555555556,
              "#d8576b"
             ],
             [
              0.6666666666666666,
              "#ed7953"
             ],
             [
              0.7777777777777778,
              "#fb9f3a"
             ],
             [
              0.8888888888888888,
              "#fdca26"
             ],
             [
              1,
              "#f0f921"
             ]
            ],
            "type": "heatmapgl"
           }
          ],
          "histogram": [
           {
            "marker": {
             "pattern": {
              "fillmode": "overlay",
              "size": 10,
              "solidity": 0.2
             }
            },
            "type": "histogram"
           }
          ],
          "histogram2d": [
           {
            "colorbar": {
             "outlinewidth": 0,
             "ticks": ""
            },
            "colorscale": [
             [
              0,
              "#0d0887"
             ],
             [
              0.1111111111111111,
              "#46039f"
             ],
             [
              0.2222222222222222,
              "#7201a8"
             ],
             [
              0.3333333333333333,
              "#9c179e"
             ],
             [
              0.4444444444444444,
              "#bd3786"
             ],
             [
              0.5555555555555556,
              "#d8576b"
             ],
             [
              0.6666666666666666,
              "#ed7953"
             ],
             [
              0.7777777777777778,
              "#fb9f3a"
             ],
             [
              0.8888888888888888,
              "#fdca26"
             ],
             [
              1,
              "#f0f921"
             ]
            ],
            "type": "histogram2d"
           }
          ],
          "histogram2dcontour": [
           {
            "colorbar": {
             "outlinewidth": 0,
             "ticks": ""
            },
            "colorscale": [
             [
              0,
              "#0d0887"
             ],
             [
              0.1111111111111111,
              "#46039f"
             ],
             [
              0.2222222222222222,
              "#7201a8"
             ],
             [
              0.3333333333333333,
              "#9c179e"
             ],
             [
              0.4444444444444444,
              "#bd3786"
             ],
             [
              0.5555555555555556,
              "#d8576b"
             ],
             [
              0.6666666666666666,
              "#ed7953"
             ],
             [
              0.7777777777777778,
              "#fb9f3a"
             ],
             [
              0.8888888888888888,
              "#fdca26"
             ],
             [
              1,
              "#f0f921"
             ]
            ],
            "type": "histogram2dcontour"
           }
          ],
          "mesh3d": [
           {
            "colorbar": {
             "outlinewidth": 0,
             "ticks": ""
            },
            "type": "mesh3d"
           }
          ],
          "parcoords": [
           {
            "line": {
             "colorbar": {
              "outlinewidth": 0,
              "ticks": ""
             }
            },
            "type": "parcoords"
           }
          ],
          "pie": [
           {
            "automargin": true,
            "type": "pie"
           }
          ],
          "scatter": [
           {
            "fillpattern": {
             "fillmode": "overlay",
             "size": 10,
             "solidity": 0.2
            },
            "type": "scatter"
           }
          ],
          "scatter3d": [
           {
            "line": {
             "colorbar": {
              "outlinewidth": 0,
              "ticks": ""
             }
            },
            "marker": {
             "colorbar": {
              "outlinewidth": 0,
              "ticks": ""
             }
            },
            "type": "scatter3d"
           }
          ],
          "scattercarpet": [
           {
            "marker": {
             "colorbar": {
              "outlinewidth": 0,
              "ticks": ""
             }
            },
            "type": "scattercarpet"
           }
          ],
          "scattergeo": [
           {
            "marker": {
             "colorbar": {
              "outlinewidth": 0,
              "ticks": ""
             }
            },
            "type": "scattergeo"
           }
          ],
          "scattergl": [
           {
            "marker": {
             "colorbar": {
              "outlinewidth": 0,
              "ticks": ""
             }
            },
            "type": "scattergl"
           }
          ],
          "scattermapbox": [
           {
            "marker": {
             "colorbar": {
              "outlinewidth": 0,
              "ticks": ""
             }
            },
            "type": "scattermapbox"
           }
          ],
          "scatterpolar": [
           {
            "marker": {
             "colorbar": {
              "outlinewidth": 0,
              "ticks": ""
             }
            },
            "type": "scatterpolar"
           }
          ],
          "scatterpolargl": [
           {
            "marker": {
             "colorbar": {
              "outlinewidth": 0,
              "ticks": ""
             }
            },
            "type": "scatterpolargl"
           }
          ],
          "scatterternary": [
           {
            "marker": {
             "colorbar": {
              "outlinewidth": 0,
              "ticks": ""
             }
            },
            "type": "scatterternary"
           }
          ],
          "surface": [
           {
            "colorbar": {
             "outlinewidth": 0,
             "ticks": ""
            },
            "colorscale": [
             [
              0,
              "#0d0887"
             ],
             [
              0.1111111111111111,
              "#46039f"
             ],
             [
              0.2222222222222222,
              "#7201a8"
             ],
             [
              0.3333333333333333,
              "#9c179e"
             ],
             [
              0.4444444444444444,
              "#bd3786"
             ],
             [
              0.5555555555555556,
              "#d8576b"
             ],
             [
              0.6666666666666666,
              "#ed7953"
             ],
             [
              0.7777777777777778,
              "#fb9f3a"
             ],
             [
              0.8888888888888888,
              "#fdca26"
             ],
             [
              1,
              "#f0f921"
             ]
            ],
            "type": "surface"
           }
          ],
          "table": [
           {
            "cells": {
             "fill": {
              "color": "#EBF0F8"
             },
             "line": {
              "color": "white"
             }
            },
            "header": {
             "fill": {
              "color": "#C8D4E3"
             },
             "line": {
              "color": "white"
             }
            },
            "type": "table"
           }
          ]
         },
         "layout": {
          "annotationdefaults": {
           "arrowcolor": "#2a3f5f",
           "arrowhead": 0,
           "arrowwidth": 1
          },
          "autotypenumbers": "strict",
          "coloraxis": {
           "colorbar": {
            "outlinewidth": 0,
            "ticks": ""
           }
          },
          "colorscale": {
           "diverging": [
            [
             0,
             "#8e0152"
            ],
            [
             0.1,
             "#c51b7d"
            ],
            [
             0.2,
             "#de77ae"
            ],
            [
             0.3,
             "#f1b6da"
            ],
            [
             0.4,
             "#fde0ef"
            ],
            [
             0.5,
             "#f7f7f7"
            ],
            [
             0.6,
             "#e6f5d0"
            ],
            [
             0.7,
             "#b8e186"
            ],
            [
             0.8,
             "#7fbc41"
            ],
            [
             0.9,
             "#4d9221"
            ],
            [
             1,
             "#276419"
            ]
           ],
           "sequential": [
            [
             0,
             "#0d0887"
            ],
            [
             0.1111111111111111,
             "#46039f"
            ],
            [
             0.2222222222222222,
             "#7201a8"
            ],
            [
             0.3333333333333333,
             "#9c179e"
            ],
            [
             0.4444444444444444,
             "#bd3786"
            ],
            [
             0.5555555555555556,
             "#d8576b"
            ],
            [
             0.6666666666666666,
             "#ed7953"
            ],
            [
             0.7777777777777778,
             "#fb9f3a"
            ],
            [
             0.8888888888888888,
             "#fdca26"
            ],
            [
             1,
             "#f0f921"
            ]
           ],
           "sequentialminus": [
            [
             0,
             "#0d0887"
            ],
            [
             0.1111111111111111,
             "#46039f"
            ],
            [
             0.2222222222222222,
             "#7201a8"
            ],
            [
             0.3333333333333333,
             "#9c179e"
            ],
            [
             0.4444444444444444,
             "#bd3786"
            ],
            [
             0.5555555555555556,
             "#d8576b"
            ],
            [
             0.6666666666666666,
             "#ed7953"
            ],
            [
             0.7777777777777778,
             "#fb9f3a"
            ],
            [
             0.8888888888888888,
             "#fdca26"
            ],
            [
             1,
             "#f0f921"
            ]
           ]
          },
          "colorway": [
           "#636efa",
           "#EF553B",
           "#00cc96",
           "#ab63fa",
           "#FFA15A",
           "#19d3f3",
           "#FF6692",
           "#B6E880",
           "#FF97FF",
           "#FECB52"
          ],
          "font": {
           "color": "#2a3f5f"
          },
          "geo": {
           "bgcolor": "white",
           "lakecolor": "white",
           "landcolor": "#E5ECF6",
           "showlakes": true,
           "showland": true,
           "subunitcolor": "white"
          },
          "hoverlabel": {
           "align": "left"
          },
          "hovermode": "closest",
          "mapbox": {
           "style": "light"
          },
          "paper_bgcolor": "white",
          "plot_bgcolor": "#E5ECF6",
          "polar": {
           "angularaxis": {
            "gridcolor": "white",
            "linecolor": "white",
            "ticks": ""
           },
           "bgcolor": "#E5ECF6",
           "radialaxis": {
            "gridcolor": "white",
            "linecolor": "white",
            "ticks": ""
           }
          },
          "scene": {
           "xaxis": {
            "backgroundcolor": "#E5ECF6",
            "gridcolor": "white",
            "gridwidth": 2,
            "linecolor": "white",
            "showbackground": true,
            "ticks": "",
            "zerolinecolor": "white"
           },
           "yaxis": {
            "backgroundcolor": "#E5ECF6",
            "gridcolor": "white",
            "gridwidth": 2,
            "linecolor": "white",
            "showbackground": true,
            "ticks": "",
            "zerolinecolor": "white"
           },
           "zaxis": {
            "backgroundcolor": "#E5ECF6",
            "gridcolor": "white",
            "gridwidth": 2,
            "linecolor": "white",
            "showbackground": true,
            "ticks": "",
            "zerolinecolor": "white"
           }
          },
          "shapedefaults": {
           "line": {
            "color": "#2a3f5f"
           }
          },
          "ternary": {
           "aaxis": {
            "gridcolor": "white",
            "linecolor": "white",
            "ticks": ""
           },
           "baxis": {
            "gridcolor": "white",
            "linecolor": "white",
            "ticks": ""
           },
           "bgcolor": "#E5ECF6",
           "caxis": {
            "gridcolor": "white",
            "linecolor": "white",
            "ticks": ""
           }
          },
          "title": {
           "x": 0.05
          },
          "xaxis": {
           "automargin": true,
           "gridcolor": "white",
           "linecolor": "white",
           "ticks": "",
           "title": {
            "standoff": 15
           },
           "zerolinecolor": "white",
           "zerolinewidth": 2
          },
          "yaxis": {
           "automargin": true,
           "gridcolor": "white",
           "linecolor": "white",
           "ticks": "",
           "title": {
            "standoff": 15
           },
           "zerolinecolor": "white",
           "zerolinewidth": 2
          }
         }
        },
        "xaxis": {
         "anchor": "y",
         "domain": [
          0,
          1
         ],
         "title": {
          "text": "x_coord"
         }
        },
        "yaxis": {
         "anchor": "x",
         "domain": [
          0,
          1
         ],
         "title": {
          "text": "y_coord"
         }
        }
       }
      }
     },
     "metadata": {},
     "output_type": "display_data"
    }
   ],
   "source": [
    "df = px.data.iris()\n",
    "\n",
    "features = df.loc[:, :'petal_width']\n",
    "\n",
    "fig = px.scatter(\n",
    "    text_data, x=\"x_coord\", y=\"y_coord\",\n",
    "    color=text_data.cluster, labels={'color': 'species'},\n",
    "    hover_data=[\"lieblingssportart\", \"lieblingsessen\", \"lieblingsgenre\"]\n",
    ")\n",
    "fig.show()"
   ]
  },
  {
   "cell_type": "markdown",
   "metadata": {},
   "source": [
    "**Ergebnis:** <br>\n",
    "Es lassen sich gewisse Tendenzen in den Clustern erkennen, so haben die meisten aus Cluster 1 bei mindestens einer Textfrage keine Antwort abgegben. Des Weiteren sieht man sehr gut in den Cluster, das die Proband\\*innen im selben Cluster einen ähnlichen Musikgeschmack haben, so befinden sich im Cluster 0 alle mit Rap/Hip-Hop als Liebliengsgerne, in Cluster 2 alle mit Rock als Lieblingsgenre und in Cluster 1 alle mit Alternative als Lieblingsgenre. Nur das Genre Pop ist auf mehrer Cluster verteilt. <br>\n",
    "Bei den anderen Angaben von anderen Textfragen kann man leider nicht so gute Abgrenzungen erkennen, dies ist vermutlich den doch sehr unterschiedlichen Antworten der Proband\\*innen geschuldet. So konnte durch das NLP zwar grobe Tendenzen beim Clustering beachtet werden, aber die Daten des Lieblingsgenre haben bessere Ergebnisse geliefert und somit vermutlich das Clustering am stärksten beeinflusst."
   ]
  },
  {
   "cell_type": "markdown",
   "metadata": {},
   "source": [
    "## 3.3 Vergleich mit Clustern aus der Cluster Analyse\n",
    "Im folgenden werden wir die Cluster aus dem Cluster Analyse Teil mit den aus dem NLP vergeleichen. Dafür werden wir den Graphen nochmal zeichnen nur wir verwenden die Cluster aus der Cluster Analyse als Farbe, um so zusehen ob sich die Cluster ähneln oder unterschiede aufzeigen."
   ]
  },
  {
   "cell_type": "code",
   "execution_count": 23,
   "metadata": {},
   "outputs": [
    {
     "data": {
      "application/vnd.plotly.v1+json": {
       "config": {
        "plotlyServerURL": "https://plot.ly"
       },
       "data": [
        {
         "customdata": [
          [
           "Joggen",
           "Vegane Lasagne",
           "Rock"
          ],
          [
           "Fußball",
           "Butterbrot",
           "Rock"
          ],
          [
           "Keine Lieblingssportart",
           "Lasagne",
           "Alternative"
          ],
          [
           "Trampolin",
           "Burger",
           "Kein Lieblingsgenre"
          ],
          [
           "Klettern",
           "Dampfnudeln",
           "Kein Lieblingsgenre"
          ],
          [
           "Bouldern",
           "Pho",
           "Kein Lieblingsgenre"
          ],
          [
           "Keine Lieblingssportart",
           "Tomaten",
           "Pop"
          ],
          [
           "Fußball",
           "Pasta",
           "Alternative"
          ],
          [
           "Schnorcheln",
           "Pizza",
           "Rap/Hip Hop"
          ],
          [
           "Tennis",
           "Sushi",
           "Alternative"
          ],
          [
           "Keine Lieblingssportart",
           "Koreanisches Dakgangjeong",
           "Alternative"
          ],
          [
           "Kampfsport",
           "Döner",
           "Kein Lieblingsgenre"
          ],
          [
           "Football",
           "Asiatische Nudeln",
           "Pop"
          ],
          [
           "Thaiboxen",
           "Hühnchen",
           "Rap/Hip Hop"
          ],
          [
           "Calisthenics",
           "Curry",
           "Rap/Hip Hop"
          ],
          [
           "Calisthenics",
           "Burger",
           "Rap/Hip Hop"
          ],
          [
           "Tauchen",
           "Pfannkuchen",
           "Rap/Hip Hop"
          ],
          [
           "Tischtennis",
           "Burger",
           "Rap/Hip Hop"
          ],
          [
           "Tischtennis",
           "Risotto",
           "Rock"
          ],
          [
           "Basketball",
           "Burger",
           "Rock"
          ],
          [
           "Fußball",
           "Pizza",
           "Pop"
          ],
          [
           "Schwimmen",
           "Burger",
           "Pop"
          ],
          [
           "Fußball",
           "Pizza",
           "Rap/Hip Hop"
          ],
          [
           "Basketball",
           "Reis mit Sojasoße Hähnchen",
           "Rock"
          ],
          [
           "Radfahren",
           "Kein Lieblingsessen",
           "Kein Lieblingsgenre"
          ],
          [
           "Fitness",
           "Döner",
           "Electro"
          ],
          [
           "Tischtennis",
           "Burrito",
           "Electro"
          ],
          [
           "Fußball",
           "Pizza",
           "Rap/Hip Hop"
          ],
          [
           "E-Sport ",
           "Shakshuka",
           "Rap/Hip Hop"
          ],
          [
           "Reiten",
           "Pasta",
           "Pop"
          ],
          [
           "Tischtennis",
           "Pizza",
           "Alternative"
          ],
          [
           "Karate",
           "Lasagne",
           "Rap/Hip Hop"
          ],
          [
           "Keine Lieblingssportart",
           "Döner",
           "Alternative"
          ],
          [
           "Badminton",
           "Pasta",
           "Kein Lieblingsgenre"
          ],
          [
           "Bouldern",
           "Lasagne",
           "Rock"
          ],
          [
           "Radfahren",
           "Gurke mit Mozzarella und Tofu",
           "Pop"
          ],
          [
           "Tanzen",
           "Pfannkuchen",
           "Pop"
          ],
          [
           "Kraftsport ",
           "Döner",
           "Kein Lieblingsgenre"
          ],
          [
           "Volleyball",
           "Sushi",
           "Rap/Hip Hop"
          ],
          [
           "Bogenschießen",
           "Gemüsepfanne mit Reis",
           "Heavy Metal"
          ],
          [
           "Bouldern",
           "Kein Lieblingsessen",
           "Kein Lieblingsgenre"
          ],
          [
           "Hockey",
           "Lasagne",
           "Rock"
          ],
          [
           "Badminton",
           "Burger",
           "Filme/Videospiele"
          ],
          [
           "Reiten",
           "Tortelini",
           "Klassik"
          ],
          [
           "Squash",
           "Sushi",
           "R&B"
          ],
          [
           "Tauchen",
           "Pfannkuchen",
           "Rap/Hip Hop"
          ],
          [
           "Fußball",
           "Pasta",
           "Rap/Hip Hop"
          ],
          [
           "Fußball",
           "Yaprak",
           "Rock"
          ],
          [
           "Fußball",
           "Lachs mit Bratkartoffeln und Gurkensalat",
           "Rock"
          ],
          [
           "Klettern",
           "Pizza",
           "Rap/Hip Hop"
          ],
          [
           "Yoga",
           "Ramen",
           "Electro"
          ],
          [
           "Badminton",
           "Humus",
           "Alternative"
          ],
          [
           "Inlineskaten",
           "Pasta",
           "Alternative"
          ],
          [
           "Basketball",
           "Cordon bleu",
           "Alternative"
          ],
          [
           "Fußball",
           "Reispfanne mit viel Gemüse",
           "Pop"
          ],
          [
           "Volleyball",
           "Carbonara",
           "Kein Lieblingsgenre"
          ],
          [
           "Joggen",
           "Ofenkartoffeln mit Gemüse",
           "Alternative"
          ],
          [
           "Keine Lieblingssportart",
           "Pommes",
           "Rap/Hip Hop"
          ],
          [
           "Fußball",
           "Kein Lieblingsessen",
           "Kein Lieblingsgenre"
          ],
          [
           "Ruderboot fahren",
           "Nudeln mit Pilzen in Sahnesauce",
           "Rap/Hip Hop"
          ],
          [
           "Padel-Tennis",
           "Vegane Pho Bo Suppe",
           "Pop"
          ],
          [
           "Ski fahren",
           "Kein Lieblingsessen",
           "Kein Lieblingsgenre"
          ]
         ],
         "hovertemplate": "x_coord=%{x}<br>y_coord=%{y}<br>lieblingssportart=%{customdata[0]}<br>lieblingsessen=%{customdata[1]}<br>lieblingsgenre=%{customdata[2]}<br>species=%{marker.color}<extra></extra>",
         "legendgroup": "",
         "marker": {
          "color": [
           0,
           0,
           2,
           0,
           0,
           0,
           2,
           0,
           1,
           1,
           0,
           0,
           1,
           0,
           0,
           0,
           2,
           1,
           1,
           0,
           0,
           1,
           0,
           0,
           0,
           0,
           1,
           0,
           2,
           2,
           1,
           0,
           0,
           0,
           1,
           2,
           2,
           0,
           2,
           0,
           0,
           1,
           2,
           2,
           2,
           2,
           0,
           0,
           0,
           0,
           0,
           0,
           2,
           0,
           2,
           0,
           0,
           2,
           0,
           0,
           2,
           0
          ],
          "coloraxis": "coloraxis",
          "symbol": "circle"
         },
         "mode": "markers",
         "name": "",
         "orientation": "v",
         "showlegend": false,
         "type": "scatter",
         "x": [
          1.8245313167572021,
          0.5679604411125183,
          3.2055776119232178,
          4.902401924133301,
          4.857844352722168,
          5.534844398498535,
          2.6223065853118896,
          3.0147922039031982,
          4.082535266876221,
          3.3604736328125,
          3.1103363037109375,
          4.810385227203369,
          2.4377784729003906,
          4.012669086456299,
          4.7856125831604,
          4.920440673828125,
          4.090461730957031,
          4.921441078186035,
          1.468294620513916,
          1.1369884014129639,
          2.293903350830078,
          2.165029764175415,
          4.262933254241943,
          1.264904499053955,
          5.544639587402344,
          3.8432302474975586,
          3.6823012828826904,
          4.262933254241943,
          4.771238803863525,
          2.1248037815093994,
          3.338966131210327,
          4.6473307609558105,
          3.3160765171051025,
          4.848701477050781,
          1.4155136346817017,
          1.4852243661880493,
          1.785475730895996,
          4.645588397979736,
          4.584519386291504,
          1.3039318323135376,
          5.537887096405029,
          1.3265149593353271,
          5.546702861785889,
          2.417264223098755,
          2.534930467605591,
          4.090461730957031,
          4.51070499420166,
          1.1463855504989624,
          1.3588529825210571,
          4.043225288391113,
          4.093986511230469,
          2.8669378757476807,
          2.87200927734375,
          3.1071455478668213,
          1.3489493131637573,
          4.852737903594971,
          1.7919965982437134,
          4.676451206207275,
          5.574385643005371,
          3.7377007007598877,
          3.6660149097442627,
          5.527624607086182
         ],
         "xaxis": "x",
         "y": [
          -0.841592013835907,
          -0.5585165619850159,
          -2.358670234680176,
          -2.7703962326049805,
          -2.798894166946411,
          -2.1469831466674805,
          -0.5604386329650879,
          -1.991778016090393,
          3.1935391426086426,
          -1.5746285915374756,
          -2.653817892074585,
          -2.3963816165924072,
          0.047692056745290756,
          3.7539665699005127,
          3.8368546962738037,
          3.6179428100585938,
          2.9151597023010254,
          3.376387357711792,
          -0.5453688502311707,
          -0.25717243552207947,
          0.5963807702064514,
          0.4451495110988617,
          3.7471420764923096,
          -1.794830322265625,
          -2.851989269256592,
          -1.0338391065597534,
          -1.2008620500564575,
          3.7471420764923096,
          3.0448198318481445,
          0.41517743468284607,
          -1.7695387601852417,
          3.3051602840423584,
          -2.2926721572875977,
          -2.351196527481079,
          -0.6845579147338867,
          -2.0827836990356445,
          0.8781723380088806,
          -2.266946792602539,
          3.8563742637634277,
          -1.9142521619796753,
          -2.8367624282836914,
          -0.4119327664375305,
          2.6092135906219482,
          -2.7958178520202637,
          0.6588528752326965,
          2.9151597023010254,
          3.4277503490448,
          -0.40723100304603577,
          -1.9662106037139893,
          3.4315850734710693,
          -0.503755509853363,
          -2.8367183208465576,
          -2.1515204906463623,
          -3.73745059967041,
          -2.106013774871826,
          -2.4284157752990723,
          -2.4934804439544678,
          2.8906776905059814,
          -2.807741403579712,
          2.091010093688965,
          0.14189298450946808,
          -3.0887486934661865
         ],
         "yaxis": "y"
        }
       ],
       "layout": {
        "coloraxis": {
         "colorbar": {
          "title": {
           "text": "species"
          }
         },
         "colorscale": [
          [
           0,
           "#0d0887"
          ],
          [
           0.1111111111111111,
           "#46039f"
          ],
          [
           0.2222222222222222,
           "#7201a8"
          ],
          [
           0.3333333333333333,
           "#9c179e"
          ],
          [
           0.4444444444444444,
           "#bd3786"
          ],
          [
           0.5555555555555556,
           "#d8576b"
          ],
          [
           0.6666666666666666,
           "#ed7953"
          ],
          [
           0.7777777777777778,
           "#fb9f3a"
          ],
          [
           0.8888888888888888,
           "#fdca26"
          ],
          [
           1,
           "#f0f921"
          ]
         ]
        },
        "legend": {
         "tracegroupgap": 0
        },
        "margin": {
         "t": 60
        },
        "template": {
         "data": {
          "bar": [
           {
            "error_x": {
             "color": "#2a3f5f"
            },
            "error_y": {
             "color": "#2a3f5f"
            },
            "marker": {
             "line": {
              "color": "#E5ECF6",
              "width": 0.5
             },
             "pattern": {
              "fillmode": "overlay",
              "size": 10,
              "solidity": 0.2
             }
            },
            "type": "bar"
           }
          ],
          "barpolar": [
           {
            "marker": {
             "line": {
              "color": "#E5ECF6",
              "width": 0.5
             },
             "pattern": {
              "fillmode": "overlay",
              "size": 10,
              "solidity": 0.2
             }
            },
            "type": "barpolar"
           }
          ],
          "carpet": [
           {
            "aaxis": {
             "endlinecolor": "#2a3f5f",
             "gridcolor": "white",
             "linecolor": "white",
             "minorgridcolor": "white",
             "startlinecolor": "#2a3f5f"
            },
            "baxis": {
             "endlinecolor": "#2a3f5f",
             "gridcolor": "white",
             "linecolor": "white",
             "minorgridcolor": "white",
             "startlinecolor": "#2a3f5f"
            },
            "type": "carpet"
           }
          ],
          "choropleth": [
           {
            "colorbar": {
             "outlinewidth": 0,
             "ticks": ""
            },
            "type": "choropleth"
           }
          ],
          "contour": [
           {
            "colorbar": {
             "outlinewidth": 0,
             "ticks": ""
            },
            "colorscale": [
             [
              0,
              "#0d0887"
             ],
             [
              0.1111111111111111,
              "#46039f"
             ],
             [
              0.2222222222222222,
              "#7201a8"
             ],
             [
              0.3333333333333333,
              "#9c179e"
             ],
             [
              0.4444444444444444,
              "#bd3786"
             ],
             [
              0.5555555555555556,
              "#d8576b"
             ],
             [
              0.6666666666666666,
              "#ed7953"
             ],
             [
              0.7777777777777778,
              "#fb9f3a"
             ],
             [
              0.8888888888888888,
              "#fdca26"
             ],
             [
              1,
              "#f0f921"
             ]
            ],
            "type": "contour"
           }
          ],
          "contourcarpet": [
           {
            "colorbar": {
             "outlinewidth": 0,
             "ticks": ""
            },
            "type": "contourcarpet"
           }
          ],
          "heatmap": [
           {
            "colorbar": {
             "outlinewidth": 0,
             "ticks": ""
            },
            "colorscale": [
             [
              0,
              "#0d0887"
             ],
             [
              0.1111111111111111,
              "#46039f"
             ],
             [
              0.2222222222222222,
              "#7201a8"
             ],
             [
              0.3333333333333333,
              "#9c179e"
             ],
             [
              0.4444444444444444,
              "#bd3786"
             ],
             [
              0.5555555555555556,
              "#d8576b"
             ],
             [
              0.6666666666666666,
              "#ed7953"
             ],
             [
              0.7777777777777778,
              "#fb9f3a"
             ],
             [
              0.8888888888888888,
              "#fdca26"
             ],
             [
              1,
              "#f0f921"
             ]
            ],
            "type": "heatmap"
           }
          ],
          "heatmapgl": [
           {
            "colorbar": {
             "outlinewidth": 0,
             "ticks": ""
            },
            "colorscale": [
             [
              0,
              "#0d0887"
             ],
             [
              0.1111111111111111,
              "#46039f"
             ],
             [
              0.2222222222222222,
              "#7201a8"
             ],
             [
              0.3333333333333333,
              "#9c179e"
             ],
             [
              0.4444444444444444,
              "#bd3786"
             ],
             [
              0.5555555555555556,
              "#d8576b"
             ],
             [
              0.6666666666666666,
              "#ed7953"
             ],
             [
              0.7777777777777778,
              "#fb9f3a"
             ],
             [
              0.8888888888888888,
              "#fdca26"
             ],
             [
              1,
              "#f0f921"
             ]
            ],
            "type": "heatmapgl"
           }
          ],
          "histogram": [
           {
            "marker": {
             "pattern": {
              "fillmode": "overlay",
              "size": 10,
              "solidity": 0.2
             }
            },
            "type": "histogram"
           }
          ],
          "histogram2d": [
           {
            "colorbar": {
             "outlinewidth": 0,
             "ticks": ""
            },
            "colorscale": [
             [
              0,
              "#0d0887"
             ],
             [
              0.1111111111111111,
              "#46039f"
             ],
             [
              0.2222222222222222,
              "#7201a8"
             ],
             [
              0.3333333333333333,
              "#9c179e"
             ],
             [
              0.4444444444444444,
              "#bd3786"
             ],
             [
              0.5555555555555556,
              "#d8576b"
             ],
             [
              0.6666666666666666,
              "#ed7953"
             ],
             [
              0.7777777777777778,
              "#fb9f3a"
             ],
             [
              0.8888888888888888,
              "#fdca26"
             ],
             [
              1,
              "#f0f921"
             ]
            ],
            "type": "histogram2d"
           }
          ],
          "histogram2dcontour": [
           {
            "colorbar": {
             "outlinewidth": 0,
             "ticks": ""
            },
            "colorscale": [
             [
              0,
              "#0d0887"
             ],
             [
              0.1111111111111111,
              "#46039f"
             ],
             [
              0.2222222222222222,
              "#7201a8"
             ],
             [
              0.3333333333333333,
              "#9c179e"
             ],
             [
              0.4444444444444444,
              "#bd3786"
             ],
             [
              0.5555555555555556,
              "#d8576b"
             ],
             [
              0.6666666666666666,
              "#ed7953"
             ],
             [
              0.7777777777777778,
              "#fb9f3a"
             ],
             [
              0.8888888888888888,
              "#fdca26"
             ],
             [
              1,
              "#f0f921"
             ]
            ],
            "type": "histogram2dcontour"
           }
          ],
          "mesh3d": [
           {
            "colorbar": {
             "outlinewidth": 0,
             "ticks": ""
            },
            "type": "mesh3d"
           }
          ],
          "parcoords": [
           {
            "line": {
             "colorbar": {
              "outlinewidth": 0,
              "ticks": ""
             }
            },
            "type": "parcoords"
           }
          ],
          "pie": [
           {
            "automargin": true,
            "type": "pie"
           }
          ],
          "scatter": [
           {
            "fillpattern": {
             "fillmode": "overlay",
             "size": 10,
             "solidity": 0.2
            },
            "type": "scatter"
           }
          ],
          "scatter3d": [
           {
            "line": {
             "colorbar": {
              "outlinewidth": 0,
              "ticks": ""
             }
            },
            "marker": {
             "colorbar": {
              "outlinewidth": 0,
              "ticks": ""
             }
            },
            "type": "scatter3d"
           }
          ],
          "scattercarpet": [
           {
            "marker": {
             "colorbar": {
              "outlinewidth": 0,
              "ticks": ""
             }
            },
            "type": "scattercarpet"
           }
          ],
          "scattergeo": [
           {
            "marker": {
             "colorbar": {
              "outlinewidth": 0,
              "ticks": ""
             }
            },
            "type": "scattergeo"
           }
          ],
          "scattergl": [
           {
            "marker": {
             "colorbar": {
              "outlinewidth": 0,
              "ticks": ""
             }
            },
            "type": "scattergl"
           }
          ],
          "scattermapbox": [
           {
            "marker": {
             "colorbar": {
              "outlinewidth": 0,
              "ticks": ""
             }
            },
            "type": "scattermapbox"
           }
          ],
          "scatterpolar": [
           {
            "marker": {
             "colorbar": {
              "outlinewidth": 0,
              "ticks": ""
             }
            },
            "type": "scatterpolar"
           }
          ],
          "scatterpolargl": [
           {
            "marker": {
             "colorbar": {
              "outlinewidth": 0,
              "ticks": ""
             }
            },
            "type": "scatterpolargl"
           }
          ],
          "scatterternary": [
           {
            "marker": {
             "colorbar": {
              "outlinewidth": 0,
              "ticks": ""
             }
            },
            "type": "scatterternary"
           }
          ],
          "surface": [
           {
            "colorbar": {
             "outlinewidth": 0,
             "ticks": ""
            },
            "colorscale": [
             [
              0,
              "#0d0887"
             ],
             [
              0.1111111111111111,
              "#46039f"
             ],
             [
              0.2222222222222222,
              "#7201a8"
             ],
             [
              0.3333333333333333,
              "#9c179e"
             ],
             [
              0.4444444444444444,
              "#bd3786"
             ],
             [
              0.5555555555555556,
              "#d8576b"
             ],
             [
              0.6666666666666666,
              "#ed7953"
             ],
             [
              0.7777777777777778,
              "#fb9f3a"
             ],
             [
              0.8888888888888888,
              "#fdca26"
             ],
             [
              1,
              "#f0f921"
             ]
            ],
            "type": "surface"
           }
          ],
          "table": [
           {
            "cells": {
             "fill": {
              "color": "#EBF0F8"
             },
             "line": {
              "color": "white"
             }
            },
            "header": {
             "fill": {
              "color": "#C8D4E3"
             },
             "line": {
              "color": "white"
             }
            },
            "type": "table"
           }
          ]
         },
         "layout": {
          "annotationdefaults": {
           "arrowcolor": "#2a3f5f",
           "arrowhead": 0,
           "arrowwidth": 1
          },
          "autotypenumbers": "strict",
          "coloraxis": {
           "colorbar": {
            "outlinewidth": 0,
            "ticks": ""
           }
          },
          "colorscale": {
           "diverging": [
            [
             0,
             "#8e0152"
            ],
            [
             0.1,
             "#c51b7d"
            ],
            [
             0.2,
             "#de77ae"
            ],
            [
             0.3,
             "#f1b6da"
            ],
            [
             0.4,
             "#fde0ef"
            ],
            [
             0.5,
             "#f7f7f7"
            ],
            [
             0.6,
             "#e6f5d0"
            ],
            [
             0.7,
             "#b8e186"
            ],
            [
             0.8,
             "#7fbc41"
            ],
            [
             0.9,
             "#4d9221"
            ],
            [
             1,
             "#276419"
            ]
           ],
           "sequential": [
            [
             0,
             "#0d0887"
            ],
            [
             0.1111111111111111,
             "#46039f"
            ],
            [
             0.2222222222222222,
             "#7201a8"
            ],
            [
             0.3333333333333333,
             "#9c179e"
            ],
            [
             0.4444444444444444,
             "#bd3786"
            ],
            [
             0.5555555555555556,
             "#d8576b"
            ],
            [
             0.6666666666666666,
             "#ed7953"
            ],
            [
             0.7777777777777778,
             "#fb9f3a"
            ],
            [
             0.8888888888888888,
             "#fdca26"
            ],
            [
             1,
             "#f0f921"
            ]
           ],
           "sequentialminus": [
            [
             0,
             "#0d0887"
            ],
            [
             0.1111111111111111,
             "#46039f"
            ],
            [
             0.2222222222222222,
             "#7201a8"
            ],
            [
             0.3333333333333333,
             "#9c179e"
            ],
            [
             0.4444444444444444,
             "#bd3786"
            ],
            [
             0.5555555555555556,
             "#d8576b"
            ],
            [
             0.6666666666666666,
             "#ed7953"
            ],
            [
             0.7777777777777778,
             "#fb9f3a"
            ],
            [
             0.8888888888888888,
             "#fdca26"
            ],
            [
             1,
             "#f0f921"
            ]
           ]
          },
          "colorway": [
           "#636efa",
           "#EF553B",
           "#00cc96",
           "#ab63fa",
           "#FFA15A",
           "#19d3f3",
           "#FF6692",
           "#B6E880",
           "#FF97FF",
           "#FECB52"
          ],
          "font": {
           "color": "#2a3f5f"
          },
          "geo": {
           "bgcolor": "white",
           "lakecolor": "white",
           "landcolor": "#E5ECF6",
           "showlakes": true,
           "showland": true,
           "subunitcolor": "white"
          },
          "hoverlabel": {
           "align": "left"
          },
          "hovermode": "closest",
          "mapbox": {
           "style": "light"
          },
          "paper_bgcolor": "white",
          "plot_bgcolor": "#E5ECF6",
          "polar": {
           "angularaxis": {
            "gridcolor": "white",
            "linecolor": "white",
            "ticks": ""
           },
           "bgcolor": "#E5ECF6",
           "radialaxis": {
            "gridcolor": "white",
            "linecolor": "white",
            "ticks": ""
           }
          },
          "scene": {
           "xaxis": {
            "backgroundcolor": "#E5ECF6",
            "gridcolor": "white",
            "gridwidth": 2,
            "linecolor": "white",
            "showbackground": true,
            "ticks": "",
            "zerolinecolor": "white"
           },
           "yaxis": {
            "backgroundcolor": "#E5ECF6",
            "gridcolor": "white",
            "gridwidth": 2,
            "linecolor": "white",
            "showbackground": true,
            "ticks": "",
            "zerolinecolor": "white"
           },
           "zaxis": {
            "backgroundcolor": "#E5ECF6",
            "gridcolor": "white",
            "gridwidth": 2,
            "linecolor": "white",
            "showbackground": true,
            "ticks": "",
            "zerolinecolor": "white"
           }
          },
          "shapedefaults": {
           "line": {
            "color": "#2a3f5f"
           }
          },
          "ternary": {
           "aaxis": {
            "gridcolor": "white",
            "linecolor": "white",
            "ticks": ""
           },
           "baxis": {
            "gridcolor": "white",
            "linecolor": "white",
            "ticks": ""
           },
           "bgcolor": "#E5ECF6",
           "caxis": {
            "gridcolor": "white",
            "linecolor": "white",
            "ticks": ""
           }
          },
          "title": {
           "x": 0.05
          },
          "xaxis": {
           "automargin": true,
           "gridcolor": "white",
           "linecolor": "white",
           "ticks": "",
           "title": {
            "standoff": 15
           },
           "zerolinecolor": "white",
           "zerolinewidth": 2
          },
          "yaxis": {
           "automargin": true,
           "gridcolor": "white",
           "linecolor": "white",
           "ticks": "",
           "title": {
            "standoff": 15
           },
           "zerolinecolor": "white",
           "zerolinewidth": 2
          }
         }
        },
        "xaxis": {
         "anchor": "y",
         "domain": [
          0,
          1
         ],
         "title": {
          "text": "x_coord"
         }
        },
        "yaxis": {
         "anchor": "x",
         "domain": [
          0,
          1
         ],
         "title": {
          "text": "y_coord"
         }
        }
       }
      }
     },
     "metadata": {},
     "output_type": "display_data"
    }
   ],
   "source": [
    "df = px.data.iris()\n",
    "\n",
    "features = df.loc[:, :'petal_width']\n",
    "\n",
    "fig = px.scatter(\n",
    "    text_data, x=\"x_coord\", y=\"y_coord\",\n",
    "    color=df_tsne_hc_cluster.Cluster, labels={'color': 'species'},\n",
    "    hover_data=[\"lieblingssportart\", \"lieblingsessen\", \"lieblingsgenre\"]\n",
    ")\n",
    "fig.show()"
   ]
  },
  {
   "cell_type": "markdown",
   "metadata": {},
   "source": [
    "Vergleich der Cluster: <br>\n",
    "Die Cluster aus der Cluster Analyse sind sehr "
   ]
  }
 ],
 "metadata": {
  "kernelspec": {
   "display_name": "data_science",
   "language": "python",
   "name": "python3"
  },
  "language_info": {
   "codemirror_mode": {
    "name": "ipython",
    "version": 3
   },
   "file_extension": ".py",
   "mimetype": "text/x-python",
   "name": "python",
   "nbconvert_exporter": "python",
   "pygments_lexer": "ipython3",
   "version": "3.9.16"
  },
  "orig_nbformat": 4
 },
 "nbformat": 4,
 "nbformat_minor": 2
}
