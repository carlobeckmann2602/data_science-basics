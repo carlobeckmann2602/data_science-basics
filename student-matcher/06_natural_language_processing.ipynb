{
 "cells": [
  {
   "cell_type": "code",
   "execution_count": 1,
   "metadata": {},
   "outputs": [],
   "source": [
    "%store -r columns_encoded\n",
    "%store -r columns\n",
    "%store -r data\n",
    "%store -r data_encoded\n",
    "\n",
    "%store -r df_genres\n",
    "\n",
    "columns_encoded = columns_encoded\n",
    "columns = columns\n",
    "data = data\n",
    "data_encoded = data_encoded\n",
    "\n",
    "df_genres = df_genres"
   ]
  },
  {
   "cell_type": "code",
   "execution_count": 2,
   "metadata": {},
   "outputs": [],
   "source": [
    "#!python -m spacy download de_core_news_md"
   ]
  },
  {
   "cell_type": "code",
   "execution_count": 3,
   "metadata": {},
   "outputs": [],
   "source": [
    "import os\n",
    "import numpy as np\n",
    "import pandas as pd\n",
    "import matplotlib.pyplot as plt\n",
    "import seaborn as sb\n",
    "import spacy\n",
    "\n",
    "pd.set_option('display.max_columns', None)"
   ]
  },
  {
   "cell_type": "code",
   "execution_count": 5,
   "metadata": {},
   "outputs": [],
   "source": [
    "text_data_lieblingssportart = data[columns.lieblingssportart]\n",
    "text_data_lieblingsessen = data[columns.lieblingsessen]\n",
    "text_data_lieblingsmusiker = data[columns.lieblingsmusiker]\n",
    "text_data_lieblingsgenre = df_genres\n",
    "text_data_combined = text_data_lieblingssportart + \" \" + text_data_lieblingsessen + \" \" + text_data_lieblingsmusiker + \" \" + df_genres"
   ]
  },
  {
   "cell_type": "code",
   "execution_count": 6,
   "metadata": {},
   "outputs": [
    {
     "data": {
      "text/html": [
       "<div>\n",
       "<style scoped>\n",
       "    .dataframe tbody tr th:only-of-type {\n",
       "        vertical-align: middle;\n",
       "    }\n",
       "\n",
       "    .dataframe tbody tr th {\n",
       "        vertical-align: top;\n",
       "    }\n",
       "\n",
       "    .dataframe thead th {\n",
       "        text-align: right;\n",
       "    }\n",
       "</style>\n",
       "<table border=\"1\" class=\"dataframe\">\n",
       "  <thead>\n",
       "    <tr style=\"text-align: right;\">\n",
       "      <th></th>\n",
       "      <th>lieblingssportart</th>\n",
       "      <th>lieblingsessen</th>\n",
       "      <th>lieblingsmusiker</th>\n",
       "      <th>lieblingsgenre</th>\n",
       "      <th>combined</th>\n",
       "    </tr>\n",
       "  </thead>\n",
       "  <tbody>\n",
       "    <tr>\n",
       "      <th>0</th>\n",
       "      <td>Joggen</td>\n",
       "      <td>Vegane Lasagne</td>\n",
       "      <td>Kraftklub</td>\n",
       "      <td>Rock</td>\n",
       "      <td>Joggen Vegane Lasagne Kraftklub Rock</td>\n",
       "    </tr>\n",
       "    <tr>\n",
       "      <th>1</th>\n",
       "      <td>Fußball</td>\n",
       "      <td>Butterbrot</td>\n",
       "      <td>Red Hot Chili Peppers</td>\n",
       "      <td>Rock</td>\n",
       "      <td>Fußball Butterbrot Red Hot Chili Peppers Rock</td>\n",
       "    </tr>\n",
       "    <tr>\n",
       "      <th>2</th>\n",
       "      <td>Keine Lieblingssportart</td>\n",
       "      <td>Lasagne</td>\n",
       "      <td>The 1975</td>\n",
       "      <td>Alternative</td>\n",
       "      <td>Keine Lieblingssportart Lasagne The 1975 Alter...</td>\n",
       "    </tr>\n",
       "    <tr>\n",
       "      <th>3</th>\n",
       "      <td>Trampolin</td>\n",
       "      <td>Burger</td>\n",
       "      <td>Kein Lieblingsmusiker</td>\n",
       "      <td>Kein Lieblingsgenre</td>\n",
       "      <td>Trampolin Burger Kein Lieblingsmusiker Kein Li...</td>\n",
       "    </tr>\n",
       "    <tr>\n",
       "      <th>4</th>\n",
       "      <td>Klettern</td>\n",
       "      <td>Dampfnudeln</td>\n",
       "      <td>Kein Lieblingsmusiker</td>\n",
       "      <td>Kein Lieblingsgenre</td>\n",
       "      <td>Klettern Dampfnudeln Kein Lieblingsmusiker Kei...</td>\n",
       "    </tr>\n",
       "    <tr>\n",
       "      <th>5</th>\n",
       "      <td>Bouldern</td>\n",
       "      <td>Pho</td>\n",
       "      <td>Kein Lieblingsmusiker</td>\n",
       "      <td>Kein Lieblingsgenre</td>\n",
       "      <td>Bouldern Pho Kein Lieblingsmusiker Kein Liebli...</td>\n",
       "    </tr>\n",
       "    <tr>\n",
       "      <th>6</th>\n",
       "      <td>Keine Lieblingssportart</td>\n",
       "      <td>Tomaten</td>\n",
       "      <td>Pugliese</td>\n",
       "      <td>Pop</td>\n",
       "      <td>Keine Lieblingssportart Tomaten Pugliese Pop</td>\n",
       "    </tr>\n",
       "    <tr>\n",
       "      <th>7</th>\n",
       "      <td>Fußball</td>\n",
       "      <td>Pasta</td>\n",
       "      <td>Green Day</td>\n",
       "      <td>Alternative</td>\n",
       "      <td>Fußball Pasta Green Day Alternative</td>\n",
       "    </tr>\n",
       "    <tr>\n",
       "      <th>8</th>\n",
       "      <td>Schnorcheln</td>\n",
       "      <td>Pizza</td>\n",
       "      <td>Pete Philly</td>\n",
       "      <td>Rap/Hip Hop</td>\n",
       "      <td>Schnorcheln Pizza Pete Philly Rap/Hip Hop</td>\n",
       "    </tr>\n",
       "    <tr>\n",
       "      <th>9</th>\n",
       "      <td>Tennis</td>\n",
       "      <td>Sushi</td>\n",
       "      <td>Radiohead</td>\n",
       "      <td>Alternative</td>\n",
       "      <td>Tennis Sushi Radiohead Alternative</td>\n",
       "    </tr>\n",
       "  </tbody>\n",
       "</table>\n",
       "</div>"
      ],
      "text/plain": [
       "         lieblingssportart  lieblingsessen       lieblingsmusiker   \n",
       "0                   Joggen  Vegane Lasagne              Kraftklub  \\\n",
       "1                  Fußball      Butterbrot  Red Hot Chili Peppers   \n",
       "2  Keine Lieblingssportart         Lasagne               The 1975   \n",
       "3                Trampolin          Burger  Kein Lieblingsmusiker   \n",
       "4                 Klettern     Dampfnudeln  Kein Lieblingsmusiker   \n",
       "5                 Bouldern             Pho  Kein Lieblingsmusiker   \n",
       "6  Keine Lieblingssportart         Tomaten               Pugliese   \n",
       "7                  Fußball           Pasta              Green Day   \n",
       "8              Schnorcheln           Pizza            Pete Philly   \n",
       "9                   Tennis           Sushi              Radiohead   \n",
       "\n",
       "        lieblingsgenre                                           combined  \n",
       "0                 Rock               Joggen Vegane Lasagne Kraftklub Rock  \n",
       "1                 Rock      Fußball Butterbrot Red Hot Chili Peppers Rock  \n",
       "2          Alternative  Keine Lieblingssportart Lasagne The 1975 Alter...  \n",
       "3  Kein Lieblingsgenre  Trampolin Burger Kein Lieblingsmusiker Kein Li...  \n",
       "4  Kein Lieblingsgenre  Klettern Dampfnudeln Kein Lieblingsmusiker Kei...  \n",
       "5  Kein Lieblingsgenre  Bouldern Pho Kein Lieblingsmusiker Kein Liebli...  \n",
       "6                  Pop       Keine Lieblingssportart Tomaten Pugliese Pop  \n",
       "7          Alternative                Fußball Pasta Green Day Alternative  \n",
       "8          Rap/Hip Hop          Schnorcheln Pizza Pete Philly Rap/Hip Hop  \n",
       "9          Alternative                 Tennis Sushi Radiohead Alternative  "
      ]
     },
     "execution_count": 6,
     "metadata": {},
     "output_type": "execute_result"
    }
   ],
   "source": [
    "data_frame_content = {\n",
    "    \"lieblingssportart\": text_data_lieblingssportart,\n",
    "    \"lieblingsessen\": text_data_lieblingsessen,\n",
    "    \"lieblingsmusiker\": text_data_lieblingsmusiker,\n",
    "    \"lieblingsgenre\": text_data_lieblingsgenre,\n",
    "    \"combined\": text_data_combined\n",
    "}\n",
    "\n",
    "text_data = pd.DataFrame(data_frame_content)\n",
    "\n",
    "text_data.head(10)\n"
   ]
  },
  {
   "cell_type": "markdown",
   "metadata": {},
   "source": [
    "# Wordvektoren"
   ]
  },
  {
   "cell_type": "markdown",
   "metadata": {},
   "source": [
    "## Tfidf Vectoren"
   ]
  },
  {
   "cell_type": "code",
   "execution_count": 7,
   "metadata": {},
   "outputs": [],
   "source": [
    "from sklearn.feature_extraction.text import TfidfVectorizer"
   ]
  },
  {
   "cell_type": "code",
   "execution_count": 8,
   "metadata": {},
   "outputs": [
    {
     "data": {
      "text/plain": [
       "array(['badminton', 'basketball', 'bogenschießen', 'bouldern',\n",
       "       'calisthenics', 'fahren', 'fitness', 'football', 'fußball',\n",
       "       'hockey', 'inlineskaten', 'joggen', 'kampfsport', 'karate',\n",
       "       'keine', 'klettern', 'kraftsport', 'lieblingssportart', 'padel',\n",
       "       'radfahren', 'reiten', 'ruderboot', 'schnorcheln', 'schwimmen',\n",
       "       'ski', 'sport', 'squash', 'tanzen', 'tauchen', 'tennis',\n",
       "       'thaiboxen', 'tischtennis', 'trampolin', 'volleyball', 'yoga'],\n",
       "      dtype=object)"
      ]
     },
     "execution_count": 8,
     "metadata": {},
     "output_type": "execute_result"
    }
   ],
   "source": [
    "tfidf_lieblingssportart = TfidfVectorizer(max_df=0.25, min_df=1)\n",
    "tfidf_vectors_lieblingssportart = tfidf_lieblingssportart.fit_transform(text_data.lieblingssportart)\n",
    "tfidf_lieblingssportart.get_feature_names_out()"
   ]
  },
  {
   "cell_type": "code",
   "execution_count": 9,
   "metadata": {},
   "outputs": [
    {
     "data": {
      "text/plain": [
       "array(['asiatische', 'bleu', 'bo', 'bratkartoffeln', 'burger', 'burrito',\n",
       "       'butterbrot', 'carbonara', 'cordon', 'curry', 'dakgangjeong',\n",
       "       'dampfnudeln', 'döner', 'gemüse', 'gemüsepfanne', 'gurke',\n",
       "       'gurkensalat', 'humus', 'hähnchen', 'hühnchen', 'in', 'kein',\n",
       "       'koreanisches', 'lachs', 'lasagne', 'lieblingsessen', 'mit',\n",
       "       'mozzarella', 'nudeln', 'ofenkartoffeln', 'pasta', 'pfannkuchen',\n",
       "       'pho', 'pilzen', 'pizza', 'pommes', 'ramen', 'reis', 'reispfanne',\n",
       "       'risotto', 'sahnesauce', 'shakshuka', 'sojasoße', 'suppe', 'sushi',\n",
       "       'tofu', 'tomaten', 'tortelini', 'und', 'vegane', 'viel', 'yaprak'],\n",
       "      dtype=object)"
      ]
     },
     "execution_count": 9,
     "metadata": {},
     "output_type": "execute_result"
    }
   ],
   "source": [
    "tfidf_lieblingsessen = TfidfVectorizer(max_df=0.25, min_df=1)\n",
    "tfidf_vectors_lieblingsessen = tfidf_lieblingsessen.fit_transform(text_data.lieblingsessen)\n",
    "tfidf_lieblingsessen.get_feature_names_out()"
   ]
  },
  {
   "cell_type": "code",
   "execution_count": 10,
   "metadata": {},
   "outputs": [
    {
     "data": {
      "text/plain": [
       "array(['1975', '6lack', 'adele', 'and', 'antilopen', 'apache207',\n",
       "       'arthur', 'avatar', 'avenged', 'bad', 'beethoven', 'billy',\n",
       "       'chili', 'cicero', 'creator', 'day', 'deathspell', 'die',\n",
       "       'dominic', 'down', 'drake', 'ed', 'eminem', 'fike', 'frusciante',\n",
       "       'gang', 'gizzard', 'green', 'grimes', 'haftbefehl', 'halsey',\n",
       "       'hans', 'harlow', 'hosen', 'hot', 'jack', 'jakey', 'james', 'john',\n",
       "       'juice', 'kein', 'king', 'klangkuenstler', 'kraftklub', 'lapalux',\n",
       "       'lieblingsmusiker', 'lizard', 'mac', 'malone', 'miller',\n",
       "       'måneskin', 'neffex', 'nf', 'of', 'omega', 'omens', 'peppers',\n",
       "       'pete', 'philly', 'post', 'prevail', 'provinz', 'pugliese',\n",
       "       'radiohead', 'red', 'redlion', 'roger', 'sevenfold', 'sheeran',\n",
       "       'sting', 'system', 'talent', 'the', 'toten', 'tyler', 'wizard',\n",
       "       'wrld', 'zimmer'], dtype=object)"
      ]
     },
     "execution_count": 10,
     "metadata": {},
     "output_type": "execute_result"
    }
   ],
   "source": [
    "tfidf_lieblingsmusiker = TfidfVectorizer(max_df=0.25, min_df=1)\n",
    "tfidf_vectors_lieblingsmusiker = tfidf_lieblingsmusiker.fit_transform(text_data.lieblingsmusiker)\n",
    "tfidf_lieblingsmusiker.get_feature_names_out()"
   ]
  },
  {
   "cell_type": "code",
   "execution_count": 11,
   "metadata": {},
   "outputs": [
    {
     "data": {
      "text/plain": [
       "array(['alternative', 'electro', 'filme', 'heavy', 'kein', 'klassik',\n",
       "       'lieblingsgenre', 'metal', 'pop', 'rock', 'videospiele'],\n",
       "      dtype=object)"
      ]
     },
     "execution_count": 11,
     "metadata": {},
     "output_type": "execute_result"
    }
   ],
   "source": [
    "tfidf_lieblingsgenre = TfidfVectorizer(max_df=0.25, min_df=1)\n",
    "tfidf_vectors_lieblingsgenre = tfidf_lieblingsgenre.fit_transform(text_data.lieblingsgenre)\n",
    "tfidf_lieblingsgenre.get_feature_names_out()"
   ]
  },
  {
   "cell_type": "markdown",
   "metadata": {},
   "source": [
    "## Spacy Wordvektoren"
   ]
  },
  {
   "cell_type": "code",
   "execution_count": 12,
   "metadata": {},
   "outputs": [],
   "source": [
    "nlp = spacy.load(\"de_core_news_md\")"
   ]
  },
  {
   "cell_type": "code",
   "execution_count": 13,
   "metadata": {},
   "outputs": [],
   "source": [
    "tokens_lieblingsportart = []\n",
    "for entry in text_data.lieblingssportart:\n",
    "    tokens_lieblingsportart.append(nlp(entry))\n",
    "text_data[\"tokens_lieblingssportart\"] = tokens_lieblingsportart"
   ]
  },
  {
   "cell_type": "code",
   "execution_count": 14,
   "metadata": {},
   "outputs": [],
   "source": [
    "tokens_lieblingsessen = []\n",
    "for entry in text_data.lieblingsessen:\n",
    "    tokens_lieblingsessen.append(nlp(entry))\n",
    "text_data[\"tokens_lieblingsessen\"] = tokens_lieblingsessen"
   ]
  },
  {
   "cell_type": "code",
   "execution_count": 15,
   "metadata": {},
   "outputs": [],
   "source": [
    "tokens_lieblingsmusiker = []\n",
    "for entry in text_data.lieblingsmusiker:\n",
    "    tokens_lieblingsmusiker.append(nlp(entry))\n",
    "text_data[\"tokens_lieblingsmusiker\"] = tokens_lieblingsmusiker"
   ]
  },
  {
   "cell_type": "code",
   "execution_count": 16,
   "metadata": {},
   "outputs": [],
   "source": [
    "tokens_lieblingsgenre = []\n",
    "for entry in text_data.lieblingsgenre:\n",
    "    tokens_lieblingsgenre.append(nlp(entry))\n",
    "text_data[\"tokens_lieblingsgenre\"] = tokens_lieblingsgenre"
   ]
  },
  {
   "cell_type": "code",
   "execution_count": 17,
   "metadata": {},
   "outputs": [],
   "source": [
    "tokens_combined = []\n",
    "for entry in text_data.combined:\n",
    "    tokens_combined.append(nlp(entry))\n",
    "text_data[\"tokens_combined\"] = tokens_combined"
   ]
  },
  {
   "cell_type": "code",
   "execution_count": 18,
   "metadata": {},
   "outputs": [
    {
     "data": {
      "text/html": [
       "<div>\n",
       "<style scoped>\n",
       "    .dataframe tbody tr th:only-of-type {\n",
       "        vertical-align: middle;\n",
       "    }\n",
       "\n",
       "    .dataframe tbody tr th {\n",
       "        vertical-align: top;\n",
       "    }\n",
       "\n",
       "    .dataframe thead th {\n",
       "        text-align: right;\n",
       "    }\n",
       "</style>\n",
       "<table border=\"1\" class=\"dataframe\">\n",
       "  <thead>\n",
       "    <tr style=\"text-align: right;\">\n",
       "      <th></th>\n",
       "      <th>lieblingssportart</th>\n",
       "      <th>lieblingsessen</th>\n",
       "      <th>lieblingsmusiker</th>\n",
       "      <th>lieblingsgenre</th>\n",
       "      <th>combined</th>\n",
       "      <th>tokens_lieblingssportart</th>\n",
       "      <th>tokens_lieblingsessen</th>\n",
       "      <th>tokens_lieblingsmusiker</th>\n",
       "      <th>tokens_lieblingsgenre</th>\n",
       "      <th>tokens_combined</th>\n",
       "    </tr>\n",
       "  </thead>\n",
       "  <tbody>\n",
       "    <tr>\n",
       "      <th>0</th>\n",
       "      <td>Joggen</td>\n",
       "      <td>Vegane Lasagne</td>\n",
       "      <td>Kraftklub</td>\n",
       "      <td>Rock</td>\n",
       "      <td>Joggen Vegane Lasagne Kraftklub Rock</td>\n",
       "      <td>(Joggen)</td>\n",
       "      <td>(Vegane, Lasagne)</td>\n",
       "      <td>(Kraftklub)</td>\n",
       "      <td>(Rock)</td>\n",
       "      <td>(Joggen, Vegane, Lasagne, Kraftklub, Rock)</td>\n",
       "    </tr>\n",
       "    <tr>\n",
       "      <th>1</th>\n",
       "      <td>Fußball</td>\n",
       "      <td>Butterbrot</td>\n",
       "      <td>Red Hot Chili Peppers</td>\n",
       "      <td>Rock</td>\n",
       "      <td>Fußball Butterbrot Red Hot Chili Peppers Rock</td>\n",
       "      <td>(Fußball)</td>\n",
       "      <td>(Butterbrot)</td>\n",
       "      <td>(Red, Hot, Chili, Peppers)</td>\n",
       "      <td>(Rock)</td>\n",
       "      <td>(Fußball, Butterbrot, Red, Hot, Chili, Peppers...</td>\n",
       "    </tr>\n",
       "    <tr>\n",
       "      <th>2</th>\n",
       "      <td>Keine Lieblingssportart</td>\n",
       "      <td>Lasagne</td>\n",
       "      <td>The 1975</td>\n",
       "      <td>Alternative</td>\n",
       "      <td>Keine Lieblingssportart Lasagne The 1975 Alter...</td>\n",
       "      <td>(Keine, Lieblingssportart)</td>\n",
       "      <td>(Lasagne)</td>\n",
       "      <td>(The, 1975)</td>\n",
       "      <td>(Alternative)</td>\n",
       "      <td>(Keine, Lieblingssportart, Lasagne, The, 1975,...</td>\n",
       "    </tr>\n",
       "    <tr>\n",
       "      <th>3</th>\n",
       "      <td>Trampolin</td>\n",
       "      <td>Burger</td>\n",
       "      <td>Kein Lieblingsmusiker</td>\n",
       "      <td>Kein Lieblingsgenre</td>\n",
       "      <td>Trampolin Burger Kein Lieblingsmusiker Kein Li...</td>\n",
       "      <td>(Trampolin)</td>\n",
       "      <td>(Burger)</td>\n",
       "      <td>(Kein, Lieblingsmusiker)</td>\n",
       "      <td>(Kein, Lieblingsgenre)</td>\n",
       "      <td>(Trampolin, Burger, Kein, Lieblingsmusiker, Ke...</td>\n",
       "    </tr>\n",
       "    <tr>\n",
       "      <th>4</th>\n",
       "      <td>Klettern</td>\n",
       "      <td>Dampfnudeln</td>\n",
       "      <td>Kein Lieblingsmusiker</td>\n",
       "      <td>Kein Lieblingsgenre</td>\n",
       "      <td>Klettern Dampfnudeln Kein Lieblingsmusiker Kei...</td>\n",
       "      <td>(Klettern)</td>\n",
       "      <td>(Dampfnudeln)</td>\n",
       "      <td>(Kein, Lieblingsmusiker)</td>\n",
       "      <td>(Kein, Lieblingsgenre)</td>\n",
       "      <td>(Klettern, Dampfnudeln, Kein, Lieblingsmusiker...</td>\n",
       "    </tr>\n",
       "    <tr>\n",
       "      <th>5</th>\n",
       "      <td>Bouldern</td>\n",
       "      <td>Pho</td>\n",
       "      <td>Kein Lieblingsmusiker</td>\n",
       "      <td>Kein Lieblingsgenre</td>\n",
       "      <td>Bouldern Pho Kein Lieblingsmusiker Kein Liebli...</td>\n",
       "      <td>(Bouldern)</td>\n",
       "      <td>(Pho)</td>\n",
       "      <td>(Kein, Lieblingsmusiker)</td>\n",
       "      <td>(Kein, Lieblingsgenre)</td>\n",
       "      <td>(Bouldern, Pho, Kein, Lieblingsmusiker, Kein, ...</td>\n",
       "    </tr>\n",
       "    <tr>\n",
       "      <th>6</th>\n",
       "      <td>Keine Lieblingssportart</td>\n",
       "      <td>Tomaten</td>\n",
       "      <td>Pugliese</td>\n",
       "      <td>Pop</td>\n",
       "      <td>Keine Lieblingssportart Tomaten Pugliese Pop</td>\n",
       "      <td>(Keine, Lieblingssportart)</td>\n",
       "      <td>(Tomaten)</td>\n",
       "      <td>(Pugliese)</td>\n",
       "      <td>(Pop)</td>\n",
       "      <td>(Keine, Lieblingssportart, Tomaten, Pugliese, ...</td>\n",
       "    </tr>\n",
       "    <tr>\n",
       "      <th>7</th>\n",
       "      <td>Fußball</td>\n",
       "      <td>Pasta</td>\n",
       "      <td>Green Day</td>\n",
       "      <td>Alternative</td>\n",
       "      <td>Fußball Pasta Green Day Alternative</td>\n",
       "      <td>(Fußball)</td>\n",
       "      <td>(Pasta)</td>\n",
       "      <td>(Green, Day)</td>\n",
       "      <td>(Alternative)</td>\n",
       "      <td>(Fußball, Pasta, Green, Day, Alternative)</td>\n",
       "    </tr>\n",
       "    <tr>\n",
       "      <th>8</th>\n",
       "      <td>Schnorcheln</td>\n",
       "      <td>Pizza</td>\n",
       "      <td>Pete Philly</td>\n",
       "      <td>Rap/Hip Hop</td>\n",
       "      <td>Schnorcheln Pizza Pete Philly Rap/Hip Hop</td>\n",
       "      <td>(Schnorcheln)</td>\n",
       "      <td>(Pizza)</td>\n",
       "      <td>(Pete, Philly)</td>\n",
       "      <td>(Rap, /, Hip, Hop)</td>\n",
       "      <td>(Schnorcheln, Pizza, Pete, Philly, Rap, /, Hip...</td>\n",
       "    </tr>\n",
       "    <tr>\n",
       "      <th>9</th>\n",
       "      <td>Tennis</td>\n",
       "      <td>Sushi</td>\n",
       "      <td>Radiohead</td>\n",
       "      <td>Alternative</td>\n",
       "      <td>Tennis Sushi Radiohead Alternative</td>\n",
       "      <td>(Tennis)</td>\n",
       "      <td>(Sushi)</td>\n",
       "      <td>(Radiohead)</td>\n",
       "      <td>(Alternative)</td>\n",
       "      <td>(Tennis, Sushi, Radiohead, Alternative)</td>\n",
       "    </tr>\n",
       "  </tbody>\n",
       "</table>\n",
       "</div>"
      ],
      "text/plain": [
       "         lieblingssportart  lieblingsessen       lieblingsmusiker   \n",
       "0                   Joggen  Vegane Lasagne              Kraftklub  \\\n",
       "1                  Fußball      Butterbrot  Red Hot Chili Peppers   \n",
       "2  Keine Lieblingssportart         Lasagne               The 1975   \n",
       "3                Trampolin          Burger  Kein Lieblingsmusiker   \n",
       "4                 Klettern     Dampfnudeln  Kein Lieblingsmusiker   \n",
       "5                 Bouldern             Pho  Kein Lieblingsmusiker   \n",
       "6  Keine Lieblingssportart         Tomaten               Pugliese   \n",
       "7                  Fußball           Pasta              Green Day   \n",
       "8              Schnorcheln           Pizza            Pete Philly   \n",
       "9                   Tennis           Sushi              Radiohead   \n",
       "\n",
       "        lieblingsgenre                                           combined   \n",
       "0                 Rock               Joggen Vegane Lasagne Kraftklub Rock  \\\n",
       "1                 Rock      Fußball Butterbrot Red Hot Chili Peppers Rock   \n",
       "2          Alternative  Keine Lieblingssportart Lasagne The 1975 Alter...   \n",
       "3  Kein Lieblingsgenre  Trampolin Burger Kein Lieblingsmusiker Kein Li...   \n",
       "4  Kein Lieblingsgenre  Klettern Dampfnudeln Kein Lieblingsmusiker Kei...   \n",
       "5  Kein Lieblingsgenre  Bouldern Pho Kein Lieblingsmusiker Kein Liebli...   \n",
       "6                  Pop       Keine Lieblingssportart Tomaten Pugliese Pop   \n",
       "7          Alternative                Fußball Pasta Green Day Alternative   \n",
       "8          Rap/Hip Hop          Schnorcheln Pizza Pete Philly Rap/Hip Hop   \n",
       "9          Alternative                 Tennis Sushi Radiohead Alternative   \n",
       "\n",
       "     tokens_lieblingssportart tokens_lieblingsessen   \n",
       "0                    (Joggen)     (Vegane, Lasagne)  \\\n",
       "1                   (Fußball)          (Butterbrot)   \n",
       "2  (Keine, Lieblingssportart)             (Lasagne)   \n",
       "3                 (Trampolin)              (Burger)   \n",
       "4                  (Klettern)         (Dampfnudeln)   \n",
       "5                  (Bouldern)                 (Pho)   \n",
       "6  (Keine, Lieblingssportart)             (Tomaten)   \n",
       "7                   (Fußball)               (Pasta)   \n",
       "8               (Schnorcheln)               (Pizza)   \n",
       "9                    (Tennis)               (Sushi)   \n",
       "\n",
       "      tokens_lieblingsmusiker   tokens_lieblingsgenre   \n",
       "0                 (Kraftklub)                  (Rock)  \\\n",
       "1  (Red, Hot, Chili, Peppers)                  (Rock)   \n",
       "2                 (The, 1975)           (Alternative)   \n",
       "3    (Kein, Lieblingsmusiker)  (Kein, Lieblingsgenre)   \n",
       "4    (Kein, Lieblingsmusiker)  (Kein, Lieblingsgenre)   \n",
       "5    (Kein, Lieblingsmusiker)  (Kein, Lieblingsgenre)   \n",
       "6                  (Pugliese)                   (Pop)   \n",
       "7                (Green, Day)           (Alternative)   \n",
       "8              (Pete, Philly)      (Rap, /, Hip, Hop)   \n",
       "9                 (Radiohead)           (Alternative)   \n",
       "\n",
       "                                     tokens_combined  \n",
       "0         (Joggen, Vegane, Lasagne, Kraftklub, Rock)  \n",
       "1  (Fußball, Butterbrot, Red, Hot, Chili, Peppers...  \n",
       "2  (Keine, Lieblingssportart, Lasagne, The, 1975,...  \n",
       "3  (Trampolin, Burger, Kein, Lieblingsmusiker, Ke...  \n",
       "4  (Klettern, Dampfnudeln, Kein, Lieblingsmusiker...  \n",
       "5  (Bouldern, Pho, Kein, Lieblingsmusiker, Kein, ...  \n",
       "6  (Keine, Lieblingssportart, Tomaten, Pugliese, ...  \n",
       "7          (Fußball, Pasta, Green, Day, Alternative)  \n",
       "8  (Schnorcheln, Pizza, Pete, Philly, Rap, /, Hip...  \n",
       "9            (Tennis, Sushi, Radiohead, Alternative)  "
      ]
     },
     "execution_count": 18,
     "metadata": {},
     "output_type": "execute_result"
    }
   ],
   "source": [
    "text_data.head(10)"
   ]
  },
  {
   "cell_type": "markdown",
   "metadata": {},
   "source": [
    "# Clustering mit Wortvektoren"
   ]
  },
  {
   "cell_type": "code",
   "execution_count": 19,
   "metadata": {},
   "outputs": [],
   "source": [
    "from sklearn.cluster import AgglomerativeClustering\n",
    "from sklearn.preprocessing import StandardScaler\n",
    "from sklearn.manifold import TSNE"
   ]
  },
  {
   "cell_type": "code",
   "execution_count": 20,
   "metadata": {},
   "outputs": [],
   "source": [
    "tsne = TSNE()\n",
    "lieblingssportart_vectors = np.array([token.vector for token in text_data.tokens_lieblingssportart])\n",
    "\n",
    "tsne_vectors_lieblingssportart = tsne.fit_transform(lieblingssportart_vectors)"
   ]
  },
  {
   "cell_type": "code",
   "execution_count": 21,
   "metadata": {},
   "outputs": [],
   "source": [
    "lieblingsessen_vectors = np.array([token.vector for token in text_data.tokens_lieblingsessen])\n",
    "tsne_vectors_lieblingsessen = tsne.fit_transform(lieblingsessen_vectors)"
   ]
  },
  {
   "cell_type": "code",
   "execution_count": 22,
   "metadata": {},
   "outputs": [],
   "source": [
    "lieblingsmusiker_vectors = np.array([token.vector for token in text_data.tokens_lieblingsmusiker])\n",
    "tsne_vectors_lieblingsmusiker = tsne.fit_transform(lieblingsmusiker_vectors)"
   ]
  },
  {
   "cell_type": "code",
   "execution_count": 23,
   "metadata": {},
   "outputs": [],
   "source": [
    "lieblingsgenre_vectors = np.array([token.vector for token in text_data.tokens_lieblingsgenre])\n",
    "tsne_vectors_lieblingsgenre = tsne.fit_transform(lieblingsgenre_vectors)"
   ]
  },
  {
   "cell_type": "code",
   "execution_count": 24,
   "metadata": {},
   "outputs": [],
   "source": [
    "tsne_vectors = { \n",
    "    'x_coord_lieblingssportart' : tsne_vectors_lieblingssportart[:, 0], \n",
    "    'y_coord_lieblingssportart' : tsne_vectors_lieblingssportart[:, 1],\n",
    "    'x_coord_lieblingsessen' : tsne_vectors_lieblingsessen[:, 0], \n",
    "    'y_coord_lieblingsessen' : tsne_vectors_lieblingsessen[:, 1],\n",
    "    'x_coord_lieblingsmusiker' : tsne_vectors_lieblingsmusiker[:, 0], \n",
    "    'y_coord_lieblingsmusiker' : tsne_vectors_lieblingsmusiker[:, 1],\n",
    "    'x_coord_lieblingsgenre' : tsne_vectors_lieblingsgenre[:, 0], \n",
    "    'y_coord_lieblingsgenre' : tsne_vectors_lieblingsgenre[:, 1]\n",
    "}\n",
    "\n",
    "tsne_df = pd.DataFrame(tsne_vectors)"
   ]
  },
  {
   "cell_type": "code",
   "execution_count": 25,
   "metadata": {},
   "outputs": [
    {
     "data": {
      "text/html": [
       "<div>\n",
       "<style scoped>\n",
       "    .dataframe tbody tr th:only-of-type {\n",
       "        vertical-align: middle;\n",
       "    }\n",
       "\n",
       "    .dataframe tbody tr th {\n",
       "        vertical-align: top;\n",
       "    }\n",
       "\n",
       "    .dataframe thead th {\n",
       "        text-align: right;\n",
       "    }\n",
       "</style>\n",
       "<table border=\"1\" class=\"dataframe\">\n",
       "  <thead>\n",
       "    <tr style=\"text-align: right;\">\n",
       "      <th></th>\n",
       "      <th>lieblingssportart</th>\n",
       "      <th>lieblingsessen</th>\n",
       "      <th>lieblingsmusiker</th>\n",
       "      <th>lieblingsgenre</th>\n",
       "      <th>combined</th>\n",
       "      <th>tokens_lieblingssportart</th>\n",
       "      <th>tokens_lieblingsessen</th>\n",
       "      <th>tokens_lieblingsmusiker</th>\n",
       "      <th>tokens_lieblingsgenre</th>\n",
       "      <th>tokens_combined</th>\n",
       "      <th>cluster</th>\n",
       "    </tr>\n",
       "  </thead>\n",
       "  <tbody>\n",
       "    <tr>\n",
       "      <th>0</th>\n",
       "      <td>Joggen</td>\n",
       "      <td>Vegane Lasagne</td>\n",
       "      <td>Kraftklub</td>\n",
       "      <td>Rock</td>\n",
       "      <td>Joggen Vegane Lasagne Kraftklub Rock</td>\n",
       "      <td>(Joggen)</td>\n",
       "      <td>(Vegane, Lasagne)</td>\n",
       "      <td>(Kraftklub)</td>\n",
       "      <td>(Rock)</td>\n",
       "      <td>(Joggen, Vegane, Lasagne, Kraftklub, Rock)</td>\n",
       "      <td>2</td>\n",
       "    </tr>\n",
       "    <tr>\n",
       "      <th>1</th>\n",
       "      <td>Fußball</td>\n",
       "      <td>Butterbrot</td>\n",
       "      <td>Red Hot Chili Peppers</td>\n",
       "      <td>Rock</td>\n",
       "      <td>Fußball Butterbrot Red Hot Chili Peppers Rock</td>\n",
       "      <td>(Fußball)</td>\n",
       "      <td>(Butterbrot)</td>\n",
       "      <td>(Red, Hot, Chili, Peppers)</td>\n",
       "      <td>(Rock)</td>\n",
       "      <td>(Fußball, Butterbrot, Red, Hot, Chili, Peppers...</td>\n",
       "      <td>3</td>\n",
       "    </tr>\n",
       "    <tr>\n",
       "      <th>2</th>\n",
       "      <td>Keine Lieblingssportart</td>\n",
       "      <td>Lasagne</td>\n",
       "      <td>The 1975</td>\n",
       "      <td>Alternative</td>\n",
       "      <td>Keine Lieblingssportart Lasagne The 1975 Alter...</td>\n",
       "      <td>(Keine, Lieblingssportart)</td>\n",
       "      <td>(Lasagne)</td>\n",
       "      <td>(The, 1975)</td>\n",
       "      <td>(Alternative)</td>\n",
       "      <td>(Keine, Lieblingssportart, Lasagne, The, 1975,...</td>\n",
       "      <td>3</td>\n",
       "    </tr>\n",
       "    <tr>\n",
       "      <th>3</th>\n",
       "      <td>Trampolin</td>\n",
       "      <td>Burger</td>\n",
       "      <td>Kein Lieblingsmusiker</td>\n",
       "      <td>Kein Lieblingsgenre</td>\n",
       "      <td>Trampolin Burger Kein Lieblingsmusiker Kein Li...</td>\n",
       "      <td>(Trampolin)</td>\n",
       "      <td>(Burger)</td>\n",
       "      <td>(Kein, Lieblingsmusiker)</td>\n",
       "      <td>(Kein, Lieblingsgenre)</td>\n",
       "      <td>(Trampolin, Burger, Kein, Lieblingsmusiker, Ke...</td>\n",
       "      <td>0</td>\n",
       "    </tr>\n",
       "    <tr>\n",
       "      <th>4</th>\n",
       "      <td>Klettern</td>\n",
       "      <td>Dampfnudeln</td>\n",
       "      <td>Kein Lieblingsmusiker</td>\n",
       "      <td>Kein Lieblingsgenre</td>\n",
       "      <td>Klettern Dampfnudeln Kein Lieblingsmusiker Kei...</td>\n",
       "      <td>(Klettern)</td>\n",
       "      <td>(Dampfnudeln)</td>\n",
       "      <td>(Kein, Lieblingsmusiker)</td>\n",
       "      <td>(Kein, Lieblingsgenre)</td>\n",
       "      <td>(Klettern, Dampfnudeln, Kein, Lieblingsmusiker...</td>\n",
       "      <td>0</td>\n",
       "    </tr>\n",
       "  </tbody>\n",
       "</table>\n",
       "</div>"
      ],
      "text/plain": [
       "         lieblingssportart  lieblingsessen       lieblingsmusiker   \n",
       "0                   Joggen  Vegane Lasagne              Kraftklub  \\\n",
       "1                  Fußball      Butterbrot  Red Hot Chili Peppers   \n",
       "2  Keine Lieblingssportart         Lasagne               The 1975   \n",
       "3                Trampolin          Burger  Kein Lieblingsmusiker   \n",
       "4                 Klettern     Dampfnudeln  Kein Lieblingsmusiker   \n",
       "\n",
       "        lieblingsgenre                                           combined   \n",
       "0                 Rock               Joggen Vegane Lasagne Kraftklub Rock  \\\n",
       "1                 Rock      Fußball Butterbrot Red Hot Chili Peppers Rock   \n",
       "2          Alternative  Keine Lieblingssportart Lasagne The 1975 Alter...   \n",
       "3  Kein Lieblingsgenre  Trampolin Burger Kein Lieblingsmusiker Kein Li...   \n",
       "4  Kein Lieblingsgenre  Klettern Dampfnudeln Kein Lieblingsmusiker Kei...   \n",
       "\n",
       "     tokens_lieblingssportart tokens_lieblingsessen   \n",
       "0                    (Joggen)     (Vegane, Lasagne)  \\\n",
       "1                   (Fußball)          (Butterbrot)   \n",
       "2  (Keine, Lieblingssportart)             (Lasagne)   \n",
       "3                 (Trampolin)              (Burger)   \n",
       "4                  (Klettern)         (Dampfnudeln)   \n",
       "\n",
       "      tokens_lieblingsmusiker   tokens_lieblingsgenre   \n",
       "0                 (Kraftklub)                  (Rock)  \\\n",
       "1  (Red, Hot, Chili, Peppers)                  (Rock)   \n",
       "2                 (The, 1975)           (Alternative)   \n",
       "3    (Kein, Lieblingsmusiker)  (Kein, Lieblingsgenre)   \n",
       "4    (Kein, Lieblingsmusiker)  (Kein, Lieblingsgenre)   \n",
       "\n",
       "                                     tokens_combined  cluster  \n",
       "0         (Joggen, Vegane, Lasagne, Kraftklub, Rock)        2  \n",
       "1  (Fußball, Butterbrot, Red, Hot, Chili, Peppers...        3  \n",
       "2  (Keine, Lieblingssportart, Lasagne, The, 1975,...        3  \n",
       "3  (Trampolin, Burger, Kein, Lieblingsmusiker, Ke...        0  \n",
       "4  (Klettern, Dampfnudeln, Kein, Lieblingsmusiker...        0  "
      ]
     },
     "execution_count": 25,
     "metadata": {},
     "output_type": "execute_result"
    }
   ],
   "source": [
    "# n_cluster = Anzahl der Cluster\n",
    "# distance_thershold = Distanz zwischen Punkte (nur wenn n_cluster = None)\n",
    "ward = AgglomerativeClustering(linkage=\"ward\",\n",
    "                               n_clusters=4)\n",
    "\n",
    "ward.fit(tsne_df)\n",
    "\n",
    "# Cluster-Zentren\n",
    "text_data[\"cluster\"] = ward.labels_\n",
    "text_data.head()"
   ]
  },
  {
   "cell_type": "code",
   "execution_count": 26,
   "metadata": {},
   "outputs": [],
   "source": [
    "#!pip install plotly"
   ]
  },
  {
   "cell_type": "code",
   "execution_count": 27,
   "metadata": {},
   "outputs": [],
   "source": [
    "combined_vectors = np.array([token.vector for token in text_data.tokens_combined])\n",
    "tsne_vectors_combined = tsne.fit_transform(combined_vectors)\n",
    "text_data[\"x_coord\"] = tsne_vectors_combined[:, 0]\n",
    "text_data[\"y_coord\"] = tsne_vectors_combined[:, 1]"
   ]
  },
  {
   "cell_type": "code",
   "execution_count": 28,
   "metadata": {},
   "outputs": [
    {
     "data": {
      "application/vnd.plotly.v1+json": {
       "config": {
        "plotlyServerURL": "https://plot.ly"
       },
       "data": [
        {
         "customdata": [
          [
           "Joggen",
           "Vegane Lasagne",
           "Kraftklub",
           "Rock"
          ],
          [
           "Fußball",
           "Butterbrot",
           "Red Hot Chili Peppers",
           "Rock"
          ],
          [
           "Keine Lieblingssportart",
           "Lasagne",
           "The 1975",
           "Alternative"
          ],
          [
           "Trampolin",
           "Burger",
           "Kein Lieblingsmusiker",
           "Kein Lieblingsgenre"
          ],
          [
           "Klettern",
           "Dampfnudeln",
           "Kein Lieblingsmusiker",
           "Kein Lieblingsgenre"
          ],
          [
           "Bouldern",
           "Pho",
           "Kein Lieblingsmusiker",
           "Kein Lieblingsgenre"
          ],
          [
           "Keine Lieblingssportart",
           "Tomaten",
           "Pugliese",
           "Pop"
          ],
          [
           "Fußball",
           "Pasta",
           "Green Day",
           "Alternative"
          ],
          [
           "Schnorcheln",
           "Pizza",
           "Pete Philly",
           "Rap/Hip Hop"
          ],
          [
           "Tennis",
           "Sushi",
           "Radiohead",
           "Alternative"
          ],
          [
           "Keine Lieblingssportart",
           "Koreanisches Dakgangjeong",
           "Dominic Fike",
           "Alternative"
          ],
          [
           "Kampfsport",
           "Döner",
           "Redlion",
           "Kein Lieblingsgenre"
          ],
          [
           "Football",
           "Asiatische Nudeln",
           "James Arthur",
           "Pop"
          ],
          [
           "Thaiboxen",
           "Hühnchen",
           "eminem",
           "Rap/Hip Hop"
          ],
          [
           "Calisthenics",
           "Curry",
           "Jakey",
           "Rap/Hip Hop"
          ],
          [
           "Calisthenics",
           "Burger",
           "Apache207",
           "Rap/Hip Hop"
          ],
          [
           "Tauchen",
           "Pfannkuchen",
           "Antilopen Gang",
           "Rap/Hip Hop"
          ],
          [
           "Tischtennis",
           "Burger",
           "Drake",
           "Rap/Hip Hop"
          ],
          [
           "Tischtennis",
           "Risotto",
           "I Prevail",
           "Rock"
          ],
          [
           "Basketball",
           "Burger",
           "Bad Omens",
           "Rock"
          ],
          [
           "Fußball",
           "Pizza",
           "Provinz",
           "Pop"
          ],
          [
           "Schwimmen",
           "Burger",
           "Post Malone",
           "Pop"
          ],
          [
           "Fußball",
           "Pizza",
           "Juice WRLD",
           "Rap/Hip Hop"
          ],
          [
           "Basketball",
           "Reis mit Sojasoße Hähnchen",
           "Avenged Sevenfold",
           "Rock"
          ],
          [
           "Radfahren",
           "Kein Lieblingsessen",
           "Kein Lieblingsmusiker",
           "Kein Lieblingsgenre"
          ],
          [
           "Fitness",
           "Döner",
           "Klangkuenstler",
           "Electro"
          ],
          [
           "Tischtennis",
           "Burrito",
           "Lapalux",
           "Electro"
          ],
          [
           "Fußball",
           "Pizza",
           "Jack Harlow",
           "Rap/Hip Hop"
          ],
          [
           "E-Sport ",
           "Shakshuka",
           "K.I.Z",
           "Rap/Hip Hop"
          ],
          [
           "Reiten",
           "Pasta",
           "Adele",
           "Pop"
          ],
          [
           "Tischtennis",
           "Pizza",
           "King Gizzard and the Lizard Wizard",
           "Alternative"
          ],
          [
           "Karate",
           "Lasagne",
           "Drake",
           "Rap/Hip Hop"
          ],
          [
           "Keine Lieblingssportart",
           "Döner",
           "Billy Talent",
           "Alternative"
          ],
          [
           "Badminton",
           "Pasta",
           "Kein Lieblingsmusiker",
           "Kein Lieblingsgenre"
          ],
          [
           "Bouldern",
           "Lasagne",
           "System of a Down",
           "Rock"
          ],
          [
           "Radfahren",
           "Gurke mit Mozzarella und Tofu",
           "Sting",
           "Pop"
          ],
          [
           "Tanzen",
           "Pfannkuchen",
           "Roger Cicero",
           "Pop"
          ],
          [
           "Kraftsport ",
           "Döner",
           "Kein Lieblingsmusiker",
           "Kein Lieblingsgenre"
          ],
          [
           "Volleyball",
           "Sushi",
           "Mac Miller",
           "Rap/Hip Hop"
          ],
          [
           "Bogenschießen",
           "Gemüsepfanne mit Reis",
           "Avatar",
           "Heavy Metal"
          ],
          [
           "Bouldern",
           "Kein Lieblingsessen",
           "Kein Lieblingsmusiker",
           "Kein Lieblingsgenre"
          ],
          [
           "Hockey",
           "Lasagne",
           "Måneskin",
           "Rock"
          ],
          [
           "Badminton",
           "Burger",
           "Hans Zimmer",
           "Filme/Videospiele"
          ],
          [
           "Reiten",
           "Tortelini",
           "Beethoven",
           "Klassik"
          ],
          [
           "Squash",
           "Sushi",
           "6lack",
           "R&B"
          ],
          [
           "Tauchen",
           "Pfannkuchen",
           "Antilopen Gang",
           "Rap/Hip Hop"
          ],
          [
           "Fußball",
           "Pasta",
           "NF",
           "Rap/Hip Hop"
          ],
          [
           "Fußball",
           "Yaprak",
           "Deathspell Omega",
           "Rock"
          ],
          [
           "Fußball",
           "Lachs mit Bratkartoffeln und Gurkensalat",
           "Red Hot Chili Peppers",
           "Rock"
          ],
          [
           "Klettern",
           "Pizza",
           "Mac Miller",
           "Rap/Hip Hop"
          ],
          [
           "Yoga",
           "Ramen",
           "Grimes",
           "Electro"
          ],
          [
           "Badminton",
           "Humus",
           "Die Toten Hosen",
           "Alternative"
          ],
          [
           "Inlineskaten",
           "Pasta",
           "Radiohead",
           "Alternative"
          ],
          [
           "Basketball",
           "Cordon bleu",
           "Halsey",
           "Alternative"
          ],
          [
           "Fußball",
           "Reispfanne mit viel Gemüse",
           "Ed sheeran",
           "Pop"
          ],
          [
           "Volleyball",
           "Carbonara",
           "Kein Lieblingsmusiker",
           "Kein Lieblingsgenre"
          ],
          [
           "Joggen",
           "Ofenkartoffeln mit Gemüse",
           "Neffex",
           "Alternative"
          ],
          [
           "Keine Lieblingssportart",
           "Pommes",
           "Haftbefehl",
           "Rap/Hip Hop"
          ],
          [
           "Fußball",
           "Kein Lieblingsessen",
           "Kein Lieblingsmusiker",
           "Kein Lieblingsgenre"
          ],
          [
           "Ruderboot fahren",
           "Nudeln mit Pilzen in Sahnesauce",
           "Tyler the Creator",
           "Rap/Hip Hop"
          ],
          [
           "Padel-Tennis",
           "Vegane Pho Bo Suppe",
           "John Frusciante",
           "Pop"
          ],
          [
           "Ski fahren",
           "Kein Lieblingsessen",
           "Kein Lieblingsmusiker",
           "Kein Lieblingsgenre"
          ]
         ],
         "hovertemplate": "x_coord=%{x}<br>y_coord=%{y}<br>lieblingssportart=%{customdata[0]}<br>lieblingsessen=%{customdata[1]}<br>lieblingsmusiker=%{customdata[2]}<br>lieblingsgenre=%{customdata[3]}<br>cluster=%{marker.color}<extra></extra>",
         "legendgroup": "",
         "marker": {
          "color": [
           2,
           3,
           3,
           0,
           0,
           0,
           2,
           3,
           2,
           3,
           0,
           0,
           2,
           2,
           2,
           2,
           2,
           2,
           3,
           1,
           1,
           1,
           2,
           1,
           0,
           0,
           2,
           2,
           2,
           1,
           3,
           2,
           0,
           0,
           3,
           1,
           1,
           0,
           2,
           2,
           0,
           3,
           2,
           0,
           2,
           2,
           2,
           1,
           1,
           2,
           2,
           0,
           3,
           0,
           1,
           0,
           0,
           2,
           0,
           2,
           1,
           0
          ],
          "coloraxis": "coloraxis",
          "symbol": "circle"
         },
         "mode": "markers",
         "name": "",
         "orientation": "v",
         "showlegend": false,
         "type": "scatter",
         "x": [
          -1.549293875694275,
          -1.128645420074463,
          -2.079930543899536,
          1.3980644941329956,
          1.4424341917037964,
          1.6917318105697632,
          -0.7598434090614319,
          -2.106614589691162,
          -2.8531177043914795,
          -1.4904263019561768,
          -0.41206347942352295,
          0.7363937497138977,
          -2.298429012298584,
          -3.4773738384246826,
          -3.394953489303589,
          -3.239546537399292,
          -2.953834056854248,
          -2.998199224472046,
          -2.8946852684020996,
          -1.0153909921646118,
          -2.331848621368408,
          -2.5432662963867188,
          -3.1248273849487305,
          -0.9801690578460693,
          1.7005090713500977,
          -1.4386603832244873,
          -1.322895884513855,
          -2.7522072792053223,
          -3.330677032470703,
          -2.282500743865967,
          -3.623436689376831,
          -3.3026206493377686,
          -0.7264665365219116,
          1.2718271017074585,
          -3.96662974357605,
          -1.2394589185714722,
          -2.335841178894043,
          1.1218292713165283,
          -2.762347936630249,
          -0.8364288806915283,
          1.7123745679855347,
          -1.6528478860855103,
          -1.6168608665466309,
          -0.42631733417510986,
          -2.3703837394714355,
          -2.953834056854248,
          -3.4144723415374756,
          -1.2676124572753906,
          -1.0146384239196777,
          -2.6979563236236572,
          -2.69161319732666,
          0.1455317735671997,
          -1.1037311553955078,
          0.4960910975933075,
          -1.3649955987930298,
          1.3028539419174194,
          -0.29723191261291504,
          -3.443568468093872,
          1.6796844005584717,
          -2.66640043258667,
          -3.135444402694702,
          1.6562696695327759
         ],
         "xaxis": "x",
         "y": [
          2.0300395488739014,
          3.704775810241699,
          0.8983484506607056,
          0.2565963566303253,
          0.29785171151161194,
          0.3947562575340271,
          1.951263666152954,
          0.9265527129173279,
          -1.5325336456298828,
          1.607743501663208,
          1.3593474626541138,
          0.5027977824211121,
          2.047853946685791,
          -1.8408313989639282,
          -2.049788475036621,
          -2.0818967819213867,
          -1.0765656232833862,
          -2.0454680919647217,
          0.1717921942472458,
          0.18173657357692719,
          2.4421796798706055,
          2.2696855068206787,
          -1.6197978258132935,
          2.6370701789855957,
          -0.005634486675262451,
          0.887935221195221,
          0.9284249544143677,
          -1.9746700525283813,
          -1.9067692756652832,
          2.6004462242126465,
          0.7932552099227905,
          -1.9008097648620605,
          1.3151695728302002,
          0.1341782957315445,
          0.7642983794212341,
          2.757545232772827,
          2.8052470684051514,
          0.24397994577884674,
          -1.9917501211166382,
          2.715733528137207,
          0.021404657512903214,
          1.8280408382415771,
          -1.4902085065841675,
          1.4208418130874634,
          2.06339955329895,
          -1.0765656232833862,
          -2.467860698699951,
          1.597542405128479,
          3.199049711227417,
          -1.7868961095809937,
          1.2687416076660156,
          1.905869960784912,
          1.8291833400726318,
          2.6769137382507324,
          2.8539488315582275,
          0.15310661494731903,
          2.470417022705078,
          -1.553757667541504,
          -0.04440056532621384,
          -0.6568406820297241,
          1.9158611297607422,
          -0.14343559741973877
         ],
         "yaxis": "y"
        }
       ],
       "layout": {
        "coloraxis": {
         "colorbar": {
          "title": {
           "text": "cluster"
          }
         },
         "colorscale": [
          [
           0,
           "#0d0887"
          ],
          [
           0.1111111111111111,
           "#46039f"
          ],
          [
           0.2222222222222222,
           "#7201a8"
          ],
          [
           0.3333333333333333,
           "#9c179e"
          ],
          [
           0.4444444444444444,
           "#bd3786"
          ],
          [
           0.5555555555555556,
           "#d8576b"
          ],
          [
           0.6666666666666666,
           "#ed7953"
          ],
          [
           0.7777777777777778,
           "#fb9f3a"
          ],
          [
           0.8888888888888888,
           "#fdca26"
          ],
          [
           1,
           "#f0f921"
          ]
         ]
        },
        "legend": {
         "tracegroupgap": 0
        },
        "margin": {
         "t": 60
        },
        "template": {
         "data": {
          "bar": [
           {
            "error_x": {
             "color": "#2a3f5f"
            },
            "error_y": {
             "color": "#2a3f5f"
            },
            "marker": {
             "line": {
              "color": "#E5ECF6",
              "width": 0.5
             },
             "pattern": {
              "fillmode": "overlay",
              "size": 10,
              "solidity": 0.2
             }
            },
            "type": "bar"
           }
          ],
          "barpolar": [
           {
            "marker": {
             "line": {
              "color": "#E5ECF6",
              "width": 0.5
             },
             "pattern": {
              "fillmode": "overlay",
              "size": 10,
              "solidity": 0.2
             }
            },
            "type": "barpolar"
           }
          ],
          "carpet": [
           {
            "aaxis": {
             "endlinecolor": "#2a3f5f",
             "gridcolor": "white",
             "linecolor": "white",
             "minorgridcolor": "white",
             "startlinecolor": "#2a3f5f"
            },
            "baxis": {
             "endlinecolor": "#2a3f5f",
             "gridcolor": "white",
             "linecolor": "white",
             "minorgridcolor": "white",
             "startlinecolor": "#2a3f5f"
            },
            "type": "carpet"
           }
          ],
          "choropleth": [
           {
            "colorbar": {
             "outlinewidth": 0,
             "ticks": ""
            },
            "type": "choropleth"
           }
          ],
          "contour": [
           {
            "colorbar": {
             "outlinewidth": 0,
             "ticks": ""
            },
            "colorscale": [
             [
              0,
              "#0d0887"
             ],
             [
              0.1111111111111111,
              "#46039f"
             ],
             [
              0.2222222222222222,
              "#7201a8"
             ],
             [
              0.3333333333333333,
              "#9c179e"
             ],
             [
              0.4444444444444444,
              "#bd3786"
             ],
             [
              0.5555555555555556,
              "#d8576b"
             ],
             [
              0.6666666666666666,
              "#ed7953"
             ],
             [
              0.7777777777777778,
              "#fb9f3a"
             ],
             [
              0.8888888888888888,
              "#fdca26"
             ],
             [
              1,
              "#f0f921"
             ]
            ],
            "type": "contour"
           }
          ],
          "contourcarpet": [
           {
            "colorbar": {
             "outlinewidth": 0,
             "ticks": ""
            },
            "type": "contourcarpet"
           }
          ],
          "heatmap": [
           {
            "colorbar": {
             "outlinewidth": 0,
             "ticks": ""
            },
            "colorscale": [
             [
              0,
              "#0d0887"
             ],
             [
              0.1111111111111111,
              "#46039f"
             ],
             [
              0.2222222222222222,
              "#7201a8"
             ],
             [
              0.3333333333333333,
              "#9c179e"
             ],
             [
              0.4444444444444444,
              "#bd3786"
             ],
             [
              0.5555555555555556,
              "#d8576b"
             ],
             [
              0.6666666666666666,
              "#ed7953"
             ],
             [
              0.7777777777777778,
              "#fb9f3a"
             ],
             [
              0.8888888888888888,
              "#fdca26"
             ],
             [
              1,
              "#f0f921"
             ]
            ],
            "type": "heatmap"
           }
          ],
          "heatmapgl": [
           {
            "colorbar": {
             "outlinewidth": 0,
             "ticks": ""
            },
            "colorscale": [
             [
              0,
              "#0d0887"
             ],
             [
              0.1111111111111111,
              "#46039f"
             ],
             [
              0.2222222222222222,
              "#7201a8"
             ],
             [
              0.3333333333333333,
              "#9c179e"
             ],
             [
              0.4444444444444444,
              "#bd3786"
             ],
             [
              0.5555555555555556,
              "#d8576b"
             ],
             [
              0.6666666666666666,
              "#ed7953"
             ],
             [
              0.7777777777777778,
              "#fb9f3a"
             ],
             [
              0.8888888888888888,
              "#fdca26"
             ],
             [
              1,
              "#f0f921"
             ]
            ],
            "type": "heatmapgl"
           }
          ],
          "histogram": [
           {
            "marker": {
             "pattern": {
              "fillmode": "overlay",
              "size": 10,
              "solidity": 0.2
             }
            },
            "type": "histogram"
           }
          ],
          "histogram2d": [
           {
            "colorbar": {
             "outlinewidth": 0,
             "ticks": ""
            },
            "colorscale": [
             [
              0,
              "#0d0887"
             ],
             [
              0.1111111111111111,
              "#46039f"
             ],
             [
              0.2222222222222222,
              "#7201a8"
             ],
             [
              0.3333333333333333,
              "#9c179e"
             ],
             [
              0.4444444444444444,
              "#bd3786"
             ],
             [
              0.5555555555555556,
              "#d8576b"
             ],
             [
              0.6666666666666666,
              "#ed7953"
             ],
             [
              0.7777777777777778,
              "#fb9f3a"
             ],
             [
              0.8888888888888888,
              "#fdca26"
             ],
             [
              1,
              "#f0f921"
             ]
            ],
            "type": "histogram2d"
           }
          ],
          "histogram2dcontour": [
           {
            "colorbar": {
             "outlinewidth": 0,
             "ticks": ""
            },
            "colorscale": [
             [
              0,
              "#0d0887"
             ],
             [
              0.1111111111111111,
              "#46039f"
             ],
             [
              0.2222222222222222,
              "#7201a8"
             ],
             [
              0.3333333333333333,
              "#9c179e"
             ],
             [
              0.4444444444444444,
              "#bd3786"
             ],
             [
              0.5555555555555556,
              "#d8576b"
             ],
             [
              0.6666666666666666,
              "#ed7953"
             ],
             [
              0.7777777777777778,
              "#fb9f3a"
             ],
             [
              0.8888888888888888,
              "#fdca26"
             ],
             [
              1,
              "#f0f921"
             ]
            ],
            "type": "histogram2dcontour"
           }
          ],
          "mesh3d": [
           {
            "colorbar": {
             "outlinewidth": 0,
             "ticks": ""
            },
            "type": "mesh3d"
           }
          ],
          "parcoords": [
           {
            "line": {
             "colorbar": {
              "outlinewidth": 0,
              "ticks": ""
             }
            },
            "type": "parcoords"
           }
          ],
          "pie": [
           {
            "automargin": true,
            "type": "pie"
           }
          ],
          "scatter": [
           {
            "fillpattern": {
             "fillmode": "overlay",
             "size": 10,
             "solidity": 0.2
            },
            "type": "scatter"
           }
          ],
          "scatter3d": [
           {
            "line": {
             "colorbar": {
              "outlinewidth": 0,
              "ticks": ""
             }
            },
            "marker": {
             "colorbar": {
              "outlinewidth": 0,
              "ticks": ""
             }
            },
            "type": "scatter3d"
           }
          ],
          "scattercarpet": [
           {
            "marker": {
             "colorbar": {
              "outlinewidth": 0,
              "ticks": ""
             }
            },
            "type": "scattercarpet"
           }
          ],
          "scattergeo": [
           {
            "marker": {
             "colorbar": {
              "outlinewidth": 0,
              "ticks": ""
             }
            },
            "type": "scattergeo"
           }
          ],
          "scattergl": [
           {
            "marker": {
             "colorbar": {
              "outlinewidth": 0,
              "ticks": ""
             }
            },
            "type": "scattergl"
           }
          ],
          "scattermapbox": [
           {
            "marker": {
             "colorbar": {
              "outlinewidth": 0,
              "ticks": ""
             }
            },
            "type": "scattermapbox"
           }
          ],
          "scatterpolar": [
           {
            "marker": {
             "colorbar": {
              "outlinewidth": 0,
              "ticks": ""
             }
            },
            "type": "scatterpolar"
           }
          ],
          "scatterpolargl": [
           {
            "marker": {
             "colorbar": {
              "outlinewidth": 0,
              "ticks": ""
             }
            },
            "type": "scatterpolargl"
           }
          ],
          "scatterternary": [
           {
            "marker": {
             "colorbar": {
              "outlinewidth": 0,
              "ticks": ""
             }
            },
            "type": "scatterternary"
           }
          ],
          "surface": [
           {
            "colorbar": {
             "outlinewidth": 0,
             "ticks": ""
            },
            "colorscale": [
             [
              0,
              "#0d0887"
             ],
             [
              0.1111111111111111,
              "#46039f"
             ],
             [
              0.2222222222222222,
              "#7201a8"
             ],
             [
              0.3333333333333333,
              "#9c179e"
             ],
             [
              0.4444444444444444,
              "#bd3786"
             ],
             [
              0.5555555555555556,
              "#d8576b"
             ],
             [
              0.6666666666666666,
              "#ed7953"
             ],
             [
              0.7777777777777778,
              "#fb9f3a"
             ],
             [
              0.8888888888888888,
              "#fdca26"
             ],
             [
              1,
              "#f0f921"
             ]
            ],
            "type": "surface"
           }
          ],
          "table": [
           {
            "cells": {
             "fill": {
              "color": "#EBF0F8"
             },
             "line": {
              "color": "white"
             }
            },
            "header": {
             "fill": {
              "color": "#C8D4E3"
             },
             "line": {
              "color": "white"
             }
            },
            "type": "table"
           }
          ]
         },
         "layout": {
          "annotationdefaults": {
           "arrowcolor": "#2a3f5f",
           "arrowhead": 0,
           "arrowwidth": 1
          },
          "autotypenumbers": "strict",
          "coloraxis": {
           "colorbar": {
            "outlinewidth": 0,
            "ticks": ""
           }
          },
          "colorscale": {
           "diverging": [
            [
             0,
             "#8e0152"
            ],
            [
             0.1,
             "#c51b7d"
            ],
            [
             0.2,
             "#de77ae"
            ],
            [
             0.3,
             "#f1b6da"
            ],
            [
             0.4,
             "#fde0ef"
            ],
            [
             0.5,
             "#f7f7f7"
            ],
            [
             0.6,
             "#e6f5d0"
            ],
            [
             0.7,
             "#b8e186"
            ],
            [
             0.8,
             "#7fbc41"
            ],
            [
             0.9,
             "#4d9221"
            ],
            [
             1,
             "#276419"
            ]
           ],
           "sequential": [
            [
             0,
             "#0d0887"
            ],
            [
             0.1111111111111111,
             "#46039f"
            ],
            [
             0.2222222222222222,
             "#7201a8"
            ],
            [
             0.3333333333333333,
             "#9c179e"
            ],
            [
             0.4444444444444444,
             "#bd3786"
            ],
            [
             0.5555555555555556,
             "#d8576b"
            ],
            [
             0.6666666666666666,
             "#ed7953"
            ],
            [
             0.7777777777777778,
             "#fb9f3a"
            ],
            [
             0.8888888888888888,
             "#fdca26"
            ],
            [
             1,
             "#f0f921"
            ]
           ],
           "sequentialminus": [
            [
             0,
             "#0d0887"
            ],
            [
             0.1111111111111111,
             "#46039f"
            ],
            [
             0.2222222222222222,
             "#7201a8"
            ],
            [
             0.3333333333333333,
             "#9c179e"
            ],
            [
             0.4444444444444444,
             "#bd3786"
            ],
            [
             0.5555555555555556,
             "#d8576b"
            ],
            [
             0.6666666666666666,
             "#ed7953"
            ],
            [
             0.7777777777777778,
             "#fb9f3a"
            ],
            [
             0.8888888888888888,
             "#fdca26"
            ],
            [
             1,
             "#f0f921"
            ]
           ]
          },
          "colorway": [
           "#636efa",
           "#EF553B",
           "#00cc96",
           "#ab63fa",
           "#FFA15A",
           "#19d3f3",
           "#FF6692",
           "#B6E880",
           "#FF97FF",
           "#FECB52"
          ],
          "font": {
           "color": "#2a3f5f"
          },
          "geo": {
           "bgcolor": "white",
           "lakecolor": "white",
           "landcolor": "#E5ECF6",
           "showlakes": true,
           "showland": true,
           "subunitcolor": "white"
          },
          "hoverlabel": {
           "align": "left"
          },
          "hovermode": "closest",
          "mapbox": {
           "style": "light"
          },
          "paper_bgcolor": "white",
          "plot_bgcolor": "#E5ECF6",
          "polar": {
           "angularaxis": {
            "gridcolor": "white",
            "linecolor": "white",
            "ticks": ""
           },
           "bgcolor": "#E5ECF6",
           "radialaxis": {
            "gridcolor": "white",
            "linecolor": "white",
            "ticks": ""
           }
          },
          "scene": {
           "xaxis": {
            "backgroundcolor": "#E5ECF6",
            "gridcolor": "white",
            "gridwidth": 2,
            "linecolor": "white",
            "showbackground": true,
            "ticks": "",
            "zerolinecolor": "white"
           },
           "yaxis": {
            "backgroundcolor": "#E5ECF6",
            "gridcolor": "white",
            "gridwidth": 2,
            "linecolor": "white",
            "showbackground": true,
            "ticks": "",
            "zerolinecolor": "white"
           },
           "zaxis": {
            "backgroundcolor": "#E5ECF6",
            "gridcolor": "white",
            "gridwidth": 2,
            "linecolor": "white",
            "showbackground": true,
            "ticks": "",
            "zerolinecolor": "white"
           }
          },
          "shapedefaults": {
           "line": {
            "color": "#2a3f5f"
           }
          },
          "ternary": {
           "aaxis": {
            "gridcolor": "white",
            "linecolor": "white",
            "ticks": ""
           },
           "baxis": {
            "gridcolor": "white",
            "linecolor": "white",
            "ticks": ""
           },
           "bgcolor": "#E5ECF6",
           "caxis": {
            "gridcolor": "white",
            "linecolor": "white",
            "ticks": ""
           }
          },
          "title": {
           "x": 0.05
          },
          "xaxis": {
           "automargin": true,
           "gridcolor": "white",
           "linecolor": "white",
           "ticks": "",
           "title": {
            "standoff": 15
           },
           "zerolinecolor": "white",
           "zerolinewidth": 2
          },
          "yaxis": {
           "automargin": true,
           "gridcolor": "white",
           "linecolor": "white",
           "ticks": "",
           "title": {
            "standoff": 15
           },
           "zerolinecolor": "white",
           "zerolinewidth": 2
          }
         }
        },
        "xaxis": {
         "anchor": "y",
         "domain": [
          0,
          1
         ],
         "title": {
          "text": "x_coord"
         }
        },
        "yaxis": {
         "anchor": "x",
         "domain": [
          0,
          1
         ],
         "title": {
          "text": "y_coord"
         }
        }
       }
      }
     },
     "metadata": {},
     "output_type": "display_data"
    }
   ],
   "source": [
    "import plotly.express as px\n",
    "\n",
    "df = px.data.iris()\n",
    "\n",
    "features = df.loc[:, :'petal_width']\n",
    "\n",
    "fig = px.scatter(\n",
    "    text_data, x=\"x_coord\", y=\"y_coord\",\n",
    "    color=text_data.cluster, labels={'color': 'species'},\n",
    "    hover_data=[\"lieblingssportart\", \"lieblingsessen\", \"lieblingsmusiker\", \"lieblingsgenre\"]\n",
    ")\n",
    "fig.show()"
   ]
  }
 ],
 "metadata": {
  "kernelspec": {
   "display_name": "data_science",
   "language": "python",
   "name": "python3"
  },
  "language_info": {
   "codemirror_mode": {
    "name": "ipython",
    "version": 3
   },
   "file_extension": ".py",
   "mimetype": "text/x-python",
   "name": "python",
   "nbconvert_exporter": "python",
   "pygments_lexer": "ipython3",
   "version": "3.9.16"
  },
  "orig_nbformat": 4
 },
 "nbformat": 4,
 "nbformat_minor": 2
}
