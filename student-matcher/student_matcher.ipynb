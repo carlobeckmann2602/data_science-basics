{
 "cells": [
  {
   "cell_type": "markdown",
   "metadata": {},
   "source": [
    "# Student Matcher"
   ]
  },
  {
   "cell_type": "code",
   "execution_count": 9,
   "metadata": {},
   "outputs": [],
   "source": [
    "%store -r columns_encoded\n",
    "%store -r columns_encoded\n",
    "%store -r columns\n",
    "%store -r data\n",
    "%store -r data_encoded\n",
    "%store -r pseudonym_df\n",
    "\n",
    "columns_encoded = columns_encoded\n",
    "columns = columns\n",
    "data = data\n",
    "data_encoded = data_encoded\n",
    "\n",
    "pseudonym_df = pseudonym_df"
   ]
  },
  {
   "cell_type": "code",
   "execution_count": 1,
   "metadata": {},
   "outputs": [],
   "source": [
    "import os\n",
    "import numpy as np\n",
    "import pandas as pd\n",
    "import matplotlib.pyplot as plt\n",
    "import seaborn as sb"
   ]
  },
  {
   "cell_type": "markdown",
   "metadata": {},
   "source": [
    "# 1 Ähnlichkeitsberechnung"
   ]
  },
  {
   "cell_type": "code",
   "execution_count": 88,
   "metadata": {},
   "outputs": [
    {
     "data": {
      "text/plain": [
       "0         lalala-lololo\n",
       "1                 hbstr\n",
       "2                 Panda\n",
       "3     TomTom Navigation\n",
       "4               LcAbrgr\n",
       "            ...        \n",
       "57     Stempelliebhaber\n",
       "58                  Fel\n",
       "59               PaBe28\n",
       "60              oretani\n",
       "61             D1C2D327\n",
       "Name: Bitte gib hier ein Pseudonym ein und merke dir dieses (z.B. Kürzel, Zahlencode, etc.). Damit können nach Abschluss des Projektes der eigene \"Datenpunkt\" gefunden werden. Das Pseudonym wird für Andere sichtbar sein., Length: 62, dtype: object"
      ]
     },
     "execution_count": 88,
     "metadata": {},
     "output_type": "execute_result"
    }
   ],
   "source": [
    "pseudonym_df"
   ]
  },
  {
   "cell_type": "markdown",
   "metadata": {},
   "source": [
    "## TODO: Funktion implementieren"
   ]
  },
  {
   "cell_type": "code",
   "execution_count": 33,
   "metadata": {},
   "outputs": [],
   "source": [
    "def survey_similarity(person1, person2):\n",
    "    return 1"
   ]
  },
  {
   "cell_type": "markdown",
   "metadata": {},
   "source": [
    "Die Funktion berechnet für jede Kombination von Datenpunkten (die anhand ihrer Pseudonyme identifiziert werden) einen \"Ähnlichkeitswert\", indem für jedes Paar die Ähnlichkeitsberechnung durchgeführt wird. Um die Berechnung performanter zu machen, wird hierbei überprüft, ob bereits für das zugehörige Paar in umgekehrter Reihenfolge ein Wert berechnet wurde. Falls dem so ist, wird der Wert übernommen, da die Ähnlichkeitsberechnung symmetrisch ist und die Ähnlichkeit von Person1 zu Person2 genauso groß ist wie von Person2 zu Person1.\n",
    "\n",
    "Die berechneten Ähnlichkeitswerte werden in einem (neuen) DataFrame gespeichert."
   ]
  },
  {
   "cell_type": "code",
   "execution_count": 86,
   "metadata": {},
   "outputs": [],
   "source": [
    "def compute_similarities(data):\n",
    "    similarities = pd.DataFrame(columns=[\"person1\", \"person2\", \"similarity\"])\n",
    "    for i in range(0, len(data)-1):\n",
    "        for j in range(0, len(data)-1):\n",
    "            pseudo_p1 = pseudonym_df.iloc[i]\n",
    "            pseudo_p2 = pseudonym_df.iloc[j]\n",
    "\n",
    "            # Mask checks whether there is already a computed value for the given pair, but in a swapped order\n",
    "            mask_p2_p1 = (similarities.person1 == pseudo_p2) & (similarities.person2 == pseudo_p1)\n",
    "            if len(similarities[mask_p2_p1]) > 0:\n",
    "                # As the order of the given pair does not has an impact on the computation, the value can be replaced directly by the corresponding pair in the swapped order\n",
    "                similarity_p1_p2 = similarities[mask_p2_p1].iloc[0][\"similarity\"]\n",
    "            else:\n",
    "                similarity_p1_p2 = survey_similarity(data.iloc[i], data.iloc[j])\n",
    "\n",
    "            similarities.loc[len(similarities)] = [pseudo_p1, pseudo_p2, similarity_p1_p2]\n",
    "\n",
    "    return similarities"
   ]
  },
  {
   "cell_type": "code",
   "execution_count": 96,
   "metadata": {},
   "outputs": [],
   "source": [
    "df_similarities = compute_similarities(data_encoded)"
   ]
  },
  {
   "cell_type": "code",
   "execution_count": 97,
   "metadata": {},
   "outputs": [
    {
     "data": {
      "text/html": [
       "<div>\n",
       "<style scoped>\n",
       "    .dataframe tbody tr th:only-of-type {\n",
       "        vertical-align: middle;\n",
       "    }\n",
       "\n",
       "    .dataframe tbody tr th {\n",
       "        vertical-align: top;\n",
       "    }\n",
       "\n",
       "    .dataframe thead th {\n",
       "        text-align: right;\n",
       "    }\n",
       "</style>\n",
       "<table border=\"1\" class=\"dataframe\">\n",
       "  <thead>\n",
       "    <tr style=\"text-align: right;\">\n",
       "      <th></th>\n",
       "      <th>person1</th>\n",
       "      <th>person2</th>\n",
       "      <th>similarity</th>\n",
       "    </tr>\n",
       "  </thead>\n",
       "  <tbody>\n",
       "    <tr>\n",
       "      <th>0</th>\n",
       "      <td>lalala-lololo</td>\n",
       "      <td>lalala-lololo</td>\n",
       "      <td>1</td>\n",
       "    </tr>\n",
       "    <tr>\n",
       "      <th>2485</th>\n",
       "      <td>hmmh</td>\n",
       "      <td>asdf</td>\n",
       "      <td>1</td>\n",
       "    </tr>\n",
       "    <tr>\n",
       "      <th>2473</th>\n",
       "      <td>hmmh</td>\n",
       "      <td>6VGOD2</td>\n",
       "      <td>1</td>\n",
       "    </tr>\n",
       "    <tr>\n",
       "      <th>2474</th>\n",
       "      <td>hmmh</td>\n",
       "      <td>mava</td>\n",
       "      <td>1</td>\n",
       "    </tr>\n",
       "    <tr>\n",
       "      <th>2475</th>\n",
       "      <td>hmmh</td>\n",
       "      <td>KaHo</td>\n",
       "      <td>1</td>\n",
       "    </tr>\n",
       "    <tr>\n",
       "      <th>...</th>\n",
       "      <td>...</td>\n",
       "      <td>...</td>\n",
       "      <td>...</td>\n",
       "    </tr>\n",
       "    <tr>\n",
       "      <th>1245</th>\n",
       "      <td>FB42</td>\n",
       "      <td>nomercy</td>\n",
       "      <td>1</td>\n",
       "    </tr>\n",
       "    <tr>\n",
       "      <th>1246</th>\n",
       "      <td>FB42</td>\n",
       "      <td>agalper</td>\n",
       "      <td>1</td>\n",
       "    </tr>\n",
       "    <tr>\n",
       "      <th>1247</th>\n",
       "      <td>FB42</td>\n",
       "      <td>ac1306</td>\n",
       "      <td>1</td>\n",
       "    </tr>\n",
       "    <tr>\n",
       "      <th>1248</th>\n",
       "      <td>FB42</td>\n",
       "      <td>brnlq</td>\n",
       "      <td>1</td>\n",
       "    </tr>\n",
       "    <tr>\n",
       "      <th>3720</th>\n",
       "      <td>oretani</td>\n",
       "      <td>oretani</td>\n",
       "      <td>1</td>\n",
       "    </tr>\n",
       "  </tbody>\n",
       "</table>\n",
       "<p>3721 rows × 3 columns</p>\n",
       "</div>"
      ],
      "text/plain": [
       "            person1        person2  similarity\n",
       "0     lalala-lololo  lalala-lololo           1\n",
       "2485           hmmh           asdf           1\n",
       "2473           hmmh         6VGOD2           1\n",
       "2474           hmmh           mava           1\n",
       "2475           hmmh           KaHo           1\n",
       "...             ...            ...         ...\n",
       "1245           FB42        nomercy           1\n",
       "1246           FB42        agalper           1\n",
       "1247           FB42         ac1306           1\n",
       "1248           FB42          brnlq           1\n",
       "3720        oretani        oretani           1\n",
       "\n",
       "[3721 rows x 3 columns]"
      ]
     },
     "execution_count": 97,
     "metadata": {},
     "output_type": "execute_result"
    }
   ],
   "source": [
    "df_similarities = df_similarities.sort_values(\"similarity\", ascending=False)\n",
    "df_similarities"
   ]
  },
  {
   "cell_type": "markdown",
   "metadata": {},
   "source": [
    "# 2. Netzwerk-Analyse"
   ]
  },
  {
   "cell_type": "markdown",
   "metadata": {},
   "source": [
    "# 3. Student Matcher Anwendung"
   ]
  },
  {
   "cell_type": "code",
   "execution_count": 102,
   "metadata": {},
   "outputs": [],
   "source": [
    "def student_matcher(pseudonym):\n",
    "    mask_pseudo = df_similarities.person1 == pseudonym\n",
    "    if len(df_similarities[mask_pseudo]) <= 0:\n",
    "        print(\"Für das übergebene Pseudonym wurde leider kein passender Datenpunkt gefunden.\")\n",
    "        return\n",
    "    \n",
    "    df_matches = df_similarities[mask_pseudo].sort_values(\"similarity\", ascending=False)\n",
    "    print(\"Für die gesuchte Personen wurden die folgenden Personen gefunden, die zu ihr passen könnten:\\n\")\n",
    "    print(df_matches.iloc[:4][\"person2\"])"
   ]
  },
  {
   "cell_type": "code",
   "execution_count": 103,
   "metadata": {},
   "outputs": [
    {
     "name": "stdout",
     "output_type": "stream",
     "text": [
      "Für die gesuchte Personen wurden die folgenden Personen gefunden, die zu ihr passen könnten:\n",
      "\n",
      "0         lalala-lololo\n",
      "27               ac1306\n",
      "3     TomTom Navigation\n",
      "4               LcAbrgr\n",
      "Name: person2, dtype: object\n"
     ]
    }
   ],
   "source": [
    "student_matcher(\"lalala-lololo\")"
   ]
  }
 ],
 "metadata": {
  "kernelspec": {
   "display_name": "data_science",
   "language": "python",
   "name": "python3"
  },
  "language_info": {
   "codemirror_mode": {
    "name": "ipython",
    "version": 3
   },
   "file_extension": ".py",
   "mimetype": "text/x-python",
   "name": "python",
   "nbconvert_exporter": "python",
   "pygments_lexer": "ipython3",
   "version": "3.10.9"
  },
  "orig_nbformat": 4
 },
 "nbformat": 4,
 "nbformat_minor": 2
}
