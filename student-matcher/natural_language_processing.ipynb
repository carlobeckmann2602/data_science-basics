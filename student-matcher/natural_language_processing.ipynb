{
 "cells": [
  {
   "cell_type": "code",
   "execution_count": null,
   "metadata": {},
   "outputs": [],
   "source": [
    "%store -r columns_encoded\n",
    "%store -r columns\n",
    "%store -r data\n",
    "%store -r data_encoded\n",
    "\n",
    "columns_encoded = columns_encoded\n",
    "columns = columns\n",
    "data = data\n",
    "data_encoded = data_encoded"
   ]
  },
  {
   "cell_type": "code",
   "execution_count": null,
   "metadata": {},
   "outputs": [],
   "source": [
    "import os\n",
    "import numpy as np\n",
    "import pandas as pd\n",
    "import matplotlib.pyplot as plt\n",
    "import seaborn as sb\n",
    "\n",
    "pd.set_option('display.max_columns', None)"
   ]
  },
  {
   "cell_type": "code",
   "execution_count": null,
   "metadata": {},
   "outputs": [],
   "source": [
    "data.head()"
   ]
  },
  {
   "cell_type": "code",
   "execution_count": null,
   "metadata": {},
   "outputs": [],
   "source": [
    "text_data_lieblingssportart = data[columns.lieblingssportart]\n",
    "text_data_lieblingsessen = data[columns.lieblingsessen]\n",
    "text_data_lieblingsmusiker = data[columns.lieblingsmusiker]"
   ]
  },
  {
   "cell_type": "markdown",
   "metadata": {},
   "source": [
    "# Tfidf Vectoren"
   ]
  },
  {
   "cell_type": "code",
   "execution_count": null,
   "metadata": {},
   "outputs": [],
   "source": [
    "from sklearn.feature_extraction.text import TfidfVectorizer"
   ]
  },
  {
   "cell_type": "code",
   "execution_count": null,
   "metadata": {},
   "outputs": [],
   "source": [
    "tfidf_lieblingssportart = TfidfVectorizer(max_df=0.25, min_df=2)\n",
    "tfidf_vectors_lieblingssportart = tfidf_lieblingssportart.fit_transform(text_data_lieblingssportart)\n",
    "tfidf_lieblingssportart.get_feature_names_out()"
   ]
  },
  {
   "cell_type": "code",
   "execution_count": null,
   "metadata": {},
   "outputs": [],
   "source": [
    "tfidf_lieblingsessen = TfidfVectorizer(max_df=0.25, min_df=2)\n",
    "tfidf_vectors_lieblingsessen = tfidf_lieblingsessen.fit_transform(text_data_lieblingsessen)\n",
    "tfidf_lieblingsessen.get_feature_names_out()"
   ]
  },
  {
   "cell_type": "code",
   "execution_count": null,
   "metadata": {},
   "outputs": [],
   "source": [
    "tfidf_lieblingsmusiker = TfidfVectorizer(max_df=0.25, min_df=2)\n",
    "tfidf_vectors_lieblingsmusiker = tfidf_lieblingsmusiker.fit_transform(text_data_lieblingsmusiker)\n",
    "tfidf_lieblingsmusiker.get_feature_names_out()"
   ]
  },
  {
   "cell_type": "markdown",
   "metadata": {},
   "source": [
    "# Clustering mit Wortvektoren"
   ]
  },
  {
   "cell_type": "code",
   "execution_count": null,
   "metadata": {},
   "outputs": [],
   "source": []
  }
 ],
 "metadata": {
  "kernelspec": {
   "display_name": "data_science",
   "language": "python",
   "name": "python3"
  },
  "language_info": {
   "codemirror_mode": {
    "name": "ipython",
    "version": 3
   },
   "file_extension": ".py",
   "mimetype": "text/x-python",
   "name": "python",
   "nbconvert_exporter": "python",
   "pygments_lexer": "ipython3",
   "version": "3.9.16"
  },
  "orig_nbformat": 4
 },
 "nbformat": 4,
 "nbformat_minor": 2
}
