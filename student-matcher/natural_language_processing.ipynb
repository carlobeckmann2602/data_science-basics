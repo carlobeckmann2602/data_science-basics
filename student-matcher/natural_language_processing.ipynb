{
 "cells": [
  {
   "cell_type": "code",
   "execution_count": 1,
   "metadata": {},
   "outputs": [],
   "source": [
    "%store -r columns_encoded\n",
    "%store -r columns\n",
    "%store -r data\n",
    "%store -r data_encoded\n",
    "%store -r data_with_genre_encoded\n",
    "%store -r columns_with_genre_encoded\n",
    "\n",
    "columns_encoded = columns_encoded\n",
    "columns = columns\n",
    "data = data\n",
    "data_encoded = data_encoded\n",
    "data_with_genre_encoded = data_with_genre_encoded\n",
    "columns_with_genre_encoded = columns_with_genre_encoded"
   ]
  },
  {
   "cell_type": "code",
   "execution_count": 2,
   "metadata": {},
   "outputs": [],
   "source": [
    "#!python -m spacy download de_core_news_md"
   ]
  },
  {
   "cell_type": "code",
   "execution_count": 3,
   "metadata": {},
   "outputs": [],
   "source": [
    "import os\n",
    "import numpy as np\n",
    "import pandas as pd\n",
    "import matplotlib.pyplot as plt\n",
    "import seaborn as sb\n",
    "import spacy\n",
    "\n",
    "pd.set_option('display.max_columns', None)"
   ]
  },
  {
   "cell_type": "code",
   "execution_count": 4,
   "metadata": {},
   "outputs": [
    {
     "data": {
      "text/html": [
       "<div>\n",
       "<style scoped>\n",
       "    .dataframe tbody tr th:only-of-type {\n",
       "        vertical-align: middle;\n",
       "    }\n",
       "\n",
       "    .dataframe tbody tr th {\n",
       "        vertical-align: top;\n",
       "    }\n",
       "\n",
       "    .dataframe thead th {\n",
       "        text-align: right;\n",
       "    }\n",
       "</style>\n",
       "<table border=\"1\" class=\"dataframe\">\n",
       "  <thead>\n",
       "    <tr style=\"text-align: right;\">\n",
       "      <th></th>\n",
       "      <th>Alter</th>\n",
       "      <th>Geschlecht</th>\n",
       "      <th>Welcher Funktion an der HSD fühlst du dich am meisten\\nzugehörig?</th>\n",
       "      <th>Welchem Studiengang fühlst du dich am meisten zugehörig?</th>\n",
       "      <th>Als wie sportlich würdest du dich einschätzen?</th>\n",
       "      <th>Was ist deine absolute Lieblingssportart?</th>\n",
       "      <th>Welche Rolle spielt für dich gesunde Ernährung?</th>\n",
       "      <th>Wie gerne gehst du Essen oder Trinken?</th>\n",
       "      <th>Wie gerne kochst du selbst?</th>\n",
       "      <th>Wie gerne gehst du feiern?</th>\n",
       "      <th>Was ist dein Lieblingsessen? (nur eines angeben)</th>\n",
       "      <th>Wie sehr interessierst du dich für Musik?</th>\n",
       "      <th>Was ist deine Lieblingsband bzw. dein/e Lieblings-Musiker*in?\\n(nur eine/n angeben)</th>\n",
       "      <th>Wie gerne liest Du?</th>\n",
       "      <th>Wie sehr interessierst du dich für darstellende Künste\\nwie Schauspiel, Tanz oder Gesang?</th>\n",
       "      <th>Wie sehr interessierst du sich für Filme, Kino, Fernsehsendungen?</th>\n",
       "      <th>Wie sehr interessierst du dich für bildende Kunst wie\\nMalen, Zeichnen oder Fotografie?</th>\n",
       "      <th>Wie gerne besuchst du Museen?</th>\n",
       "      <th>Wie sehr interessierst du dich für Videospiele?</th>\n",
       "      <th>Wie häufig nutzt du soziale Medien?</th>\n",
       "      <th>Wie groß ist dein Interesse an Technologie und Innovation,\\nwie beispielsweise Programmierung, Robotik und Virtual Reality?</th>\n",
       "      <th>Wie groß ist dein Interesse an Astronomie, Weltraumforschung\\noder astronomiebezogenen Aktivitäten?</th>\n",
       "      <th>Wie groß ist dein Interesse an Naturwissenschaften\\nwie Biologie, Chemie und Physik?</th>\n",
       "      <th>Wie sehr interessierst du sich für gesellschaftliches\\nEngagement und Freiwilligenarbeit?</th>\n",
       "      <th>Wie groß ist dein Interesse an sozialen Themen wie\\nVielfalt, Gleichberechtigung und soziale Gerechtigkeit?</th>\n",
       "      <th>Würdest du dich selbst als introvertiert/extrovertiert\\nbezeichnen?</th>\n",
       "      <th>Hast du häufig Angst etwas zu verpassen, wenn du nicht\\nunter Menschen bist?</th>\n",
       "      <th>Wie … schätzt Du dich selbst ein? (1 gar nicht - 5\\nsehr) [spontan]</th>\n",
       "      <th>Wie … schätzt Du dich selbst ein? (1 gar nicht - 5\\nsehr) [verwirrt]</th>\n",
       "      <th>Wie … schätzt Du dich selbst ein? (1 gar nicht - 5\\nsehr) [glücklich]</th>\n",
       "      <th>Wie … schätzt Du dich selbst ein? (1 gar nicht - 5\\nsehr) [geduldig]</th>\n",
       "      <th>Wie … schätzt Du dich selbst ein? (1 gar nicht - 5\\nsehr) [streitlustig]</th>\n",
       "      <th>Wie … schätzt Du dich selbst ein? (1 gar nicht - 5\\nsehr) [abenteuerlustig]</th>\n",
       "      <th>Hattest du schon einmal Zweifel daran, ob du dein Studium\\nschaffen kannst?</th>\n",
       "      <th>Wie zufrieden bist du mit deinem Studium?</th>\n",
       "      <th>Strebst du nach dem Studium auch weiterhin eine akademische\\nLaufbahn an?</th>\n",
       "      <th>Wie gern lernst Du in der Gruppe?</th>\n",
       "      <th>Prokrastinierst du, wenn du lernen müsstest?</th>\n",
       "      <th>Wie häufig machst du Abgaben auf den letzten Drücker?</th>\n",
       "      <th>Wie gerne probierst du neue Lebensmittel aus?</th>\n",
       "      <th>Wie häufig verbringst du Zeit in der Natur (z. B. beim\\nWandern oder Camping)?</th>\n",
       "      <th>Wie häufig verreist du?</th>\n",
       "      <th>Wie interessiert bist du an handwerklichen Tätigkeiten?</th>\n",
       "      <th>Wie gerne magst du Sprachnachrichten?</th>\n",
       "      <th>Wie wichtig ist es dir viel Geld zu verdienen?</th>\n",
       "      <th>Interesse an Basketball? (encoded)</th>\n",
       "      <th>Interesse an Bouldern/Klettern? (encoded)</th>\n",
       "      <th>Interesse an Football? (encoded)</th>\n",
       "      <th>Interesse an Fußball? (encoded)</th>\n",
       "      <th>Interesse an Handball? (encoded)</th>\n",
       "      <th>Interesse an Hockey? (encoded)</th>\n",
       "      <th>Interesse an Kampfsport? (encoded)</th>\n",
       "      <th>Interesse an Leichtathletik? (encoded)</th>\n",
       "      <th>Interesse an Reiten? (encoded)</th>\n",
       "      <th>Interesse an Rennrad/Mountainbike? (encoded)</th>\n",
       "      <th>Interesse an Schwimmen? (encoded)</th>\n",
       "      <th>Interesse an Tanzen? (encoded)</th>\n",
       "      <th>Interesse an Tennis? (encoded)</th>\n",
       "      <th>Interesse an Volleyball? (encoded)</th>\n",
       "      <th>Interesse an Wassersport? (encoded)</th>\n",
       "      <th>Interesse an Wintersport? (encoded)</th>\n",
       "      <th>Interesse an Yoga? (encoded)</th>\n",
       "    </tr>\n",
       "  </thead>\n",
       "  <tbody>\n",
       "    <tr>\n",
       "      <th>0</th>\n",
       "      <td>28</td>\n",
       "      <td>männlich</td>\n",
       "      <td>Student*in</td>\n",
       "      <td>MMI</td>\n",
       "      <td>4</td>\n",
       "      <td>Joggen</td>\n",
       "      <td>4</td>\n",
       "      <td>3</td>\n",
       "      <td>4</td>\n",
       "      <td>3</td>\n",
       "      <td>Vegane Lasagne</td>\n",
       "      <td>5</td>\n",
       "      <td>Kraftklub</td>\n",
       "      <td>4</td>\n",
       "      <td>3</td>\n",
       "      <td>3</td>\n",
       "      <td>3</td>\n",
       "      <td>2</td>\n",
       "      <td>2</td>\n",
       "      <td>3</td>\n",
       "      <td>4</td>\n",
       "      <td>2</td>\n",
       "      <td>2</td>\n",
       "      <td>3</td>\n",
       "      <td>3</td>\n",
       "      <td>3</td>\n",
       "      <td>3</td>\n",
       "      <td>3</td>\n",
       "      <td>4</td>\n",
       "      <td>4</td>\n",
       "      <td>4</td>\n",
       "      <td>3</td>\n",
       "      <td>3</td>\n",
       "      <td>2</td>\n",
       "      <td>4</td>\n",
       "      <td>1</td>\n",
       "      <td>5</td>\n",
       "      <td>3</td>\n",
       "      <td>2</td>\n",
       "      <td>5</td>\n",
       "      <td>5</td>\n",
       "      <td>2</td>\n",
       "      <td>2</td>\n",
       "      <td>3</td>\n",
       "      <td>3</td>\n",
       "      <td>1</td>\n",
       "      <td>1</td>\n",
       "      <td>0</td>\n",
       "      <td>0</td>\n",
       "      <td>0</td>\n",
       "      <td>0</td>\n",
       "      <td>0</td>\n",
       "      <td>0</td>\n",
       "      <td>0</td>\n",
       "      <td>1</td>\n",
       "      <td>0</td>\n",
       "      <td>0</td>\n",
       "      <td>0</td>\n",
       "      <td>0</td>\n",
       "      <td>0</td>\n",
       "      <td>0</td>\n",
       "      <td>1</td>\n",
       "    </tr>\n",
       "    <tr>\n",
       "      <th>1</th>\n",
       "      <td>26</td>\n",
       "      <td>männlich</td>\n",
       "      <td>Student*in</td>\n",
       "      <td>MMI</td>\n",
       "      <td>3</td>\n",
       "      <td>Fußball</td>\n",
       "      <td>4</td>\n",
       "      <td>4</td>\n",
       "      <td>5</td>\n",
       "      <td>2</td>\n",
       "      <td>Butterbrot</td>\n",
       "      <td>4</td>\n",
       "      <td>Red Hot Chili Peppers</td>\n",
       "      <td>2</td>\n",
       "      <td>3</td>\n",
       "      <td>4</td>\n",
       "      <td>4</td>\n",
       "      <td>4</td>\n",
       "      <td>4</td>\n",
       "      <td>5</td>\n",
       "      <td>5</td>\n",
       "      <td>4</td>\n",
       "      <td>4</td>\n",
       "      <td>3</td>\n",
       "      <td>4</td>\n",
       "      <td>3</td>\n",
       "      <td>3</td>\n",
       "      <td>3</td>\n",
       "      <td>1</td>\n",
       "      <td>4</td>\n",
       "      <td>2</td>\n",
       "      <td>2</td>\n",
       "      <td>3</td>\n",
       "      <td>3</td>\n",
       "      <td>4</td>\n",
       "      <td>3</td>\n",
       "      <td>3</td>\n",
       "      <td>2</td>\n",
       "      <td>2</td>\n",
       "      <td>4</td>\n",
       "      <td>3</td>\n",
       "      <td>3</td>\n",
       "      <td>4</td>\n",
       "      <td>3</td>\n",
       "      <td>4</td>\n",
       "      <td>0</td>\n",
       "      <td>1</td>\n",
       "      <td>0</td>\n",
       "      <td>1</td>\n",
       "      <td>0</td>\n",
       "      <td>0</td>\n",
       "      <td>0</td>\n",
       "      <td>0</td>\n",
       "      <td>0</td>\n",
       "      <td>1</td>\n",
       "      <td>0</td>\n",
       "      <td>0</td>\n",
       "      <td>0</td>\n",
       "      <td>1</td>\n",
       "      <td>0</td>\n",
       "      <td>0</td>\n",
       "      <td>1</td>\n",
       "    </tr>\n",
       "    <tr>\n",
       "      <th>2</th>\n",
       "      <td>24</td>\n",
       "      <td>männlich</td>\n",
       "      <td>Student*in</td>\n",
       "      <td>MMI</td>\n",
       "      <td>2</td>\n",
       "      <td>Keine Lieblingssportart</td>\n",
       "      <td>5</td>\n",
       "      <td>4</td>\n",
       "      <td>4</td>\n",
       "      <td>3</td>\n",
       "      <td>Lasagne</td>\n",
       "      <td>5</td>\n",
       "      <td>The 1975</td>\n",
       "      <td>2</td>\n",
       "      <td>3</td>\n",
       "      <td>4</td>\n",
       "      <td>4</td>\n",
       "      <td>5</td>\n",
       "      <td>3</td>\n",
       "      <td>4</td>\n",
       "      <td>4</td>\n",
       "      <td>3</td>\n",
       "      <td>2</td>\n",
       "      <td>4</td>\n",
       "      <td>5</td>\n",
       "      <td>4</td>\n",
       "      <td>5</td>\n",
       "      <td>4</td>\n",
       "      <td>2</td>\n",
       "      <td>4</td>\n",
       "      <td>5</td>\n",
       "      <td>1</td>\n",
       "      <td>4</td>\n",
       "      <td>2</td>\n",
       "      <td>4</td>\n",
       "      <td>3</td>\n",
       "      <td>5</td>\n",
       "      <td>5</td>\n",
       "      <td>1</td>\n",
       "      <td>3</td>\n",
       "      <td>2</td>\n",
       "      <td>3</td>\n",
       "      <td>2</td>\n",
       "      <td>4</td>\n",
       "      <td>3</td>\n",
       "      <td>0</td>\n",
       "      <td>1</td>\n",
       "      <td>0</td>\n",
       "      <td>1</td>\n",
       "      <td>1</td>\n",
       "      <td>0</td>\n",
       "      <td>0</td>\n",
       "      <td>0</td>\n",
       "      <td>0</td>\n",
       "      <td>0</td>\n",
       "      <td>0</td>\n",
       "      <td>1</td>\n",
       "      <td>0</td>\n",
       "      <td>0</td>\n",
       "      <td>0</td>\n",
       "      <td>0</td>\n",
       "      <td>1</td>\n",
       "    </tr>\n",
       "    <tr>\n",
       "      <th>3</th>\n",
       "      <td>23</td>\n",
       "      <td>männlich</td>\n",
       "      <td>Student*in</td>\n",
       "      <td>MMI</td>\n",
       "      <td>5</td>\n",
       "      <td>Trampolin</td>\n",
       "      <td>2</td>\n",
       "      <td>4</td>\n",
       "      <td>4</td>\n",
       "      <td>2</td>\n",
       "      <td>Burger</td>\n",
       "      <td>3</td>\n",
       "      <td>Kein Lieblingsmusiker</td>\n",
       "      <td>3</td>\n",
       "      <td>2</td>\n",
       "      <td>4</td>\n",
       "      <td>1</td>\n",
       "      <td>3</td>\n",
       "      <td>4</td>\n",
       "      <td>2</td>\n",
       "      <td>5</td>\n",
       "      <td>2</td>\n",
       "      <td>3</td>\n",
       "      <td>4</td>\n",
       "      <td>3</td>\n",
       "      <td>3</td>\n",
       "      <td>2</td>\n",
       "      <td>2</td>\n",
       "      <td>1</td>\n",
       "      <td>5</td>\n",
       "      <td>4</td>\n",
       "      <td>2</td>\n",
       "      <td>4</td>\n",
       "      <td>3</td>\n",
       "      <td>4</td>\n",
       "      <td>2</td>\n",
       "      <td>2</td>\n",
       "      <td>2</td>\n",
       "      <td>3</td>\n",
       "      <td>5</td>\n",
       "      <td>4</td>\n",
       "      <td>4</td>\n",
       "      <td>2</td>\n",
       "      <td>3</td>\n",
       "      <td>3</td>\n",
       "      <td>0</td>\n",
       "      <td>1</td>\n",
       "      <td>0</td>\n",
       "      <td>0</td>\n",
       "      <td>0</td>\n",
       "      <td>0</td>\n",
       "      <td>0</td>\n",
       "      <td>1</td>\n",
       "      <td>0</td>\n",
       "      <td>0</td>\n",
       "      <td>0</td>\n",
       "      <td>0</td>\n",
       "      <td>0</td>\n",
       "      <td>0</td>\n",
       "      <td>0</td>\n",
       "      <td>1</td>\n",
       "      <td>0</td>\n",
       "    </tr>\n",
       "    <tr>\n",
       "      <th>4</th>\n",
       "      <td>24</td>\n",
       "      <td>weiblich</td>\n",
       "      <td>Student*in</td>\n",
       "      <td>MMI</td>\n",
       "      <td>3</td>\n",
       "      <td>Klettern</td>\n",
       "      <td>4</td>\n",
       "      <td>3</td>\n",
       "      <td>2</td>\n",
       "      <td>1</td>\n",
       "      <td>Dampfnudeln</td>\n",
       "      <td>3</td>\n",
       "      <td>Kein Lieblingsmusiker</td>\n",
       "      <td>4</td>\n",
       "      <td>2</td>\n",
       "      <td>5</td>\n",
       "      <td>2</td>\n",
       "      <td>2</td>\n",
       "      <td>1</td>\n",
       "      <td>2</td>\n",
       "      <td>4</td>\n",
       "      <td>1</td>\n",
       "      <td>2</td>\n",
       "      <td>2</td>\n",
       "      <td>2</td>\n",
       "      <td>3</td>\n",
       "      <td>2</td>\n",
       "      <td>5</td>\n",
       "      <td>4</td>\n",
       "      <td>4</td>\n",
       "      <td>4</td>\n",
       "      <td>2</td>\n",
       "      <td>5</td>\n",
       "      <td>4</td>\n",
       "      <td>4</td>\n",
       "      <td>1</td>\n",
       "      <td>1</td>\n",
       "      <td>5</td>\n",
       "      <td>5</td>\n",
       "      <td>2</td>\n",
       "      <td>3</td>\n",
       "      <td>4</td>\n",
       "      <td>3</td>\n",
       "      <td>3</td>\n",
       "      <td>4</td>\n",
       "      <td>0</td>\n",
       "      <td>1</td>\n",
       "      <td>0</td>\n",
       "      <td>0</td>\n",
       "      <td>0</td>\n",
       "      <td>0</td>\n",
       "      <td>0</td>\n",
       "      <td>0</td>\n",
       "      <td>0</td>\n",
       "      <td>0</td>\n",
       "      <td>0</td>\n",
       "      <td>0</td>\n",
       "      <td>0</td>\n",
       "      <td>0</td>\n",
       "      <td>0</td>\n",
       "      <td>0</td>\n",
       "      <td>0</td>\n",
       "    </tr>\n",
       "  </tbody>\n",
       "</table>\n",
       "</div>"
      ],
      "text/plain": [
       "   Alter Geschlecht   \n",
       "0     28   männlich  \\\n",
       "1     26   männlich   \n",
       "2     24   männlich   \n",
       "3     23   männlich   \n",
       "4     24   weiblich   \n",
       "\n",
       "  Welcher Funktion an der HSD fühlst du dich am meisten\\nzugehörig?   \n",
       "0                                         Student*in                 \\\n",
       "1                                         Student*in                  \n",
       "2                                         Student*in                  \n",
       "3                                         Student*in                  \n",
       "4                                         Student*in                  \n",
       "\n",
       "  Welchem Studiengang fühlst du dich am meisten zugehörig?   \n",
       "0                                                MMI        \\\n",
       "1                                                MMI         \n",
       "2                                                MMI         \n",
       "3                                                MMI         \n",
       "4                                                MMI         \n",
       "\n",
       "   Als wie sportlich würdest du dich einschätzen?   \n",
       "0                                               4  \\\n",
       "1                                               3   \n",
       "2                                               2   \n",
       "3                                               5   \n",
       "4                                               3   \n",
       "\n",
       "  Was ist deine absolute Lieblingssportart?   \n",
       "0                                    Joggen  \\\n",
       "1                                   Fußball   \n",
       "2                   Keine Lieblingssportart   \n",
       "3                                 Trampolin   \n",
       "4                                  Klettern   \n",
       "\n",
       "   Welche Rolle spielt für dich gesunde Ernährung?    \n",
       "0                                                 4  \\\n",
       "1                                                 4   \n",
       "2                                                 5   \n",
       "3                                                 2   \n",
       "4                                                 4   \n",
       "\n",
       "   Wie gerne gehst du Essen oder Trinken?  Wie gerne kochst du selbst?   \n",
       "0                                       3                            4  \\\n",
       "1                                       4                            5   \n",
       "2                                       4                            4   \n",
       "3                                       4                            4   \n",
       "4                                       3                            2   \n",
       "\n",
       "   Wie gerne gehst du feiern?   \n",
       "0                           3  \\\n",
       "1                           2   \n",
       "2                           3   \n",
       "3                           2   \n",
       "4                           1   \n",
       "\n",
       "  Was ist dein Lieblingsessen? (nur eines angeben)   \n",
       "0                                   Vegane Lasagne  \\\n",
       "1                                       Butterbrot   \n",
       "2                                          Lasagne   \n",
       "3                                           Burger   \n",
       "4                                      Dampfnudeln   \n",
       "\n",
       "   Wie sehr interessierst du dich für Musik?   \n",
       "0                                          5  \\\n",
       "1                                          4   \n",
       "2                                          5   \n",
       "3                                          3   \n",
       "4                                          3   \n",
       "\n",
       "  Was ist deine Lieblingsband bzw. dein/e Lieblings-Musiker*in?\\n(nur eine/n angeben)   \n",
       "0                                          Kraftklub                                   \\\n",
       "1                              Red Hot Chili Peppers                                    \n",
       "2                                           The 1975                                    \n",
       "3                              Kein Lieblingsmusiker                                    \n",
       "4                              Kein Lieblingsmusiker                                    \n",
       "\n",
       "   Wie gerne liest Du?   \n",
       "0                    4  \\\n",
       "1                    2   \n",
       "2                    2   \n",
       "3                    3   \n",
       "4                    4   \n",
       "\n",
       "   Wie sehr interessierst du dich für darstellende Künste\\nwie Schauspiel, Tanz oder Gesang?   \n",
       "0                                                  3                                          \\\n",
       "1                                                  3                                           \n",
       "2                                                  3                                           \n",
       "3                                                  2                                           \n",
       "4                                                  2                                           \n",
       "\n",
       "   Wie sehr interessierst du sich für Filme, Kino, Fernsehsendungen?   \n",
       "0                                                  3                  \\\n",
       "1                                                  4                   \n",
       "2                                                  4                   \n",
       "3                                                  4                   \n",
       "4                                                  5                   \n",
       "\n",
       "   Wie sehr interessierst du dich für bildende Kunst wie\\nMalen, Zeichnen oder Fotografie?   \n",
       "0                                                  3                                        \\\n",
       "1                                                  4                                         \n",
       "2                                                  4                                         \n",
       "3                                                  1                                         \n",
       "4                                                  2                                         \n",
       "\n",
       "   Wie gerne besuchst du Museen?   \n",
       "0                              2  \\\n",
       "1                              4   \n",
       "2                              5   \n",
       "3                              3   \n",
       "4                              2   \n",
       "\n",
       "   Wie sehr interessierst du dich für Videospiele?   \n",
       "0                                                2  \\\n",
       "1                                                4   \n",
       "2                                                3   \n",
       "3                                                4   \n",
       "4                                                1   \n",
       "\n",
       "   Wie häufig nutzt du soziale Medien?   \n",
       "0                                    3  \\\n",
       "1                                    5   \n",
       "2                                    4   \n",
       "3                                    2   \n",
       "4                                    2   \n",
       "\n",
       "   Wie groß ist dein Interesse an Technologie und Innovation,\\nwie beispielsweise Programmierung, Robotik und Virtual Reality?   \n",
       "0                                                  4                                                                            \\\n",
       "1                                                  5                                                                             \n",
       "2                                                  4                                                                             \n",
       "3                                                  5                                                                             \n",
       "4                                                  4                                                                             \n",
       "\n",
       "   Wie groß ist dein Interesse an Astronomie, Weltraumforschung\\noder astronomiebezogenen Aktivitäten?   \n",
       "0                                                  2                                                    \\\n",
       "1                                                  4                                                     \n",
       "2                                                  3                                                     \n",
       "3                                                  2                                                     \n",
       "4                                                  1                                                     \n",
       "\n",
       "   Wie groß ist dein Interesse an Naturwissenschaften\\nwie Biologie, Chemie und Physik?   \n",
       "0                                                  2                                     \\\n",
       "1                                                  4                                      \n",
       "2                                                  2                                      \n",
       "3                                                  3                                      \n",
       "4                                                  2                                      \n",
       "\n",
       "   Wie sehr interessierst du sich für gesellschaftliches\\nEngagement und Freiwilligenarbeit?   \n",
       "0                                                  3                                          \\\n",
       "1                                                  3                                           \n",
       "2                                                  4                                           \n",
       "3                                                  4                                           \n",
       "4                                                  2                                           \n",
       "\n",
       "   Wie groß ist dein Interesse an sozialen Themen wie\\nVielfalt, Gleichberechtigung und soziale Gerechtigkeit?   \n",
       "0                                                  3                                                            \\\n",
       "1                                                  4                                                             \n",
       "2                                                  5                                                             \n",
       "3                                                  3                                                             \n",
       "4                                                  2                                                             \n",
       "\n",
       "   Würdest du dich selbst als introvertiert/extrovertiert\\nbezeichnen?   \n",
       "0                                                  3                    \\\n",
       "1                                                  3                     \n",
       "2                                                  4                     \n",
       "3                                                  3                     \n",
       "4                                                  3                     \n",
       "\n",
       "   Hast du häufig Angst etwas zu verpassen, wenn du nicht\\nunter Menschen bist?   \n",
       "0                                                  3                             \\\n",
       "1                                                  3                              \n",
       "2                                                  5                              \n",
       "3                                                  2                              \n",
       "4                                                  2                              \n",
       "\n",
       "   Wie … schätzt Du dich selbst ein? (1 gar nicht - 5\\nsehr) [spontan]   \n",
       "0                                                  3                    \\\n",
       "1                                                  3                     \n",
       "2                                                  4                     \n",
       "3                                                  2                     \n",
       "4                                                  5                     \n",
       "\n",
       "   Wie … schätzt Du dich selbst ein? (1 gar nicht - 5\\nsehr) [verwirrt]   \n",
       "0                                                  4                     \\\n",
       "1                                                  1                      \n",
       "2                                                  2                      \n",
       "3                                                  1                      \n",
       "4                                                  4                      \n",
       "\n",
       "   Wie … schätzt Du dich selbst ein? (1 gar nicht - 5\\nsehr) [glücklich]   \n",
       "0                                                  4                      \\\n",
       "1                                                  4                       \n",
       "2                                                  4                       \n",
       "3                                                  5                       \n",
       "4                                                  4                       \n",
       "\n",
       "   Wie … schätzt Du dich selbst ein? (1 gar nicht - 5\\nsehr) [geduldig]   \n",
       "0                                                  4                     \\\n",
       "1                                                  2                      \n",
       "2                                                  5                      \n",
       "3                                                  4                      \n",
       "4                                                  4                      \n",
       "\n",
       "   Wie … schätzt Du dich selbst ein? (1 gar nicht - 5\\nsehr) [streitlustig]   \n",
       "0                                                  3                         \\\n",
       "1                                                  2                          \n",
       "2                                                  1                          \n",
       "3                                                  2                          \n",
       "4                                                  2                          \n",
       "\n",
       "   Wie … schätzt Du dich selbst ein? (1 gar nicht - 5\\nsehr) [abenteuerlustig]   \n",
       "0                                                  3                            \\\n",
       "1                                                  3                             \n",
       "2                                                  4                             \n",
       "3                                                  4                             \n",
       "4                                                  5                             \n",
       "\n",
       "   Hattest du schon einmal Zweifel daran, ob du dein Studium\\nschaffen kannst?   \n",
       "0                                                  2                            \\\n",
       "1                                                  3                             \n",
       "2                                                  2                             \n",
       "3                                                  3                             \n",
       "4                                                  4                             \n",
       "\n",
       "   Wie zufrieden bist du mit deinem Studium?    \n",
       "0                                           4  \\\n",
       "1                                           4   \n",
       "2                                           4   \n",
       "3                                           4   \n",
       "4                                           4   \n",
       "\n",
       "   Strebst du nach dem Studium auch weiterhin eine akademische\\nLaufbahn an?   \n",
       "0                                                  1                          \\\n",
       "1                                                  3                           \n",
       "2                                                  3                           \n",
       "3                                                  2                           \n",
       "4                                                  1                           \n",
       "\n",
       "   Wie gern lernst Du in der Gruppe?   \n",
       "0                                  5  \\\n",
       "1                                  3   \n",
       "2                                  5   \n",
       "3                                  2   \n",
       "4                                  1   \n",
       "\n",
       "   Prokrastinierst du, wenn du lernen müsstest?   \n",
       "0                                             3  \\\n",
       "1                                             2   \n",
       "2                                             5   \n",
       "3                                             2   \n",
       "4                                             5   \n",
       "\n",
       "   Wie häufig machst du Abgaben auf den letzten Drücker?   \n",
       "0                                                  2      \\\n",
       "1                                                  2       \n",
       "2                                                  1       \n",
       "3                                                  3       \n",
       "4                                                  5       \n",
       "\n",
       "   Wie gerne probierst du neue Lebensmittel aus?   \n",
       "0                                              5  \\\n",
       "1                                              4   \n",
       "2                                              3   \n",
       "3                                              5   \n",
       "4                                              2   \n",
       "\n",
       "   Wie häufig verbringst du Zeit in der Natur (z. B. beim\\nWandern oder Camping)?   \n",
       "0                                                  5                               \\\n",
       "1                                                  3                                \n",
       "2                                                  2                                \n",
       "3                                                  4                                \n",
       "4                                                  3                                \n",
       "\n",
       "   Wie häufig verreist du?   \n",
       "0                        2  \\\n",
       "1                        3   \n",
       "2                        3   \n",
       "3                        4   \n",
       "4                        4   \n",
       "\n",
       "   Wie interessiert bist du an handwerklichen Tätigkeiten?   \n",
       "0                                                  2        \\\n",
       "1                                                  4         \n",
       "2                                                  2         \n",
       "3                                                  2         \n",
       "4                                                  3         \n",
       "\n",
       "   Wie gerne magst du Sprachnachrichten?   \n",
       "0                                      3  \\\n",
       "1                                      3   \n",
       "2                                      4   \n",
       "3                                      3   \n",
       "4                                      3   \n",
       "\n",
       "   Wie wichtig ist es dir viel Geld zu verdienen?   \n",
       "0                                               3  \\\n",
       "1                                               4   \n",
       "2                                               3   \n",
       "3                                               3   \n",
       "4                                               4   \n",
       "\n",
       "   Interesse an Basketball? (encoded)   \n",
       "0                                   1  \\\n",
       "1                                   0   \n",
       "2                                   0   \n",
       "3                                   0   \n",
       "4                                   0   \n",
       "\n",
       "   Interesse an Bouldern/Klettern? (encoded)   \n",
       "0                                          1  \\\n",
       "1                                          1   \n",
       "2                                          1   \n",
       "3                                          1   \n",
       "4                                          1   \n",
       "\n",
       "   Interesse an Football? (encoded)  Interesse an Fußball? (encoded)   \n",
       "0                                 0                                0  \\\n",
       "1                                 0                                1   \n",
       "2                                 0                                1   \n",
       "3                                 0                                0   \n",
       "4                                 0                                0   \n",
       "\n",
       "   Interesse an Handball? (encoded)  Interesse an Hockey? (encoded)   \n",
       "0                                 0                               0  \\\n",
       "1                                 0                               0   \n",
       "2                                 1                               0   \n",
       "3                                 0                               0   \n",
       "4                                 0                               0   \n",
       "\n",
       "   Interesse an Kampfsport? (encoded)  Interesse an Leichtathletik? (encoded)   \n",
       "0                                   0                                       0  \\\n",
       "1                                   0                                       0   \n",
       "2                                   0                                       0   \n",
       "3                                   0                                       1   \n",
       "4                                   0                                       0   \n",
       "\n",
       "   Interesse an Reiten? (encoded)   \n",
       "0                               0  \\\n",
       "1                               0   \n",
       "2                               0   \n",
       "3                               0   \n",
       "4                               0   \n",
       "\n",
       "   Interesse an Rennrad/Mountainbike? (encoded)   \n",
       "0                                             1  \\\n",
       "1                                             1   \n",
       "2                                             0   \n",
       "3                                             0   \n",
       "4                                             0   \n",
       "\n",
       "   Interesse an Schwimmen? (encoded)  Interesse an Tanzen? (encoded)   \n",
       "0                                  0                               0  \\\n",
       "1                                  0                               0   \n",
       "2                                  0                               1   \n",
       "3                                  0                               0   \n",
       "4                                  0                               0   \n",
       "\n",
       "   Interesse an Tennis? (encoded)  Interesse an Volleyball? (encoded)   \n",
       "0                               0                                   0  \\\n",
       "1                               0                                   1   \n",
       "2                               0                                   0   \n",
       "3                               0                                   0   \n",
       "4                               0                                   0   \n",
       "\n",
       "   Interesse an Wassersport? (encoded)  Interesse an Wintersport? (encoded)   \n",
       "0                                    0                                    0  \\\n",
       "1                                    0                                    0   \n",
       "2                                    0                                    0   \n",
       "3                                    0                                    1   \n",
       "4                                    0                                    0   \n",
       "\n",
       "   Interesse an Yoga? (encoded)  \n",
       "0                             1  \n",
       "1                             1  \n",
       "2                             1  \n",
       "3                             0  \n",
       "4                             0  "
      ]
     },
     "execution_count": 4,
     "metadata": {},
     "output_type": "execute_result"
    }
   ],
   "source": [
    "data.head()"
   ]
  },
  {
   "cell_type": "code",
   "execution_count": 5,
   "metadata": {},
   "outputs": [],
   "source": [
    "text_data_lieblingssportart = data[columns.lieblingssportart]\n",
    "text_data_lieblingsessen = data[columns.lieblingsessen]\n",
    "text_data_lieblingsmusiker = data[columns.lieblingsmusiker]\n",
    "text_data_lieblingsgenre = data_with_genre_encoded[columns_with_genre_encoded.genre_lieblingsmusiker]\n",
    "text_data_combined = text_data_lieblingssportart + \" \" + text_data_lieblingsessen + \" \" + text_data_lieblingsmusiker + \" \" + text_data_lieblingsgenre"
   ]
  },
  {
   "cell_type": "code",
   "execution_count": 6,
   "metadata": {},
   "outputs": [
    {
     "data": {
      "text/html": [
       "<div>\n",
       "<style scoped>\n",
       "    .dataframe tbody tr th:only-of-type {\n",
       "        vertical-align: middle;\n",
       "    }\n",
       "\n",
       "    .dataframe tbody tr th {\n",
       "        vertical-align: top;\n",
       "    }\n",
       "\n",
       "    .dataframe thead th {\n",
       "        text-align: right;\n",
       "    }\n",
       "</style>\n",
       "<table border=\"1\" class=\"dataframe\">\n",
       "  <thead>\n",
       "    <tr style=\"text-align: right;\">\n",
       "      <th></th>\n",
       "      <th>lieblingssportart</th>\n",
       "      <th>lieblingsessen</th>\n",
       "      <th>lieblingsmusiker</th>\n",
       "      <th>lieblingsgenre</th>\n",
       "      <th>combined</th>\n",
       "    </tr>\n",
       "  </thead>\n",
       "  <tbody>\n",
       "    <tr>\n",
       "      <th>0</th>\n",
       "      <td>Joggen</td>\n",
       "      <td>Vegane Lasagne</td>\n",
       "      <td>Kraftklub</td>\n",
       "      <td>rock</td>\n",
       "      <td>Joggen Vegane Lasagne Kraftklub rock</td>\n",
       "    </tr>\n",
       "    <tr>\n",
       "      <th>1</th>\n",
       "      <td>Fußball</td>\n",
       "      <td>Butterbrot</td>\n",
       "      <td>Red Hot Chili Peppers</td>\n",
       "      <td>rock</td>\n",
       "      <td>Fußball Butterbrot Red Hot Chili Peppers rock</td>\n",
       "    </tr>\n",
       "    <tr>\n",
       "      <th>2</th>\n",
       "      <td>Keine Lieblingssportart</td>\n",
       "      <td>Lasagne</td>\n",
       "      <td>The 1975</td>\n",
       "      <td>alternative</td>\n",
       "      <td>Keine Lieblingssportart Lasagne The 1975 alter...</td>\n",
       "    </tr>\n",
       "    <tr>\n",
       "      <th>3</th>\n",
       "      <td>Trampolin</td>\n",
       "      <td>Burger</td>\n",
       "      <td>Kein Lieblingsmusiker</td>\n",
       "      <td>kein_lieblingsgenre</td>\n",
       "      <td>Trampolin Burger Kein Lieblingsmusiker kein_li...</td>\n",
       "    </tr>\n",
       "    <tr>\n",
       "      <th>4</th>\n",
       "      <td>Klettern</td>\n",
       "      <td>Dampfnudeln</td>\n",
       "      <td>Kein Lieblingsmusiker</td>\n",
       "      <td>kein_lieblingsgenre</td>\n",
       "      <td>Klettern Dampfnudeln Kein Lieblingsmusiker kei...</td>\n",
       "    </tr>\n",
       "    <tr>\n",
       "      <th>5</th>\n",
       "      <td>Bouldern</td>\n",
       "      <td>Pho</td>\n",
       "      <td>Kein Lieblingsmusiker</td>\n",
       "      <td>kein_lieblingsgenre</td>\n",
       "      <td>Bouldern Pho Kein Lieblingsmusiker kein_liebli...</td>\n",
       "    </tr>\n",
       "    <tr>\n",
       "      <th>6</th>\n",
       "      <td>Keine Lieblingssportart</td>\n",
       "      <td>Tomaten</td>\n",
       "      <td>Pugliese</td>\n",
       "      <td>pop</td>\n",
       "      <td>Keine Lieblingssportart Tomaten Pugliese pop</td>\n",
       "    </tr>\n",
       "    <tr>\n",
       "      <th>7</th>\n",
       "      <td>Fußball</td>\n",
       "      <td>Pasta</td>\n",
       "      <td>Green Day</td>\n",
       "      <td>alternative</td>\n",
       "      <td>Fußball Pasta Green Day alternative</td>\n",
       "    </tr>\n",
       "    <tr>\n",
       "      <th>8</th>\n",
       "      <td>Schnorcheln</td>\n",
       "      <td>Pizza</td>\n",
       "      <td>Pete Philly</td>\n",
       "      <td>rap_hip_hop</td>\n",
       "      <td>Schnorcheln Pizza Pete Philly rap_hip_hop</td>\n",
       "    </tr>\n",
       "    <tr>\n",
       "      <th>9</th>\n",
       "      <td>Tennis</td>\n",
       "      <td>Sushi</td>\n",
       "      <td>Radiohead</td>\n",
       "      <td>alternative</td>\n",
       "      <td>Tennis Sushi Radiohead alternative</td>\n",
       "    </tr>\n",
       "  </tbody>\n",
       "</table>\n",
       "</div>"
      ],
      "text/plain": [
       "         lieblingssportart  lieblingsessen       lieblingsmusiker   \n",
       "0                   Joggen  Vegane Lasagne              Kraftklub  \\\n",
       "1                  Fußball      Butterbrot  Red Hot Chili Peppers   \n",
       "2  Keine Lieblingssportart         Lasagne               The 1975   \n",
       "3                Trampolin          Burger  Kein Lieblingsmusiker   \n",
       "4                 Klettern     Dampfnudeln  Kein Lieblingsmusiker   \n",
       "5                 Bouldern             Pho  Kein Lieblingsmusiker   \n",
       "6  Keine Lieblingssportart         Tomaten               Pugliese   \n",
       "7                  Fußball           Pasta              Green Day   \n",
       "8              Schnorcheln           Pizza            Pete Philly   \n",
       "9                   Tennis           Sushi              Radiohead   \n",
       "\n",
       "        lieblingsgenre                                           combined  \n",
       "0                 rock               Joggen Vegane Lasagne Kraftklub rock  \n",
       "1                 rock      Fußball Butterbrot Red Hot Chili Peppers rock  \n",
       "2          alternative  Keine Lieblingssportart Lasagne The 1975 alter...  \n",
       "3  kein_lieblingsgenre  Trampolin Burger Kein Lieblingsmusiker kein_li...  \n",
       "4  kein_lieblingsgenre  Klettern Dampfnudeln Kein Lieblingsmusiker kei...  \n",
       "5  kein_lieblingsgenre  Bouldern Pho Kein Lieblingsmusiker kein_liebli...  \n",
       "6                  pop       Keine Lieblingssportart Tomaten Pugliese pop  \n",
       "7          alternative                Fußball Pasta Green Day alternative  \n",
       "8          rap_hip_hop          Schnorcheln Pizza Pete Philly rap_hip_hop  \n",
       "9          alternative                 Tennis Sushi Radiohead alternative  "
      ]
     },
     "execution_count": 6,
     "metadata": {},
     "output_type": "execute_result"
    }
   ],
   "source": [
    "data_frame_content = {\n",
    "    \"lieblingssportart\": text_data_lieblingssportart,\n",
    "    \"lieblingsessen\": text_data_lieblingsessen,\n",
    "    \"lieblingsmusiker\": text_data_lieblingsmusiker,\n",
    "    \"lieblingsgenre\": text_data_lieblingsgenre,\n",
    "    \"combined\": text_data_combined\n",
    "}\n",
    "\n",
    "text_data = pd.DataFrame(data_frame_content)\n",
    "\n",
    "text_data.head(10)\n"
   ]
  },
  {
   "cell_type": "markdown",
   "metadata": {},
   "source": [
    "# Wordvektoren"
   ]
  },
  {
   "cell_type": "markdown",
   "metadata": {},
   "source": [
    "## Tfidf Vectoren"
   ]
  },
  {
   "cell_type": "code",
   "execution_count": 7,
   "metadata": {},
   "outputs": [],
   "source": [
    "from sklearn.feature_extraction.text import TfidfVectorizer"
   ]
  },
  {
   "cell_type": "code",
   "execution_count": 8,
   "metadata": {},
   "outputs": [
    {
     "data": {
      "text/plain": [
       "array(['badminton', 'basketball', 'bogenschießen', 'bouldern',\n",
       "       'calisthenics', 'fahren', 'fitness', 'football', 'fußball',\n",
       "       'hockey', 'inlineskaten', 'joggen', 'kampfsport', 'karate',\n",
       "       'keine', 'klettern', 'kraftsport', 'lieblingssportart', 'padel',\n",
       "       'radfahren', 'reiten', 'ruderboot', 'schnorcheln', 'schwimmen',\n",
       "       'ski', 'sport', 'squash', 'tanzen', 'tauchen', 'tennis',\n",
       "       'thaiboxen', 'tischtennis', 'trampolin', 'volleyball', 'yoga'],\n",
       "      dtype=object)"
      ]
     },
     "execution_count": 8,
     "metadata": {},
     "output_type": "execute_result"
    }
   ],
   "source": [
    "tfidf_lieblingssportart = TfidfVectorizer(max_df=0.25, min_df=1)\n",
    "tfidf_vectors_lieblingssportart = tfidf_lieblingssportart.fit_transform(text_data.lieblingssportart)\n",
    "tfidf_lieblingssportart.get_feature_names_out()"
   ]
  },
  {
   "cell_type": "code",
   "execution_count": 9,
   "metadata": {},
   "outputs": [
    {
     "data": {
      "text/plain": [
       "array(['asiatische', 'bleu', 'bo', 'bratkartoffeln', 'burger', 'burrito',\n",
       "       'butterbrot', 'carbonara', 'cordon', 'curry', 'dakgangjeong',\n",
       "       'dampfnudeln', 'döner', 'gemüse', 'gemüsepfanne', 'gurke',\n",
       "       'gurkensalat', 'humus', 'hähnchen', 'hühnchen', 'in', 'kein',\n",
       "       'koreanisches', 'lachs', 'lasagne', 'lieblingsessen', 'mit',\n",
       "       'mozzarella', 'nudeln', 'ofenkartoffeln', 'pasta', 'pfannkuchen',\n",
       "       'pho', 'pilzen', 'pizza', 'pommes', 'ramen', 'reis', 'reispfanne',\n",
       "       'risotto', 'sahnesauce', 'shakshuka', 'sojasoße', 'suppe', 'sushi',\n",
       "       'tofu', 'tomaten', 'tortelini', 'und', 'vegane', 'viel', 'yaprak'],\n",
       "      dtype=object)"
      ]
     },
     "execution_count": 9,
     "metadata": {},
     "output_type": "execute_result"
    }
   ],
   "source": [
    "tfidf_lieblingsessen = TfidfVectorizer(max_df=0.25, min_df=1)\n",
    "tfidf_vectors_lieblingsessen = tfidf_lieblingsessen.fit_transform(text_data.lieblingsessen)\n",
    "tfidf_lieblingsessen.get_feature_names_out()"
   ]
  },
  {
   "cell_type": "code",
   "execution_count": 10,
   "metadata": {},
   "outputs": [
    {
     "data": {
      "text/plain": [
       "array(['1975', '6lack', 'adele', 'and', 'antilopen', 'apache207',\n",
       "       'arthur', 'avatar', 'avenged', 'bad', 'beethoven', 'billy',\n",
       "       'chili', 'cicero', 'creator', 'day', 'deathspell', 'die',\n",
       "       'dominic', 'down', 'drake', 'ed', 'eminem', 'fike', 'frusciante',\n",
       "       'gang', 'gizzard', 'green', 'grimes', 'haftbefehl', 'halsey',\n",
       "       'hans', 'harlow', 'hosen', 'hot', 'jack', 'jakey', 'james', 'john',\n",
       "       'juice', 'kein', 'king', 'klangkuenstler', 'kraftklub', 'lapalux',\n",
       "       'lieblingsmusiker', 'lizard', 'mac', 'malone', 'miller',\n",
       "       'måneskin', 'neffex', 'nf', 'of', 'omega', 'omens', 'peppers',\n",
       "       'pete', 'philly', 'post', 'prevail', 'provinz', 'pugliese',\n",
       "       'radiohead', 'red', 'redlion', 'roger', 'sevenfold', 'sheeran',\n",
       "       'sting', 'system', 'talent', 'the', 'toten', 'tyler', 'wizard',\n",
       "       'wrld', 'zimmer'], dtype=object)"
      ]
     },
     "execution_count": 10,
     "metadata": {},
     "output_type": "execute_result"
    }
   ],
   "source": [
    "tfidf_lieblingsmusiker = TfidfVectorizer(max_df=0.25, min_df=1)\n",
    "tfidf_vectors_lieblingsmusiker = tfidf_lieblingsmusiker.fit_transform(text_data.lieblingsmusiker)\n",
    "tfidf_lieblingsmusiker.get_feature_names_out()"
   ]
  },
  {
   "cell_type": "code",
   "execution_count": 11,
   "metadata": {},
   "outputs": [
    {
     "data": {
      "text/plain": [
       "array(['alternative', 'electro', 'filme_videospiele', 'heavy_metal',\n",
       "       'kein_lieblingsgenre', 'klassik', 'pop', 'rock'], dtype=object)"
      ]
     },
     "execution_count": 11,
     "metadata": {},
     "output_type": "execute_result"
    }
   ],
   "source": [
    "tfidf_lieblingsgenre = TfidfVectorizer(max_df=0.25, min_df=1)\n",
    "tfidf_vectors_lieblingsgenre = tfidf_lieblingsgenre.fit_transform(text_data.lieblingsgenre)\n",
    "tfidf_lieblingsgenre.get_feature_names_out()"
   ]
  },
  {
   "cell_type": "markdown",
   "metadata": {},
   "source": [
    "## Spacy Wordvektoren"
   ]
  },
  {
   "cell_type": "code",
   "execution_count": 12,
   "metadata": {},
   "outputs": [],
   "source": [
    "nlp = spacy.load(\"de_core_news_md\")"
   ]
  },
  {
   "cell_type": "code",
   "execution_count": 13,
   "metadata": {},
   "outputs": [],
   "source": [
    "tokens_lieblingsportart = []\n",
    "for entry in text_data.lieblingssportart:\n",
    "    tokens_lieblingsportart.append(nlp(entry))\n",
    "text_data[\"tokens_lieblingssportart\"] = tokens_lieblingsportart"
   ]
  },
  {
   "cell_type": "code",
   "execution_count": 14,
   "metadata": {},
   "outputs": [],
   "source": [
    "tokens_lieblingsessen = []\n",
    "for entry in text_data.lieblingsessen:\n",
    "    tokens_lieblingsessen.append(nlp(entry))\n",
    "text_data[\"tokens_lieblingsessen\"] = tokens_lieblingsessen"
   ]
  },
  {
   "cell_type": "code",
   "execution_count": 15,
   "metadata": {},
   "outputs": [],
   "source": [
    "tokens_lieblingsmusiker = []\n",
    "for entry in text_data.lieblingsmusiker:\n",
    "    tokens_lieblingsmusiker.append(nlp(entry))\n",
    "text_data[\"tokens_lieblingsmusiker\"] = tokens_lieblingsmusiker"
   ]
  },
  {
   "cell_type": "code",
   "execution_count": 16,
   "metadata": {},
   "outputs": [],
   "source": [
    "tokens_lieblingsgenre = []\n",
    "for entry in text_data.lieblingsgenre:\n",
    "    tokens_lieblingsgenre.append(nlp(entry))\n",
    "text_data[\"tokens_lieblingsgenre\"] = tokens_lieblingsgenre"
   ]
  },
  {
   "cell_type": "code",
   "execution_count": 17,
   "metadata": {},
   "outputs": [],
   "source": [
    "tokens_combined = []\n",
    "for entry in text_data.combined:\n",
    "    tokens_combined.append(nlp(entry))\n",
    "text_data[\"tokens_combined\"] = tokens_combined"
   ]
  },
  {
   "cell_type": "code",
   "execution_count": 18,
   "metadata": {},
   "outputs": [
    {
     "data": {
      "text/html": [
       "<div>\n",
       "<style scoped>\n",
       "    .dataframe tbody tr th:only-of-type {\n",
       "        vertical-align: middle;\n",
       "    }\n",
       "\n",
       "    .dataframe tbody tr th {\n",
       "        vertical-align: top;\n",
       "    }\n",
       "\n",
       "    .dataframe thead th {\n",
       "        text-align: right;\n",
       "    }\n",
       "</style>\n",
       "<table border=\"1\" class=\"dataframe\">\n",
       "  <thead>\n",
       "    <tr style=\"text-align: right;\">\n",
       "      <th></th>\n",
       "      <th>lieblingssportart</th>\n",
       "      <th>lieblingsessen</th>\n",
       "      <th>lieblingsmusiker</th>\n",
       "      <th>lieblingsgenre</th>\n",
       "      <th>combined</th>\n",
       "      <th>tokens_lieblingssportart</th>\n",
       "      <th>tokens_lieblingsessen</th>\n",
       "      <th>tokens_lieblingsmusiker</th>\n",
       "      <th>tokens_lieblingsgenre</th>\n",
       "      <th>tokens_combined</th>\n",
       "    </tr>\n",
       "  </thead>\n",
       "  <tbody>\n",
       "    <tr>\n",
       "      <th>0</th>\n",
       "      <td>Joggen</td>\n",
       "      <td>Vegane Lasagne</td>\n",
       "      <td>Kraftklub</td>\n",
       "      <td>rock</td>\n",
       "      <td>Joggen Vegane Lasagne Kraftklub rock</td>\n",
       "      <td>(Joggen)</td>\n",
       "      <td>(Vegane, Lasagne)</td>\n",
       "      <td>(Kraftklub)</td>\n",
       "      <td>(rock)</td>\n",
       "      <td>(Joggen, Vegane, Lasagne, Kraftklub, rock)</td>\n",
       "    </tr>\n",
       "    <tr>\n",
       "      <th>1</th>\n",
       "      <td>Fußball</td>\n",
       "      <td>Butterbrot</td>\n",
       "      <td>Red Hot Chili Peppers</td>\n",
       "      <td>rock</td>\n",
       "      <td>Fußball Butterbrot Red Hot Chili Peppers rock</td>\n",
       "      <td>(Fußball)</td>\n",
       "      <td>(Butterbrot)</td>\n",
       "      <td>(Red, Hot, Chili, Peppers)</td>\n",
       "      <td>(rock)</td>\n",
       "      <td>(Fußball, Butterbrot, Red, Hot, Chili, Peppers...</td>\n",
       "    </tr>\n",
       "    <tr>\n",
       "      <th>2</th>\n",
       "      <td>Keine Lieblingssportart</td>\n",
       "      <td>Lasagne</td>\n",
       "      <td>The 1975</td>\n",
       "      <td>alternative</td>\n",
       "      <td>Keine Lieblingssportart Lasagne The 1975 alter...</td>\n",
       "      <td>(Keine, Lieblingssportart)</td>\n",
       "      <td>(Lasagne)</td>\n",
       "      <td>(The, 1975)</td>\n",
       "      <td>(alternative)</td>\n",
       "      <td>(Keine, Lieblingssportart, Lasagne, The, 1975,...</td>\n",
       "    </tr>\n",
       "    <tr>\n",
       "      <th>3</th>\n",
       "      <td>Trampolin</td>\n",
       "      <td>Burger</td>\n",
       "      <td>Kein Lieblingsmusiker</td>\n",
       "      <td>kein_lieblingsgenre</td>\n",
       "      <td>Trampolin Burger Kein Lieblingsmusiker kein_li...</td>\n",
       "      <td>(Trampolin)</td>\n",
       "      <td>(Burger)</td>\n",
       "      <td>(Kein, Lieblingsmusiker)</td>\n",
       "      <td>(kein_lieblingsgenre)</td>\n",
       "      <td>(Trampolin, Burger, Kein, Lieblingsmusiker, ke...</td>\n",
       "    </tr>\n",
       "    <tr>\n",
       "      <th>4</th>\n",
       "      <td>Klettern</td>\n",
       "      <td>Dampfnudeln</td>\n",
       "      <td>Kein Lieblingsmusiker</td>\n",
       "      <td>kein_lieblingsgenre</td>\n",
       "      <td>Klettern Dampfnudeln Kein Lieblingsmusiker kei...</td>\n",
       "      <td>(Klettern)</td>\n",
       "      <td>(Dampfnudeln)</td>\n",
       "      <td>(Kein, Lieblingsmusiker)</td>\n",
       "      <td>(kein_lieblingsgenre)</td>\n",
       "      <td>(Klettern, Dampfnudeln, Kein, Lieblingsmusiker...</td>\n",
       "    </tr>\n",
       "    <tr>\n",
       "      <th>5</th>\n",
       "      <td>Bouldern</td>\n",
       "      <td>Pho</td>\n",
       "      <td>Kein Lieblingsmusiker</td>\n",
       "      <td>kein_lieblingsgenre</td>\n",
       "      <td>Bouldern Pho Kein Lieblingsmusiker kein_liebli...</td>\n",
       "      <td>(Bouldern)</td>\n",
       "      <td>(Pho)</td>\n",
       "      <td>(Kein, Lieblingsmusiker)</td>\n",
       "      <td>(kein_lieblingsgenre)</td>\n",
       "      <td>(Bouldern, Pho, Kein, Lieblingsmusiker, kein_l...</td>\n",
       "    </tr>\n",
       "    <tr>\n",
       "      <th>6</th>\n",
       "      <td>Keine Lieblingssportart</td>\n",
       "      <td>Tomaten</td>\n",
       "      <td>Pugliese</td>\n",
       "      <td>pop</td>\n",
       "      <td>Keine Lieblingssportart Tomaten Pugliese pop</td>\n",
       "      <td>(Keine, Lieblingssportart)</td>\n",
       "      <td>(Tomaten)</td>\n",
       "      <td>(Pugliese)</td>\n",
       "      <td>(pop)</td>\n",
       "      <td>(Keine, Lieblingssportart, Tomaten, Pugliese, ...</td>\n",
       "    </tr>\n",
       "    <tr>\n",
       "      <th>7</th>\n",
       "      <td>Fußball</td>\n",
       "      <td>Pasta</td>\n",
       "      <td>Green Day</td>\n",
       "      <td>alternative</td>\n",
       "      <td>Fußball Pasta Green Day alternative</td>\n",
       "      <td>(Fußball)</td>\n",
       "      <td>(Pasta)</td>\n",
       "      <td>(Green, Day)</td>\n",
       "      <td>(alternative)</td>\n",
       "      <td>(Fußball, Pasta, Green, Day, alternative)</td>\n",
       "    </tr>\n",
       "    <tr>\n",
       "      <th>8</th>\n",
       "      <td>Schnorcheln</td>\n",
       "      <td>Pizza</td>\n",
       "      <td>Pete Philly</td>\n",
       "      <td>rap_hip_hop</td>\n",
       "      <td>Schnorcheln Pizza Pete Philly rap_hip_hop</td>\n",
       "      <td>(Schnorcheln)</td>\n",
       "      <td>(Pizza)</td>\n",
       "      <td>(Pete, Philly)</td>\n",
       "      <td>(rap_hip_hop)</td>\n",
       "      <td>(Schnorcheln, Pizza, Pete, Philly, rap_hip_hop)</td>\n",
       "    </tr>\n",
       "    <tr>\n",
       "      <th>9</th>\n",
       "      <td>Tennis</td>\n",
       "      <td>Sushi</td>\n",
       "      <td>Radiohead</td>\n",
       "      <td>alternative</td>\n",
       "      <td>Tennis Sushi Radiohead alternative</td>\n",
       "      <td>(Tennis)</td>\n",
       "      <td>(Sushi)</td>\n",
       "      <td>(Radiohead)</td>\n",
       "      <td>(alternative)</td>\n",
       "      <td>(Tennis, Sushi, Radiohead, alternative)</td>\n",
       "    </tr>\n",
       "  </tbody>\n",
       "</table>\n",
       "</div>"
      ],
      "text/plain": [
       "         lieblingssportart  lieblingsessen       lieblingsmusiker   \n",
       "0                   Joggen  Vegane Lasagne              Kraftklub  \\\n",
       "1                  Fußball      Butterbrot  Red Hot Chili Peppers   \n",
       "2  Keine Lieblingssportart         Lasagne               The 1975   \n",
       "3                Trampolin          Burger  Kein Lieblingsmusiker   \n",
       "4                 Klettern     Dampfnudeln  Kein Lieblingsmusiker   \n",
       "5                 Bouldern             Pho  Kein Lieblingsmusiker   \n",
       "6  Keine Lieblingssportart         Tomaten               Pugliese   \n",
       "7                  Fußball           Pasta              Green Day   \n",
       "8              Schnorcheln           Pizza            Pete Philly   \n",
       "9                   Tennis           Sushi              Radiohead   \n",
       "\n",
       "        lieblingsgenre                                           combined   \n",
       "0                 rock               Joggen Vegane Lasagne Kraftklub rock  \\\n",
       "1                 rock      Fußball Butterbrot Red Hot Chili Peppers rock   \n",
       "2          alternative  Keine Lieblingssportart Lasagne The 1975 alter...   \n",
       "3  kein_lieblingsgenre  Trampolin Burger Kein Lieblingsmusiker kein_li...   \n",
       "4  kein_lieblingsgenre  Klettern Dampfnudeln Kein Lieblingsmusiker kei...   \n",
       "5  kein_lieblingsgenre  Bouldern Pho Kein Lieblingsmusiker kein_liebli...   \n",
       "6                  pop       Keine Lieblingssportart Tomaten Pugliese pop   \n",
       "7          alternative                Fußball Pasta Green Day alternative   \n",
       "8          rap_hip_hop          Schnorcheln Pizza Pete Philly rap_hip_hop   \n",
       "9          alternative                 Tennis Sushi Radiohead alternative   \n",
       "\n",
       "     tokens_lieblingssportart tokens_lieblingsessen   \n",
       "0                    (Joggen)     (Vegane, Lasagne)  \\\n",
       "1                   (Fußball)          (Butterbrot)   \n",
       "2  (Keine, Lieblingssportart)             (Lasagne)   \n",
       "3                 (Trampolin)              (Burger)   \n",
       "4                  (Klettern)         (Dampfnudeln)   \n",
       "5                  (Bouldern)                 (Pho)   \n",
       "6  (Keine, Lieblingssportart)             (Tomaten)   \n",
       "7                   (Fußball)               (Pasta)   \n",
       "8               (Schnorcheln)               (Pizza)   \n",
       "9                    (Tennis)               (Sushi)   \n",
       "\n",
       "      tokens_lieblingsmusiker  tokens_lieblingsgenre   \n",
       "0                 (Kraftklub)                 (rock)  \\\n",
       "1  (Red, Hot, Chili, Peppers)                 (rock)   \n",
       "2                 (The, 1975)          (alternative)   \n",
       "3    (Kein, Lieblingsmusiker)  (kein_lieblingsgenre)   \n",
       "4    (Kein, Lieblingsmusiker)  (kein_lieblingsgenre)   \n",
       "5    (Kein, Lieblingsmusiker)  (kein_lieblingsgenre)   \n",
       "6                  (Pugliese)                  (pop)   \n",
       "7                (Green, Day)          (alternative)   \n",
       "8              (Pete, Philly)          (rap_hip_hop)   \n",
       "9                 (Radiohead)          (alternative)   \n",
       "\n",
       "                                     tokens_combined  \n",
       "0         (Joggen, Vegane, Lasagne, Kraftklub, rock)  \n",
       "1  (Fußball, Butterbrot, Red, Hot, Chili, Peppers...  \n",
       "2  (Keine, Lieblingssportart, Lasagne, The, 1975,...  \n",
       "3  (Trampolin, Burger, Kein, Lieblingsmusiker, ke...  \n",
       "4  (Klettern, Dampfnudeln, Kein, Lieblingsmusiker...  \n",
       "5  (Bouldern, Pho, Kein, Lieblingsmusiker, kein_l...  \n",
       "6  (Keine, Lieblingssportart, Tomaten, Pugliese, ...  \n",
       "7          (Fußball, Pasta, Green, Day, alternative)  \n",
       "8    (Schnorcheln, Pizza, Pete, Philly, rap_hip_hop)  \n",
       "9            (Tennis, Sushi, Radiohead, alternative)  "
      ]
     },
     "execution_count": 18,
     "metadata": {},
     "output_type": "execute_result"
    }
   ],
   "source": [
    "text_data.head(10)"
   ]
  },
  {
   "cell_type": "markdown",
   "metadata": {},
   "source": [
    "# Clustering mit Wortvektoren"
   ]
  },
  {
   "cell_type": "code",
   "execution_count": 19,
   "metadata": {},
   "outputs": [],
   "source": [
    "from sklearn.cluster import AgglomerativeClustering\n",
    "from sklearn.preprocessing import StandardScaler\n",
    "from sklearn.manifold import TSNE"
   ]
  },
  {
   "cell_type": "code",
   "execution_count": 20,
   "metadata": {},
   "outputs": [],
   "source": [
    "tsne = TSNE()\n",
    "lieblingssportart_vectors = np.array([token.vector for token in text_data.tokens_lieblingssportart])\n",
    "\n",
    "tsne_vectors_lieblingssportart = tsne.fit_transform(lieblingssportart_vectors)"
   ]
  },
  {
   "cell_type": "code",
   "execution_count": 21,
   "metadata": {},
   "outputs": [],
   "source": [
    "lieblingsessen_vectors = np.array([token.vector for token in text_data.tokens_lieblingsessen])\n",
    "tsne_vectors_lieblingsessen = tsne.fit_transform(lieblingsessen_vectors)"
   ]
  },
  {
   "cell_type": "code",
   "execution_count": 22,
   "metadata": {},
   "outputs": [],
   "source": [
    "lieblingsmusiker_vectors = np.array([token.vector for token in text_data.tokens_lieblingsmusiker])\n",
    "tsne_vectors_lieblingsmusiker = tsne.fit_transform(lieblingsmusiker_vectors)"
   ]
  },
  {
   "cell_type": "code",
   "execution_count": 23,
   "metadata": {},
   "outputs": [],
   "source": [
    "lieblingsgenre_vectors = np.array([token.vector for token in text_data.tokens_lieblingsgenre])\n",
    "tsne_vectors_lieblingsgenre = tsne.fit_transform(lieblingsgenre_vectors)"
   ]
  },
  {
   "cell_type": "code",
   "execution_count": 24,
   "metadata": {},
   "outputs": [],
   "source": [
    "tsne_vectors = { \n",
    "    'x_coord_lieblingssportart' : tsne_vectors_lieblingssportart[:, 0], \n",
    "    'y_coord_lieblingssportart' : tsne_vectors_lieblingssportart[:, 1],\n",
    "    'x_coord_lieblingsessen' : tsne_vectors_lieblingsessen[:, 0], \n",
    "    'y_coord_lieblingsessen' : tsne_vectors_lieblingsessen[:, 1],\n",
    "    'x_coord_lieblingsmusiker' : tsne_vectors_lieblingsmusiker[:, 0], \n",
    "    'y_coord_lieblingsmusiker' : tsne_vectors_lieblingsmusiker[:, 1],\n",
    "    'x_coord_lieblingsgenre' : tsne_vectors_lieblingsgenre[:, 0], \n",
    "    'y_coord_lieblingsgenre' : tsne_vectors_lieblingsgenre[:, 1]\n",
    "}\n",
    "\n",
    "tsne_df = pd.DataFrame(tsne_vectors)"
   ]
  },
  {
   "cell_type": "code",
   "execution_count": 25,
   "metadata": {},
   "outputs": [
    {
     "data": {
      "text/html": [
       "<div>\n",
       "<style scoped>\n",
       "    .dataframe tbody tr th:only-of-type {\n",
       "        vertical-align: middle;\n",
       "    }\n",
       "\n",
       "    .dataframe tbody tr th {\n",
       "        vertical-align: top;\n",
       "    }\n",
       "\n",
       "    .dataframe thead th {\n",
       "        text-align: right;\n",
       "    }\n",
       "</style>\n",
       "<table border=\"1\" class=\"dataframe\">\n",
       "  <thead>\n",
       "    <tr style=\"text-align: right;\">\n",
       "      <th></th>\n",
       "      <th>lieblingssportart</th>\n",
       "      <th>lieblingsessen</th>\n",
       "      <th>lieblingsmusiker</th>\n",
       "      <th>lieblingsgenre</th>\n",
       "      <th>combined</th>\n",
       "      <th>tokens_lieblingssportart</th>\n",
       "      <th>tokens_lieblingsessen</th>\n",
       "      <th>tokens_lieblingsmusiker</th>\n",
       "      <th>tokens_lieblingsgenre</th>\n",
       "      <th>tokens_combined</th>\n",
       "      <th>cluster</th>\n",
       "    </tr>\n",
       "  </thead>\n",
       "  <tbody>\n",
       "    <tr>\n",
       "      <th>0</th>\n",
       "      <td>Joggen</td>\n",
       "      <td>Vegane Lasagne</td>\n",
       "      <td>Kraftklub</td>\n",
       "      <td>rock</td>\n",
       "      <td>Joggen Vegane Lasagne Kraftklub rock</td>\n",
       "      <td>(Joggen)</td>\n",
       "      <td>(Vegane, Lasagne)</td>\n",
       "      <td>(Kraftklub)</td>\n",
       "      <td>(rock)</td>\n",
       "      <td>(Joggen, Vegane, Lasagne, Kraftklub, rock)</td>\n",
       "      <td>1</td>\n",
       "    </tr>\n",
       "    <tr>\n",
       "      <th>1</th>\n",
       "      <td>Fußball</td>\n",
       "      <td>Butterbrot</td>\n",
       "      <td>Red Hot Chili Peppers</td>\n",
       "      <td>rock</td>\n",
       "      <td>Fußball Butterbrot Red Hot Chili Peppers rock</td>\n",
       "      <td>(Fußball)</td>\n",
       "      <td>(Butterbrot)</td>\n",
       "      <td>(Red, Hot, Chili, Peppers)</td>\n",
       "      <td>(rock)</td>\n",
       "      <td>(Fußball, Butterbrot, Red, Hot, Chili, Peppers...</td>\n",
       "      <td>2</td>\n",
       "    </tr>\n",
       "    <tr>\n",
       "      <th>2</th>\n",
       "      <td>Keine Lieblingssportart</td>\n",
       "      <td>Lasagne</td>\n",
       "      <td>The 1975</td>\n",
       "      <td>alternative</td>\n",
       "      <td>Keine Lieblingssportart Lasagne The 1975 alter...</td>\n",
       "      <td>(Keine, Lieblingssportart)</td>\n",
       "      <td>(Lasagne)</td>\n",
       "      <td>(The, 1975)</td>\n",
       "      <td>(alternative)</td>\n",
       "      <td>(Keine, Lieblingssportart, Lasagne, The, 1975,...</td>\n",
       "      <td>1</td>\n",
       "    </tr>\n",
       "    <tr>\n",
       "      <th>3</th>\n",
       "      <td>Trampolin</td>\n",
       "      <td>Burger</td>\n",
       "      <td>Kein Lieblingsmusiker</td>\n",
       "      <td>kein_lieblingsgenre</td>\n",
       "      <td>Trampolin Burger Kein Lieblingsmusiker kein_li...</td>\n",
       "      <td>(Trampolin)</td>\n",
       "      <td>(Burger)</td>\n",
       "      <td>(Kein, Lieblingsmusiker)</td>\n",
       "      <td>(kein_lieblingsgenre)</td>\n",
       "      <td>(Trampolin, Burger, Kein, Lieblingsmusiker, ke...</td>\n",
       "      <td>0</td>\n",
       "    </tr>\n",
       "    <tr>\n",
       "      <th>4</th>\n",
       "      <td>Klettern</td>\n",
       "      <td>Dampfnudeln</td>\n",
       "      <td>Kein Lieblingsmusiker</td>\n",
       "      <td>kein_lieblingsgenre</td>\n",
       "      <td>Klettern Dampfnudeln Kein Lieblingsmusiker kei...</td>\n",
       "      <td>(Klettern)</td>\n",
       "      <td>(Dampfnudeln)</td>\n",
       "      <td>(Kein, Lieblingsmusiker)</td>\n",
       "      <td>(kein_lieblingsgenre)</td>\n",
       "      <td>(Klettern, Dampfnudeln, Kein, Lieblingsmusiker...</td>\n",
       "      <td>0</td>\n",
       "    </tr>\n",
       "  </tbody>\n",
       "</table>\n",
       "</div>"
      ],
      "text/plain": [
       "         lieblingssportart  lieblingsessen       lieblingsmusiker   \n",
       "0                   Joggen  Vegane Lasagne              Kraftklub  \\\n",
       "1                  Fußball      Butterbrot  Red Hot Chili Peppers   \n",
       "2  Keine Lieblingssportart         Lasagne               The 1975   \n",
       "3                Trampolin          Burger  Kein Lieblingsmusiker   \n",
       "4                 Klettern     Dampfnudeln  Kein Lieblingsmusiker   \n",
       "\n",
       "        lieblingsgenre                                           combined   \n",
       "0                 rock               Joggen Vegane Lasagne Kraftklub rock  \\\n",
       "1                 rock      Fußball Butterbrot Red Hot Chili Peppers rock   \n",
       "2          alternative  Keine Lieblingssportart Lasagne The 1975 alter...   \n",
       "3  kein_lieblingsgenre  Trampolin Burger Kein Lieblingsmusiker kein_li...   \n",
       "4  kein_lieblingsgenre  Klettern Dampfnudeln Kein Lieblingsmusiker kei...   \n",
       "\n",
       "     tokens_lieblingssportart tokens_lieblingsessen   \n",
       "0                    (Joggen)     (Vegane, Lasagne)  \\\n",
       "1                   (Fußball)          (Butterbrot)   \n",
       "2  (Keine, Lieblingssportart)             (Lasagne)   \n",
       "3                 (Trampolin)              (Burger)   \n",
       "4                  (Klettern)         (Dampfnudeln)   \n",
       "\n",
       "      tokens_lieblingsmusiker  tokens_lieblingsgenre   \n",
       "0                 (Kraftklub)                 (rock)  \\\n",
       "1  (Red, Hot, Chili, Peppers)                 (rock)   \n",
       "2                 (The, 1975)          (alternative)   \n",
       "3    (Kein, Lieblingsmusiker)  (kein_lieblingsgenre)   \n",
       "4    (Kein, Lieblingsmusiker)  (kein_lieblingsgenre)   \n",
       "\n",
       "                                     tokens_combined  cluster  \n",
       "0         (Joggen, Vegane, Lasagne, Kraftklub, rock)        1  \n",
       "1  (Fußball, Butterbrot, Red, Hot, Chili, Peppers...        2  \n",
       "2  (Keine, Lieblingssportart, Lasagne, The, 1975,...        1  \n",
       "3  (Trampolin, Burger, Kein, Lieblingsmusiker, ke...        0  \n",
       "4  (Klettern, Dampfnudeln, Kein, Lieblingsmusiker...        0  "
      ]
     },
     "execution_count": 25,
     "metadata": {},
     "output_type": "execute_result"
    }
   ],
   "source": [
    "# n_cluster = Anzahl der Cluster\n",
    "# distance_thershold = Distanz zwischen Punkte (nur wenn n_cluster = None)\n",
    "ward = AgglomerativeClustering(linkage=\"ward\",\n",
    "                               n_clusters=4)\n",
    "\n",
    "ward.fit(tsne_df)\n",
    "\n",
    "# Cluster-Zentren\n",
    "text_data[\"cluster\"] = ward.labels_\n",
    "text_data.head()"
   ]
  },
  {
   "cell_type": "code",
   "execution_count": 26,
   "metadata": {},
   "outputs": [],
   "source": [
    "#!pip install plotly"
   ]
  },
  {
   "cell_type": "code",
   "execution_count": 27,
   "metadata": {},
   "outputs": [],
   "source": [
    "combined_vectors = np.array([token.vector for token in text_data.tokens_combined])\n",
    "tsne_vectors_combined = tsne.fit_transform(combined_vectors)\n",
    "text_data[\"x_coord\"] = tsne_vectors_combined[:, 0]\n",
    "text_data[\"y_coord\"] = tsne_vectors_combined[:, 1]"
   ]
  },
  {
   "cell_type": "code",
   "execution_count": 28,
   "metadata": {},
   "outputs": [
    {
     "data": {
      "application/vnd.plotly.v1+json": {
       "config": {
        "plotlyServerURL": "https://plot.ly"
       },
       "data": [
        {
         "customdata": [
          [
           "Joggen",
           "Vegane Lasagne",
           "Kraftklub",
           "rock"
          ],
          [
           "Fußball",
           "Butterbrot",
           "Red Hot Chili Peppers",
           "rock"
          ],
          [
           "Keine Lieblingssportart",
           "Lasagne",
           "The 1975",
           "alternative"
          ],
          [
           "Trampolin",
           "Burger",
           "Kein Lieblingsmusiker",
           "kein_lieblingsgenre"
          ],
          [
           "Klettern",
           "Dampfnudeln",
           "Kein Lieblingsmusiker",
           "kein_lieblingsgenre"
          ],
          [
           "Bouldern",
           "Pho",
           "Kein Lieblingsmusiker",
           "kein_lieblingsgenre"
          ],
          [
           "Keine Lieblingssportart",
           "Tomaten",
           "Pugliese",
           "pop"
          ],
          [
           "Fußball",
           "Pasta",
           "Green Day",
           "alternative"
          ],
          [
           "Schnorcheln",
           "Pizza",
           "Pete Philly",
           "rap_hip_hop"
          ],
          [
           "Tennis",
           "Sushi",
           "Radiohead",
           "alternative"
          ],
          [
           "Keine Lieblingssportart",
           "Koreanisches Dakgangjeong",
           "Dominic Fike",
           "alternative"
          ],
          [
           "Kampfsport",
           "Döner",
           "Redlion",
           "kein_lieblingsgenre"
          ],
          [
           "Football",
           "Asiatische Nudeln",
           "James Arthur",
           "pop"
          ],
          [
           "Thaiboxen",
           "Hühnchen",
           "eminem",
           "rap_hip_hop"
          ],
          [
           "Calisthenics",
           "Curry",
           "Jakey",
           "rap_hip_hop"
          ],
          [
           "Calisthenics",
           "Burger",
           "Apache207",
           "rap_hip_hop"
          ],
          [
           "Tauchen",
           "Pfannkuchen",
           "Antilopen Gang",
           "rap_hip_hop"
          ],
          [
           "Tischtennis",
           "Burger",
           "Drake",
           "rap_hip_hop"
          ],
          [
           "Tischtennis",
           "Risotto",
           "I Prevail",
           "rock"
          ],
          [
           "Basketball",
           "Burger",
           "Bad Omens",
           "rock"
          ],
          [
           "Fußball",
           "Pizza",
           "Provinz",
           "pop"
          ],
          [
           "Schwimmen",
           "Burger",
           "Post Malone",
           "pop"
          ],
          [
           "Fußball",
           "Pizza",
           "Juice WRLD",
           "rap_hip_hop"
          ],
          [
           "Basketball",
           "Reis mit Sojasoße Hähnchen",
           "Avenged Sevenfold",
           "rock"
          ],
          [
           "Radfahren",
           "Kein Lieblingsessen",
           "Kein Lieblingsmusiker",
           "kein_lieblingsgenre"
          ],
          [
           "Fitness",
           "Döner",
           "Klangkuenstler",
           "electro"
          ],
          [
           "Tischtennis",
           "Burrito",
           "Lapalux",
           "electro"
          ],
          [
           "Fußball",
           "Pizza",
           "Jack Harlow",
           "rap_hip_hop"
          ],
          [
           "E-Sport ",
           "Shakshuka",
           "K.I.Z",
           "rap_hip_hop"
          ],
          [
           "Reiten",
           "Pasta",
           "Adele",
           "pop"
          ],
          [
           "Tischtennis",
           "Pizza",
           "King Gizzard and the Lizard Wizard",
           "alternative"
          ],
          [
           "Karate",
           "Lasagne",
           "Drake",
           "rap_hip_hop"
          ],
          [
           "Keine Lieblingssportart",
           "Döner",
           "Billy Talent",
           "alternative"
          ],
          [
           "Badminton",
           "Pasta",
           "Kein Lieblingsmusiker",
           "kein_lieblingsgenre"
          ],
          [
           "Bouldern",
           "Lasagne",
           "System of a Down",
           "rock"
          ],
          [
           "Radfahren",
           "Gurke mit Mozzarella und Tofu",
           "Sting",
           "pop"
          ],
          [
           "Tanzen",
           "Pfannkuchen",
           "Roger Cicero",
           "pop"
          ],
          [
           "Kraftsport ",
           "Döner",
           "Kein Lieblingsmusiker",
           "kein_lieblingsgenre"
          ],
          [
           "Volleyball",
           "Sushi",
           "Mac Miller",
           "rap_hip_hop"
          ],
          [
           "Bogenschießen",
           "Gemüsepfanne mit Reis",
           "Avatar",
           "heavy_metal"
          ],
          [
           "Bouldern",
           "Kein Lieblingsessen",
           "Kein Lieblingsmusiker",
           "kein_lieblingsgenre"
          ],
          [
           "Hockey",
           "Lasagne",
           "Måneskin",
           "rock"
          ],
          [
           "Badminton",
           "Burger",
           "Hans Zimmer",
           "filme_videospiele"
          ],
          [
           "Reiten",
           "Tortelini",
           "Beethoven",
           "klassik"
          ],
          [
           "Squash",
           "Sushi",
           "6lack",
           "r&b"
          ],
          [
           "Tauchen",
           "Pfannkuchen",
           "Antilopen Gang",
           "rap_hip_hop"
          ],
          [
           "Fußball",
           "Pasta",
           "NF",
           "rap_hip_hop"
          ],
          [
           "Fußball",
           "Yaprak",
           "Deathspell Omega",
           "rock"
          ],
          [
           "Fußball",
           "Lachs mit Bratkartoffeln und Gurkensalat",
           "Red Hot Chili Peppers",
           "rock"
          ],
          [
           "Klettern",
           "Pizza",
           "Mac Miller",
           "rap_hip_hop"
          ],
          [
           "Yoga",
           "Ramen",
           "Grimes",
           "electro"
          ],
          [
           "Badminton",
           "Humus",
           "Die Toten Hosen",
           "alternative"
          ],
          [
           "Inlineskaten",
           "Pasta",
           "Radiohead",
           "alternative"
          ],
          [
           "Basketball",
           "Cordon bleu",
           "Halsey",
           "alternative"
          ],
          [
           "Fußball",
           "Reispfanne mit viel Gemüse",
           "Ed sheeran",
           "pop"
          ],
          [
           "Volleyball",
           "Carbonara",
           "Kein Lieblingsmusiker",
           "kein_lieblingsgenre"
          ],
          [
           "Joggen",
           "Ofenkartoffeln mit Gemüse",
           "Neffex",
           "alternative"
          ],
          [
           "Keine Lieblingssportart",
           "Pommes",
           "Haftbefehl",
           "rap_hip_hop"
          ],
          [
           "Fußball",
           "Kein Lieblingsessen",
           "Kein Lieblingsmusiker",
           "kein_lieblingsgenre"
          ],
          [
           "Ruderboot fahren",
           "Nudeln mit Pilzen in Sahnesauce",
           "Tyler the Creator",
           "rap_hip_hop"
          ],
          [
           "Padel-Tennis",
           "Vegane Pho Bo Suppe",
           "John Frusciante",
           "pop"
          ],
          [
           "Ski fahren",
           "Kein Lieblingsessen",
           "Kein Lieblingsmusiker",
           "kein_lieblingsgenre"
          ]
         ],
         "hovertemplate": "x_coord=%{x}<br>y_coord=%{y}<br>lieblingssportart=%{customdata[0]}<br>lieblingsessen=%{customdata[1]}<br>lieblingsmusiker=%{customdata[2]}<br>lieblingsgenre=%{customdata[3]}<br>cluster=%{marker.color}<extra></extra>",
         "legendgroup": "",
         "marker": {
          "color": [
           1,
           2,
           1,
           0,
           0,
           0,
           2,
           1,
           0,
           1,
           1,
           0,
           2,
           0,
           0,
           0,
           0,
           0,
           3,
           3,
           2,
           2,
           0,
           3,
           0,
           0,
           0,
           0,
           0,
           2,
           1,
           0,
           1,
           0,
           3,
           2,
           2,
           0,
           0,
           0,
           0,
           3,
           0,
           0,
           0,
           0,
           0,
           3,
           3,
           0,
           0,
           1,
           1,
           1,
           2,
           0,
           1,
           0,
           0,
           0,
           2,
           0
          ],
          "coloraxis": "coloraxis",
          "symbol": "circle"
         },
         "mode": "markers",
         "name": "",
         "orientation": "v",
         "showlegend": false,
         "type": "scatter",
         "x": [
          -1.079781413078308,
          -1.2741186618804932,
          -1.618224859237671,
          3.000687837600708,
          3.1078836917877197,
          2.999856948852539,
          2.7916886806488037,
          -1.2975612878799438,
          0.37300294637680054,
          -1.0222548246383667,
          2.444772481918335,
          1.505132794380188,
          0.7413093447685242,
          1.8384265899658203,
          0.9600005149841309,
          1.1519092321395874,
          2.0618128776550293,
          0.8412507772445679,
          -1.3092951774597168,
          3.271101474761963,
          1.7745332717895508,
          0.8270423412322998,
          1.3803218603134155,
          -0.18156692385673523,
          3.611380100250244,
          0.7526171803474426,
          0.9292383193969727,
          0.0916476622223854,
          0.7808587551116943,
          1.8063267469406128,
          -2.201741933822632,
          1.057857632637024,
          1.7346408367156982,
          2.777963638305664,
          -2.432267904281616,
          0.2346893697977066,
          1.751510500907898,
          2.642141342163086,
          -0.1602187305688858,
          0.5118049383163452,
          3.586817741394043,
          -0.5357080101966858,
          1.324232578277588,
          2.0359041690826416,
          1.0672838687896729,
          2.0618128776550293,
          3.969554901123047,
          0.06801588088274002,
          -0.849636971950531,
          -0.17806580662727356,
          -0.24655868113040924,
          3.231637477874756,
          -1.042776107788086,
          0.8150798678398132,
          0.8620085120201111,
          2.857820749282837,
          0.7608106136322021,
          2.593154191970825,
          3.6257684230804443,
          0.14192894101142883,
          0.1266164928674698,
          3.7756080627441406
         ],
         "xaxis": "x",
         "y": [
          0.6167911887168884,
          -0.5417139530181885,
          2.2383058071136475,
          2.9129762649536133,
          2.918199300765991,
          3.6684563159942627,
          1.1087538003921509,
          1.85370934009552,
          1.622334361076355,
          1.0149303674697876,
          1.3052586317062378,
          1.9879143238067627,
          0.9315112829208374,
          1.154901385307312,
          1.953154444694519,
          1.853893518447876,
          -1.3824182748794556,
          1.5511521100997925,
          3.3508849143981934,
          -0.6416487097740173,
          2.391077995300293,
          0.8508108854293823,
          2.033752679824829,
          -0.2929123640060425,
          3.4387998580932617,
          2.668376922607422,
          2.539708137512207,
          1.7920668125152588,
          1.695695161819458,
          0.2533893585205078,
          2.441025495529175,
          1.5560446977615356,
          1.4594072103500366,
          2.979167938232422,
          2.499403953552246,
          -0.6173210144042969,
          0.028804777190089226,
          2.835566759109497,
          2.3293511867523193,
          -0.7342360019683838,
          3.4369795322418213,
          0.7498053312301636,
          3.5231335163116455,
          0.4239906370639801,
          2.179415702819824,
          -1.3824182748794556,
          1.4008145332336426,
          1.0485186576843262,
          -0.48571351170539856,
          2.319023609161377,
          3.1391470432281494,
          0.4509638845920563,
          0.7911975979804993,
          4.350778102874756,
          -0.43697649240493774,
          2.96221661567688,
          -0.7218073606491089,
          1.498284101486206,
          3.437711715698242,
          -0.854325532913208,
          3.6815645694732666,
          3.515594005584717
         ],
         "yaxis": "y"
        }
       ],
       "layout": {
        "coloraxis": {
         "colorbar": {
          "title": {
           "text": "cluster"
          }
         },
         "colorscale": [
          [
           0,
           "#0d0887"
          ],
          [
           0.1111111111111111,
           "#46039f"
          ],
          [
           0.2222222222222222,
           "#7201a8"
          ],
          [
           0.3333333333333333,
           "#9c179e"
          ],
          [
           0.4444444444444444,
           "#bd3786"
          ],
          [
           0.5555555555555556,
           "#d8576b"
          ],
          [
           0.6666666666666666,
           "#ed7953"
          ],
          [
           0.7777777777777778,
           "#fb9f3a"
          ],
          [
           0.8888888888888888,
           "#fdca26"
          ],
          [
           1,
           "#f0f921"
          ]
         ]
        },
        "legend": {
         "tracegroupgap": 0
        },
        "margin": {
         "t": 60
        },
        "template": {
         "data": {
          "bar": [
           {
            "error_x": {
             "color": "#2a3f5f"
            },
            "error_y": {
             "color": "#2a3f5f"
            },
            "marker": {
             "line": {
              "color": "#E5ECF6",
              "width": 0.5
             },
             "pattern": {
              "fillmode": "overlay",
              "size": 10,
              "solidity": 0.2
             }
            },
            "type": "bar"
           }
          ],
          "barpolar": [
           {
            "marker": {
             "line": {
              "color": "#E5ECF6",
              "width": 0.5
             },
             "pattern": {
              "fillmode": "overlay",
              "size": 10,
              "solidity": 0.2
             }
            },
            "type": "barpolar"
           }
          ],
          "carpet": [
           {
            "aaxis": {
             "endlinecolor": "#2a3f5f",
             "gridcolor": "white",
             "linecolor": "white",
             "minorgridcolor": "white",
             "startlinecolor": "#2a3f5f"
            },
            "baxis": {
             "endlinecolor": "#2a3f5f",
             "gridcolor": "white",
             "linecolor": "white",
             "minorgridcolor": "white",
             "startlinecolor": "#2a3f5f"
            },
            "type": "carpet"
           }
          ],
          "choropleth": [
           {
            "colorbar": {
             "outlinewidth": 0,
             "ticks": ""
            },
            "type": "choropleth"
           }
          ],
          "contour": [
           {
            "colorbar": {
             "outlinewidth": 0,
             "ticks": ""
            },
            "colorscale": [
             [
              0,
              "#0d0887"
             ],
             [
              0.1111111111111111,
              "#46039f"
             ],
             [
              0.2222222222222222,
              "#7201a8"
             ],
             [
              0.3333333333333333,
              "#9c179e"
             ],
             [
              0.4444444444444444,
              "#bd3786"
             ],
             [
              0.5555555555555556,
              "#d8576b"
             ],
             [
              0.6666666666666666,
              "#ed7953"
             ],
             [
              0.7777777777777778,
              "#fb9f3a"
             ],
             [
              0.8888888888888888,
              "#fdca26"
             ],
             [
              1,
              "#f0f921"
             ]
            ],
            "type": "contour"
           }
          ],
          "contourcarpet": [
           {
            "colorbar": {
             "outlinewidth": 0,
             "ticks": ""
            },
            "type": "contourcarpet"
           }
          ],
          "heatmap": [
           {
            "colorbar": {
             "outlinewidth": 0,
             "ticks": ""
            },
            "colorscale": [
             [
              0,
              "#0d0887"
             ],
             [
              0.1111111111111111,
              "#46039f"
             ],
             [
              0.2222222222222222,
              "#7201a8"
             ],
             [
              0.3333333333333333,
              "#9c179e"
             ],
             [
              0.4444444444444444,
              "#bd3786"
             ],
             [
              0.5555555555555556,
              "#d8576b"
             ],
             [
              0.6666666666666666,
              "#ed7953"
             ],
             [
              0.7777777777777778,
              "#fb9f3a"
             ],
             [
              0.8888888888888888,
              "#fdca26"
             ],
             [
              1,
              "#f0f921"
             ]
            ],
            "type": "heatmap"
           }
          ],
          "heatmapgl": [
           {
            "colorbar": {
             "outlinewidth": 0,
             "ticks": ""
            },
            "colorscale": [
             [
              0,
              "#0d0887"
             ],
             [
              0.1111111111111111,
              "#46039f"
             ],
             [
              0.2222222222222222,
              "#7201a8"
             ],
             [
              0.3333333333333333,
              "#9c179e"
             ],
             [
              0.4444444444444444,
              "#bd3786"
             ],
             [
              0.5555555555555556,
              "#d8576b"
             ],
             [
              0.6666666666666666,
              "#ed7953"
             ],
             [
              0.7777777777777778,
              "#fb9f3a"
             ],
             [
              0.8888888888888888,
              "#fdca26"
             ],
             [
              1,
              "#f0f921"
             ]
            ],
            "type": "heatmapgl"
           }
          ],
          "histogram": [
           {
            "marker": {
             "pattern": {
              "fillmode": "overlay",
              "size": 10,
              "solidity": 0.2
             }
            },
            "type": "histogram"
           }
          ],
          "histogram2d": [
           {
            "colorbar": {
             "outlinewidth": 0,
             "ticks": ""
            },
            "colorscale": [
             [
              0,
              "#0d0887"
             ],
             [
              0.1111111111111111,
              "#46039f"
             ],
             [
              0.2222222222222222,
              "#7201a8"
             ],
             [
              0.3333333333333333,
              "#9c179e"
             ],
             [
              0.4444444444444444,
              "#bd3786"
             ],
             [
              0.5555555555555556,
              "#d8576b"
             ],
             [
              0.6666666666666666,
              "#ed7953"
             ],
             [
              0.7777777777777778,
              "#fb9f3a"
             ],
             [
              0.8888888888888888,
              "#fdca26"
             ],
             [
              1,
              "#f0f921"
             ]
            ],
            "type": "histogram2d"
           }
          ],
          "histogram2dcontour": [
           {
            "colorbar": {
             "outlinewidth": 0,
             "ticks": ""
            },
            "colorscale": [
             [
              0,
              "#0d0887"
             ],
             [
              0.1111111111111111,
              "#46039f"
             ],
             [
              0.2222222222222222,
              "#7201a8"
             ],
             [
              0.3333333333333333,
              "#9c179e"
             ],
             [
              0.4444444444444444,
              "#bd3786"
             ],
             [
              0.5555555555555556,
              "#d8576b"
             ],
             [
              0.6666666666666666,
              "#ed7953"
             ],
             [
              0.7777777777777778,
              "#fb9f3a"
             ],
             [
              0.8888888888888888,
              "#fdca26"
             ],
             [
              1,
              "#f0f921"
             ]
            ],
            "type": "histogram2dcontour"
           }
          ],
          "mesh3d": [
           {
            "colorbar": {
             "outlinewidth": 0,
             "ticks": ""
            },
            "type": "mesh3d"
           }
          ],
          "parcoords": [
           {
            "line": {
             "colorbar": {
              "outlinewidth": 0,
              "ticks": ""
             }
            },
            "type": "parcoords"
           }
          ],
          "pie": [
           {
            "automargin": true,
            "type": "pie"
           }
          ],
          "scatter": [
           {
            "fillpattern": {
             "fillmode": "overlay",
             "size": 10,
             "solidity": 0.2
            },
            "type": "scatter"
           }
          ],
          "scatter3d": [
           {
            "line": {
             "colorbar": {
              "outlinewidth": 0,
              "ticks": ""
             }
            },
            "marker": {
             "colorbar": {
              "outlinewidth": 0,
              "ticks": ""
             }
            },
            "type": "scatter3d"
           }
          ],
          "scattercarpet": [
           {
            "marker": {
             "colorbar": {
              "outlinewidth": 0,
              "ticks": ""
             }
            },
            "type": "scattercarpet"
           }
          ],
          "scattergeo": [
           {
            "marker": {
             "colorbar": {
              "outlinewidth": 0,
              "ticks": ""
             }
            },
            "type": "scattergeo"
           }
          ],
          "scattergl": [
           {
            "marker": {
             "colorbar": {
              "outlinewidth": 0,
              "ticks": ""
             }
            },
            "type": "scattergl"
           }
          ],
          "scattermapbox": [
           {
            "marker": {
             "colorbar": {
              "outlinewidth": 0,
              "ticks": ""
             }
            },
            "type": "scattermapbox"
           }
          ],
          "scatterpolar": [
           {
            "marker": {
             "colorbar": {
              "outlinewidth": 0,
              "ticks": ""
             }
            },
            "type": "scatterpolar"
           }
          ],
          "scatterpolargl": [
           {
            "marker": {
             "colorbar": {
              "outlinewidth": 0,
              "ticks": ""
             }
            },
            "type": "scatterpolargl"
           }
          ],
          "scatterternary": [
           {
            "marker": {
             "colorbar": {
              "outlinewidth": 0,
              "ticks": ""
             }
            },
            "type": "scatterternary"
           }
          ],
          "surface": [
           {
            "colorbar": {
             "outlinewidth": 0,
             "ticks": ""
            },
            "colorscale": [
             [
              0,
              "#0d0887"
             ],
             [
              0.1111111111111111,
              "#46039f"
             ],
             [
              0.2222222222222222,
              "#7201a8"
             ],
             [
              0.3333333333333333,
              "#9c179e"
             ],
             [
              0.4444444444444444,
              "#bd3786"
             ],
             [
              0.5555555555555556,
              "#d8576b"
             ],
             [
              0.6666666666666666,
              "#ed7953"
             ],
             [
              0.7777777777777778,
              "#fb9f3a"
             ],
             [
              0.8888888888888888,
              "#fdca26"
             ],
             [
              1,
              "#f0f921"
             ]
            ],
            "type": "surface"
           }
          ],
          "table": [
           {
            "cells": {
             "fill": {
              "color": "#EBF0F8"
             },
             "line": {
              "color": "white"
             }
            },
            "header": {
             "fill": {
              "color": "#C8D4E3"
             },
             "line": {
              "color": "white"
             }
            },
            "type": "table"
           }
          ]
         },
         "layout": {
          "annotationdefaults": {
           "arrowcolor": "#2a3f5f",
           "arrowhead": 0,
           "arrowwidth": 1
          },
          "autotypenumbers": "strict",
          "coloraxis": {
           "colorbar": {
            "outlinewidth": 0,
            "ticks": ""
           }
          },
          "colorscale": {
           "diverging": [
            [
             0,
             "#8e0152"
            ],
            [
             0.1,
             "#c51b7d"
            ],
            [
             0.2,
             "#de77ae"
            ],
            [
             0.3,
             "#f1b6da"
            ],
            [
             0.4,
             "#fde0ef"
            ],
            [
             0.5,
             "#f7f7f7"
            ],
            [
             0.6,
             "#e6f5d0"
            ],
            [
             0.7,
             "#b8e186"
            ],
            [
             0.8,
             "#7fbc41"
            ],
            [
             0.9,
             "#4d9221"
            ],
            [
             1,
             "#276419"
            ]
           ],
           "sequential": [
            [
             0,
             "#0d0887"
            ],
            [
             0.1111111111111111,
             "#46039f"
            ],
            [
             0.2222222222222222,
             "#7201a8"
            ],
            [
             0.3333333333333333,
             "#9c179e"
            ],
            [
             0.4444444444444444,
             "#bd3786"
            ],
            [
             0.5555555555555556,
             "#d8576b"
            ],
            [
             0.6666666666666666,
             "#ed7953"
            ],
            [
             0.7777777777777778,
             "#fb9f3a"
            ],
            [
             0.8888888888888888,
             "#fdca26"
            ],
            [
             1,
             "#f0f921"
            ]
           ],
           "sequentialminus": [
            [
             0,
             "#0d0887"
            ],
            [
             0.1111111111111111,
             "#46039f"
            ],
            [
             0.2222222222222222,
             "#7201a8"
            ],
            [
             0.3333333333333333,
             "#9c179e"
            ],
            [
             0.4444444444444444,
             "#bd3786"
            ],
            [
             0.5555555555555556,
             "#d8576b"
            ],
            [
             0.6666666666666666,
             "#ed7953"
            ],
            [
             0.7777777777777778,
             "#fb9f3a"
            ],
            [
             0.8888888888888888,
             "#fdca26"
            ],
            [
             1,
             "#f0f921"
            ]
           ]
          },
          "colorway": [
           "#636efa",
           "#EF553B",
           "#00cc96",
           "#ab63fa",
           "#FFA15A",
           "#19d3f3",
           "#FF6692",
           "#B6E880",
           "#FF97FF",
           "#FECB52"
          ],
          "font": {
           "color": "#2a3f5f"
          },
          "geo": {
           "bgcolor": "white",
           "lakecolor": "white",
           "landcolor": "#E5ECF6",
           "showlakes": true,
           "showland": true,
           "subunitcolor": "white"
          },
          "hoverlabel": {
           "align": "left"
          },
          "hovermode": "closest",
          "mapbox": {
           "style": "light"
          },
          "paper_bgcolor": "white",
          "plot_bgcolor": "#E5ECF6",
          "polar": {
           "angularaxis": {
            "gridcolor": "white",
            "linecolor": "white",
            "ticks": ""
           },
           "bgcolor": "#E5ECF6",
           "radialaxis": {
            "gridcolor": "white",
            "linecolor": "white",
            "ticks": ""
           }
          },
          "scene": {
           "xaxis": {
            "backgroundcolor": "#E5ECF6",
            "gridcolor": "white",
            "gridwidth": 2,
            "linecolor": "white",
            "showbackground": true,
            "ticks": "",
            "zerolinecolor": "white"
           },
           "yaxis": {
            "backgroundcolor": "#E5ECF6",
            "gridcolor": "white",
            "gridwidth": 2,
            "linecolor": "white",
            "showbackground": true,
            "ticks": "",
            "zerolinecolor": "white"
           },
           "zaxis": {
            "backgroundcolor": "#E5ECF6",
            "gridcolor": "white",
            "gridwidth": 2,
            "linecolor": "white",
            "showbackground": true,
            "ticks": "",
            "zerolinecolor": "white"
           }
          },
          "shapedefaults": {
           "line": {
            "color": "#2a3f5f"
           }
          },
          "ternary": {
           "aaxis": {
            "gridcolor": "white",
            "linecolor": "white",
            "ticks": ""
           },
           "baxis": {
            "gridcolor": "white",
            "linecolor": "white",
            "ticks": ""
           },
           "bgcolor": "#E5ECF6",
           "caxis": {
            "gridcolor": "white",
            "linecolor": "white",
            "ticks": ""
           }
          },
          "title": {
           "x": 0.05
          },
          "xaxis": {
           "automargin": true,
           "gridcolor": "white",
           "linecolor": "white",
           "ticks": "",
           "title": {
            "standoff": 15
           },
           "zerolinecolor": "white",
           "zerolinewidth": 2
          },
          "yaxis": {
           "automargin": true,
           "gridcolor": "white",
           "linecolor": "white",
           "ticks": "",
           "title": {
            "standoff": 15
           },
           "zerolinecolor": "white",
           "zerolinewidth": 2
          }
         }
        },
        "xaxis": {
         "anchor": "y",
         "domain": [
          0,
          1
         ],
         "title": {
          "text": "x_coord"
         }
        },
        "yaxis": {
         "anchor": "x",
         "domain": [
          0,
          1
         ],
         "title": {
          "text": "y_coord"
         }
        }
       }
      }
     },
     "metadata": {},
     "output_type": "display_data"
    }
   ],
   "source": [
    "import plotly.express as px\n",
    "\n",
    "df = px.data.iris()\n",
    "\n",
    "features = df.loc[:, :'petal_width']\n",
    "\n",
    "fig = px.scatter(\n",
    "    text_data, x=\"x_coord\", y=\"y_coord\",\n",
    "    color=text_data.cluster, labels={'color': 'species'},\n",
    "    hover_data=[\"lieblingssportart\", \"lieblingsessen\", \"lieblingsmusiker\", \"lieblingsgenre\"]\n",
    ")\n",
    "fig.show()"
   ]
  }
 ],
 "metadata": {
  "kernelspec": {
   "display_name": "data_science",
   "language": "python",
   "name": "python3"
  },
  "language_info": {
   "codemirror_mode": {
    "name": "ipython",
    "version": 3
   },
   "file_extension": ".py",
   "mimetype": "text/x-python",
   "name": "python",
   "nbconvert_exporter": "python",
   "pygments_lexer": "ipython3",
   "version": "3.9.16"
  },
  "orig_nbformat": 4
 },
 "nbformat": 4,
 "nbformat_minor": 2
}
