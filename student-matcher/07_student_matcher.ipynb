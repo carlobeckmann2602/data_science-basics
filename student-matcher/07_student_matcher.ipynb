{
 "cells": [
  {
   "cell_type": "markdown",
   "metadata": {},
   "source": [
    "# Student Matcher"
   ]
  },
  {
   "cell_type": "code",
   "execution_count": 13,
   "metadata": {},
   "outputs": [],
   "source": [
    "%store -r columns_encoded\n",
    "%store -r columns_encoded\n",
    "%store -r columns\n",
    "%store -r data\n",
    "%store -r data_encoded\n",
    "%store -r pseudonym_df\n",
    "\n",
    "columns_encoded = columns_encoded\n",
    "columns = columns\n",
    "data = data\n",
    "data_encoded = data_encoded\n",
    "\n",
    "pseudonym_df = pseudonym_df"
   ]
  },
  {
   "cell_type": "code",
   "execution_count": 14,
   "metadata": {},
   "outputs": [],
   "source": [
    "import os\n",
    "import numpy as np\n",
    "import pandas as pd\n",
    "import matplotlib.pyplot as plt\n",
    "import seaborn as sb\n",
    "\n",
    "import math"
   ]
  },
  {
   "cell_type": "markdown",
   "metadata": {},
   "source": [
    "# 1 Ähnlichkeitsberechnung"
   ]
  },
  {
   "cell_type": "markdown",
   "metadata": {},
   "source": [
    "## TODO: Prüfen, ob man den Typecast nicht direkt bei dem Preprocessing macht...\n",
    "\n",
    "Die Datentypen aller Features auf Int setzten (die One-Hot-Encodings sind größtenteils noch ubyte, das irgendwann probleme macht)."
   ]
  },
  {
   "cell_type": "code",
   "execution_count": 16,
   "metadata": {},
   "outputs": [
    {
     "name": "stdout",
     "output_type": "stream",
     "text": [
      "<class 'pandas.core.frame.DataFrame'>\n",
      "RangeIndex: 62 entries, 0 to 61\n",
      "Data columns (total 82 columns):\n",
      " #   Column                                                                                                                      Non-Null Count  Dtype\n",
      "---  ------                                                                                                                      --------------  -----\n",
      " 0   Alter                                                                                                                       62 non-null     int32\n",
      " 1   Als wie sportlich würdest du dich einschätzen?                                                                              62 non-null     int32\n",
      " 2   Welche Rolle spielt für dich gesunde Ernährung?                                                                             62 non-null     int32\n",
      " 3   Wie gerne gehst du Essen oder Trinken?                                                                                      62 non-null     int32\n",
      " 4   Wie gerne kochst du selbst?                                                                                                 62 non-null     int32\n",
      " 5   Wie gerne gehst du feiern?                                                                                                  62 non-null     int32\n",
      " 6   Wie sehr interessierst du dich für Musik?                                                                                   62 non-null     int32\n",
      " 7   Wie gerne liest Du?                                                                                                         62 non-null     int32\n",
      " 8   Wie sehr interessierst du dich für darstellende Künste\n",
      "wie Schauspiel, Tanz oder Gesang?                                    62 non-null     int32\n",
      " 9   Wie sehr interessierst du sich für Filme, Kino, Fernsehsendungen?                                                           62 non-null     int32\n",
      " 10  Wie sehr interessierst du dich für bildende Kunst wie\n",
      "Malen, Zeichnen oder Fotografie?                                      62 non-null     int32\n",
      " 11  Wie gerne besuchst du Museen?                                                                                               62 non-null     int32\n",
      " 12  Wie sehr interessierst du dich für Videospiele?                                                                             62 non-null     int32\n",
      " 13  Wie häufig nutzt du soziale Medien?                                                                                         62 non-null     int32\n",
      " 14  Wie groß ist dein Interesse an Technologie und Innovation,\n",
      "wie beispielsweise Programmierung, Robotik und Virtual Reality?  62 non-null     int32\n",
      " 15  Wie groß ist dein Interesse an Astronomie, Weltraumforschung\n",
      "oder astronomiebezogenen Aktivitäten?                          62 non-null     int32\n",
      " 16  Wie groß ist dein Interesse an Naturwissenschaften\n",
      "wie Biologie, Chemie und Physik?                                         62 non-null     int32\n",
      " 17  Wie sehr interessierst du sich für gesellschaftliches\n",
      "Engagement und Freiwilligenarbeit?                                    62 non-null     int32\n",
      " 18  Wie groß ist dein Interesse an sozialen Themen wie\n",
      "Vielfalt, Gleichberechtigung und soziale Gerechtigkeit?                  62 non-null     int32\n",
      " 19  Würdest du dich selbst als introvertiert/extrovertiert\n",
      "bezeichnen?                                                          62 non-null     int32\n",
      " 20  Hast du häufig Angst etwas zu verpassen, wenn du nicht\n",
      "unter Menschen bist?                                                 62 non-null     int32\n",
      " 21  Wie … schätzt Du dich selbst ein? (1 gar nicht - 5\n",
      "sehr) [spontan]                                                          62 non-null     int32\n",
      " 22  Wie … schätzt Du dich selbst ein? (1 gar nicht - 5\n",
      "sehr) [verwirrt]                                                         62 non-null     int32\n",
      " 23  Wie … schätzt Du dich selbst ein? (1 gar nicht - 5\n",
      "sehr) [glücklich]                                                        62 non-null     int32\n",
      " 24  Wie … schätzt Du dich selbst ein? (1 gar nicht - 5\n",
      "sehr) [geduldig]                                                         62 non-null     int32\n",
      " 25  Wie … schätzt Du dich selbst ein? (1 gar nicht - 5\n",
      "sehr) [streitlustig]                                                     62 non-null     int32\n",
      " 26  Wie … schätzt Du dich selbst ein? (1 gar nicht - 5\n",
      "sehr) [abenteuerlustig]                                                  62 non-null     int32\n",
      " 27  Hattest du schon einmal Zweifel daran, ob du dein Studium\n",
      "schaffen kannst?                                                  62 non-null     int32\n",
      " 28  Wie zufrieden bist du mit deinem Studium?                                                                                   62 non-null     int32\n",
      " 29  Strebst du nach dem Studium auch weiterhin eine akademische\n",
      "Laufbahn an?                                                    62 non-null     int32\n",
      " 30  Wie gern lernst Du in der Gruppe?                                                                                           62 non-null     int32\n",
      " 31  Prokrastinierst du, wenn du lernen müsstest?                                                                                62 non-null     int32\n",
      " 32  Wie häufig machst du Abgaben auf den letzten Drücker?                                                                       62 non-null     int32\n",
      " 33  Wie gerne probierst du neue Lebensmittel aus?                                                                               62 non-null     int32\n",
      " 34  Wie häufig verbringst du Zeit in der Natur (z. B. beim\n",
      "Wandern oder Camping)?                                               62 non-null     int32\n",
      " 35  Wie häufig verreist du?                                                                                                     62 non-null     int32\n",
      " 36  Wie interessiert bist du an handwerklichen Tätigkeiten?                                                                     62 non-null     int32\n",
      " 37  Wie gerne magst du Sprachnachrichten?                                                                                       62 non-null     int32\n",
      " 38  Wie wichtig ist es dir viel Geld zu verdienen?                                                                              62 non-null     int32\n",
      " 39  Interesse an Basketball? (encoded)                                                                                          62 non-null     int32\n",
      " 40  Interesse an Bouldern/Klettern? (encoded)                                                                                   62 non-null     int32\n",
      " 41  Interesse an Football? (encoded)                                                                                            62 non-null     int32\n",
      " 42  Interesse an Fußball? (encoded)                                                                                             62 non-null     int32\n",
      " 43  Interesse an Handball? (encoded)                                                                                            62 non-null     int32\n",
      " 44  Interesse an Hockey? (encoded)                                                                                              62 non-null     int32\n",
      " 45  Interesse an Kampfsport? (encoded)                                                                                          62 non-null     int32\n",
      " 46  Interesse an Leichtathletik? (encoded)                                                                                      62 non-null     int32\n",
      " 47  Interesse an Rennrad/Mountainbike? (encoded)                                                                                62 non-null     int32\n",
      " 48  Interesse an Schwimmen? (encoded)                                                                                           62 non-null     int32\n",
      " 49  Interesse an Tanzen? (encoded)                                                                                              62 non-null     int32\n",
      " 50  Interesse an Tennis? (encoded)                                                                                              62 non-null     int32\n",
      " 51  Interesse an Volleyball? (encoded)                                                                                          62 non-null     int32\n",
      " 52  Interesse an Wassersport? (encoded)                                                                                         62 non-null     int32\n",
      " 53  Interesse an Wintersport? (encoded)                                                                                         62 non-null     int32\n",
      " 54  Interesse an Yoga? (encoded)                                                                                                62 non-null     int32\n",
      " 55  Lieblingssportart Badminton? (encoded)                                                                                      62 non-null     int32\n",
      " 56  Lieblingssportart Basketball? (encoded)                                                                                     62 non-null     int32\n",
      " 57  Lieblingssportart Bouldern? (encoded)                                                                                       62 non-null     int32\n",
      " 58  Lieblingssportart Fußball? (encoded)                                                                                        62 non-null     int32\n",
      " 59  Lieblingssportart Keine Lieblingssportart? (encoded)                                                                        62 non-null     int32\n",
      " 60  Lieblingssportart Tischtennis? (encoded)                                                                                    62 non-null     int32\n",
      " 61  Lieblingsessen Burger? (encoded)                                                                                            62 non-null     int32\n",
      " 62  Lieblingsessen Döner? (encoded)                                                                                             62 non-null     int32\n",
      " 63  Lieblingsessen Kein Lieblingsessen? (encoded)                                                                               62 non-null     int32\n",
      " 64  Lieblingsessen Lasagne? (encoded)                                                                                           62 non-null     int32\n",
      " 65  Lieblingsessen Pasta? (encoded)                                                                                             62 non-null     int32\n",
      " 66  Lieblingsessen Pfannkuchen? (encoded)                                                                                       62 non-null     int32\n",
      " 67  Lieblingsessen Pizza? (encoded)                                                                                             62 non-null     int32\n",
      " 68  Lieblingsessen Sushi? (encoded)                                                                                             62 non-null     int32\n",
      " 69  Lieblingsmusiker Kein Lieblingsmusiker? (encoded)                                                                           62 non-null     int32\n",
      " 70  Studiengang Bmi? (encoded)                                                                                                  62 non-null     int32\n",
      " 71  Studiengang Bmt? (encoded)                                                                                                  62 non-null     int32\n",
      " 72  Studiengang Daisy? (encoded)                                                                                                62 non-null     int32\n",
      " 73  Studiengang Mmi? (encoded)                                                                                                  62 non-null     int32\n",
      " 74  Funktion Student*In? (encoded)                                                                                              62 non-null     int32\n",
      " 75  Genre Lieblingsmusiker Alternative? (encoded)                                                                               62 non-null     int32\n",
      " 76  Genre Lieblingsmusiker Electro? (encoded)                                                                                   62 non-null     int32\n",
      " 77  Genre Lieblingsmusiker Kein Lieblingsgenre? (encoded)                                                                       62 non-null     int32\n",
      " 78  Genre Lieblingsmusiker Pop? (encoded)                                                                                       62 non-null     int32\n",
      " 79  Genre Lieblingsmusiker Rap Hip Hop? (encoded)                                                                               62 non-null     int32\n",
      " 80  Genre Lieblingsmusiker Rock? (encoded)                                                                                      62 non-null     int32\n",
      " 81  Geschlecht (weiblich?)                                                                                                      62 non-null     int32\n",
      "dtypes: int32(82)\n",
      "memory usage: 20.0 KB\n"
     ]
    }
   ],
   "source": [
    "data_encoded = data_encoded.astype('int')\n",
    "data_encoded.info()"
   ]
  },
  {
   "cell_type": "markdown",
   "metadata": {},
   "source": [
    "Ergänzen der Pseudonyme zu den Daten..."
   ]
  },
  {
   "cell_type": "code",
   "execution_count": 17,
   "metadata": {},
   "outputs": [],
   "source": [
    "data_encoded[\"Pseudonym\"] = pseudonym_df"
   ]
  },
  {
   "cell_type": "markdown",
   "metadata": {},
   "source": [
    "## TODO: Funktion implementieren"
   ]
  },
  {
   "cell_type": "code",
   "execution_count": 18,
   "metadata": {},
   "outputs": [],
   "source": [
    "# Input: Two data series, each containing a row of a datapoint from data_encoded\n",
    "def survey_similarity(person1, person2):\n",
    "\n",
    "    # Drop non-numeric features and age, which is not used for comparison\n",
    "    person1 = person1.drop([\"Alter\", \"Pseudonym\"])\n",
    "    person2 = person2.drop([\"Alter\", \"Pseudonym\"])\n",
    "\n",
    "    # Create DataFrame to store the difference between the two datapoints for each feature\n",
    "    differences = pd.DataFrame(columns=[\"Feature\", \"Differenz\"])\n",
    "\n",
    "    # Iterate over all columns (features). This iteration assumes, that the second series contains the same columns (amount and names)\n",
    "    for column in person1.keys():\n",
    "\n",
    "        # compute the absolute distance for each feature and save the result in the DataFrame\n",
    "        difference_p1_p2 = abs(person1[column] - person2[column])\n",
    "        new_row = pd.DataFrame({'Feature': column, 'Differenz': difference_p1_p2}, index=[0])\n",
    "        differences = pd.concat([new_row, differences.loc[:]]).reset_index(drop=True)\n",
    "    \n",
    "    # Compute the overall average distance from the individual computations of each feature-distance\n",
    "    difference_score = differences[\"Differenz\"].mean()\n",
    "    return difference_score, differences"
   ]
  },
  {
   "cell_type": "markdown",
   "metadata": {},
   "source": [
    "Beispielhafte Berechnung der Abstände mithilfe der Funktion, um Ausgabe verständlicher zu machen..."
   ]
  },
  {
   "cell_type": "code",
   "execution_count": 19,
   "metadata": {},
   "outputs": [
    {
     "data": {
      "text/html": [
       "<div>\n",
       "<style scoped>\n",
       "    .dataframe tbody tr th:only-of-type {\n",
       "        vertical-align: middle;\n",
       "    }\n",
       "\n",
       "    .dataframe tbody tr th {\n",
       "        vertical-align: top;\n",
       "    }\n",
       "\n",
       "    .dataframe thead th {\n",
       "        text-align: right;\n",
       "    }\n",
       "</style>\n",
       "<table border=\"1\" class=\"dataframe\">\n",
       "  <thead>\n",
       "    <tr style=\"text-align: right;\">\n",
       "      <th></th>\n",
       "      <th>Feature</th>\n",
       "      <th>Differenz</th>\n",
       "    </tr>\n",
       "  </thead>\n",
       "  <tbody>\n",
       "    <tr>\n",
       "      <th>0</th>\n",
       "      <td>Geschlecht (weiblich?)</td>\n",
       "      <td>0</td>\n",
       "    </tr>\n",
       "    <tr>\n",
       "      <th>1</th>\n",
       "      <td>Genre Lieblingsmusiker Rock? (encoded)</td>\n",
       "      <td>0</td>\n",
       "    </tr>\n",
       "    <tr>\n",
       "      <th>2</th>\n",
       "      <td>Genre Lieblingsmusiker Rap Hip Hop? (encoded)</td>\n",
       "      <td>0</td>\n",
       "    </tr>\n",
       "    <tr>\n",
       "      <th>3</th>\n",
       "      <td>Genre Lieblingsmusiker Pop? (encoded)</td>\n",
       "      <td>0</td>\n",
       "    </tr>\n",
       "    <tr>\n",
       "      <th>4</th>\n",
       "      <td>Genre Lieblingsmusiker Kein Lieblingsgenre? (e...</td>\n",
       "      <td>0</td>\n",
       "    </tr>\n",
       "    <tr>\n",
       "      <th>...</th>\n",
       "      <td>...</td>\n",
       "      <td>...</td>\n",
       "    </tr>\n",
       "    <tr>\n",
       "      <th>76</th>\n",
       "      <td>Wie gerne gehst du feiern?</td>\n",
       "      <td>1</td>\n",
       "    </tr>\n",
       "    <tr>\n",
       "      <th>77</th>\n",
       "      <td>Wie gerne kochst du selbst?</td>\n",
       "      <td>1</td>\n",
       "    </tr>\n",
       "    <tr>\n",
       "      <th>78</th>\n",
       "      <td>Wie gerne gehst du Essen oder Trinken?</td>\n",
       "      <td>1</td>\n",
       "    </tr>\n",
       "    <tr>\n",
       "      <th>79</th>\n",
       "      <td>Welche Rolle spielt für dich gesunde Ernährung?</td>\n",
       "      <td>0</td>\n",
       "    </tr>\n",
       "    <tr>\n",
       "      <th>80</th>\n",
       "      <td>Als wie sportlich würdest du dich einschätzen?</td>\n",
       "      <td>1</td>\n",
       "    </tr>\n",
       "  </tbody>\n",
       "</table>\n",
       "<p>81 rows × 2 columns</p>\n",
       "</div>"
      ],
      "text/plain": [
       "                                              Feature Differenz\n",
       "0                              Geschlecht (weiblich?)         0\n",
       "1              Genre Lieblingsmusiker Rock? (encoded)         0\n",
       "2       Genre Lieblingsmusiker Rap Hip Hop? (encoded)         0\n",
       "3               Genre Lieblingsmusiker Pop? (encoded)         0\n",
       "4   Genre Lieblingsmusiker Kein Lieblingsgenre? (e...         0\n",
       "..                                                ...       ...\n",
       "76                         Wie gerne gehst du feiern?         1\n",
       "77                        Wie gerne kochst du selbst?         1\n",
       "78             Wie gerne gehst du Essen oder Trinken?         1\n",
       "79   Welche Rolle spielt für dich gesunde Ernährung?          0\n",
       "80     Als wie sportlich würdest du dich einschätzen?         1\n",
       "\n",
       "[81 rows x 2 columns]"
      ]
     },
     "execution_count": 19,
     "metadata": {},
     "output_type": "execute_result"
    }
   ],
   "source": [
    "score, similarity_p1_p2 = survey_similarity(data_encoded.iloc[0], data_encoded.iloc[1])\n",
    "similarity_p1_p2"
   ]
  },
  {
   "cell_type": "markdown",
   "metadata": {},
   "source": [
    "Versuch, mit der internen Funktion .diff() die Distanzen performanter zu berechen. Hat bisher nicht allzu gut funktioniert..."
   ]
  },
  {
   "cell_type": "code",
   "execution_count": 20,
   "metadata": {},
   "outputs": [
    {
     "data": {
      "text/html": [
       "<div>\n",
       "<style scoped>\n",
       "    .dataframe tbody tr th:only-of-type {\n",
       "        vertical-align: middle;\n",
       "    }\n",
       "\n",
       "    .dataframe tbody tr th {\n",
       "        vertical-align: top;\n",
       "    }\n",
       "\n",
       "    .dataframe thead th {\n",
       "        text-align: right;\n",
       "    }\n",
       "</style>\n",
       "<table border=\"1\" class=\"dataframe\">\n",
       "  <thead>\n",
       "    <tr style=\"text-align: right;\">\n",
       "      <th></th>\n",
       "      <th>0</th>\n",
       "      <th>1</th>\n",
       "    </tr>\n",
       "  </thead>\n",
       "  <tbody>\n",
       "    <tr>\n",
       "      <th>Als wie sportlich würdest du dich einschätzen?</th>\n",
       "      <td>NaN</td>\n",
       "      <td>-1.0</td>\n",
       "    </tr>\n",
       "    <tr>\n",
       "      <th>Welche Rolle spielt für dich gesunde Ernährung?</th>\n",
       "      <td>NaN</td>\n",
       "      <td>0.0</td>\n",
       "    </tr>\n",
       "    <tr>\n",
       "      <th>Wie gerne gehst du Essen oder Trinken?</th>\n",
       "      <td>NaN</td>\n",
       "      <td>1.0</td>\n",
       "    </tr>\n",
       "    <tr>\n",
       "      <th>Wie gerne kochst du selbst?</th>\n",
       "      <td>NaN</td>\n",
       "      <td>1.0</td>\n",
       "    </tr>\n",
       "    <tr>\n",
       "      <th>Wie gerne gehst du feiern?</th>\n",
       "      <td>NaN</td>\n",
       "      <td>-1.0</td>\n",
       "    </tr>\n",
       "    <tr>\n",
       "      <th>...</th>\n",
       "      <td>...</td>\n",
       "      <td>...</td>\n",
       "    </tr>\n",
       "    <tr>\n",
       "      <th>Genre Lieblingsmusiker Kein Lieblingsgenre? (encoded)</th>\n",
       "      <td>NaN</td>\n",
       "      <td>0.0</td>\n",
       "    </tr>\n",
       "    <tr>\n",
       "      <th>Genre Lieblingsmusiker Pop? (encoded)</th>\n",
       "      <td>NaN</td>\n",
       "      <td>0.0</td>\n",
       "    </tr>\n",
       "    <tr>\n",
       "      <th>Genre Lieblingsmusiker Rap Hip Hop? (encoded)</th>\n",
       "      <td>NaN</td>\n",
       "      <td>0.0</td>\n",
       "    </tr>\n",
       "    <tr>\n",
       "      <th>Genre Lieblingsmusiker Rock? (encoded)</th>\n",
       "      <td>NaN</td>\n",
       "      <td>0.0</td>\n",
       "    </tr>\n",
       "    <tr>\n",
       "      <th>Geschlecht (weiblich?)</th>\n",
       "      <td>NaN</td>\n",
       "      <td>0.0</td>\n",
       "    </tr>\n",
       "  </tbody>\n",
       "</table>\n",
       "<p>81 rows × 2 columns</p>\n",
       "</div>"
      ],
      "text/plain": [
       "                                                     0    1\n",
       "Als wie sportlich würdest du dich einschätzen?     NaN -1.0\n",
       "Welche Rolle spielt für dich gesunde Ernährung?    NaN  0.0\n",
       "Wie gerne gehst du Essen oder Trinken?             NaN  1.0\n",
       "Wie gerne kochst du selbst?                        NaN  1.0\n",
       "Wie gerne gehst du feiern?                         NaN -1.0\n",
       "...                                                 ..  ...\n",
       "Genre Lieblingsmusiker Kein Lieblingsgenre? (en... NaN  0.0\n",
       "Genre Lieblingsmusiker Pop? (encoded)              NaN  0.0\n",
       "Genre Lieblingsmusiker Rap Hip Hop? (encoded)      NaN  0.0\n",
       "Genre Lieblingsmusiker Rock? (encoded)             NaN  0.0\n",
       "Geschlecht (weiblich?)                             NaN  0.0\n",
       "\n",
       "[81 rows x 2 columns]"
      ]
     },
     "execution_count": 20,
     "metadata": {},
     "output_type": "execute_result"
    }
   ],
   "source": [
    "# def survey_similarity_df(dataframe):\n",
    "#     dataframe = dataframe.drop([\"Alter\", \"Pseudonym\"], axis=1)\n",
    "#     dataframe = dataframe.diff()\n",
    "#     return dataframe.T\n",
    "\n",
    "# df = data_encoded.iloc[0:2]\n",
    "# test = survey_similarity_df(df)\n",
    "# test"
   ]
  },
  {
   "cell_type": "markdown",
   "metadata": {},
   "source": [
    "Die Funktion berechnet für jede Kombination von Datenpunkten (die anhand ihrer Pseudonyme identifiziert werden) einen \"Ähnlichkeitswert\", indem für jedes Paar die Ähnlichkeitsberechnung durchgeführt wird. Um die Berechnung performanter zu machen, wird hierbei überprüft, ob bereits für das zugehörige Paar in umgekehrter Reihenfolge ein Wert berechnet wurde. Falls dem so ist, wird der Wert übernommen, da die Ähnlichkeitsberechnung symmetrisch ist und die Ähnlichkeit von Person1 zu Person2 genauso groß ist wie von Person2 zu Person1.\n",
    "\n",
    "Die berechneten Ähnlichkeitswerte werden in einem (neuen) DataFrame gespeichert."
   ]
  },
  {
   "cell_type": "code",
   "execution_count": 108,
   "metadata": {},
   "outputs": [],
   "source": [
    "# Input:\n",
    "#   - data: Dataframe containing the datapoints which should be compared\n",
    "#   - reduced: Optional bool to determine, if comparisons of datapoints with themselves and different orders should be ignored (for a better evaluation & performance)\n",
    "def compute_similarities(data, reduced=True):\n",
    "    similarities = pd.DataFrame(columns=[\"person1\", \"person2\", \"similarity\"])\n",
    "    for i in range(0, len(data)-1):\n",
    "        for j in range(0, len(data)-1):\n",
    "            pseudo_p1 = data.iloc[i][\"Pseudonym\"]\n",
    "            pseudo_p2 = data.iloc[j][\"Pseudonym\"]\n",
    "\n",
    "            # If a Datapoint is compared to itself, the computation is aborted\n",
    "            if(reduced & (pseudo_p1 == pseudo_p2)):\n",
    "                continue\n",
    "            \n",
    "            # Mask checks whether there is already a computed value for the given pair, but in a swapped order\n",
    "            mask_p2_p1 = (similarities[\"person1\"] == pseudo_p2) & (similarities[\"person2\"] == pseudo_p1)\n",
    "            if len(similarities[mask_p2_p1]) > 0:\n",
    "                # As the order of the given pair does not has an impact on the computation, the value can be replaced directly by the corresponding pair in the swapped order (or ignored completely)\n",
    "                if reduced:\n",
    "                    continue\n",
    "\n",
    "                similarity_p1_p2 = similarities[mask_p2_p1].iloc[0][\"similarity\"]\n",
    "            else:\n",
    "                similarity_p1_p2, _ = survey_similarity(data.iloc[i], data.iloc[j])\n",
    "\n",
    "            similarities.loc[len(similarities)] = [pseudo_p1, pseudo_p2, similarity_p1_p2]\n",
    "\n",
    "    return similarities"
   ]
  },
  {
   "cell_type": "markdown",
   "metadata": {},
   "source": [
    "Aufrufen der Funktion auf allen Datenpunkten, um alle Distanzwerte zu berechnen..."
   ]
  },
  {
   "cell_type": "code",
   "execution_count": 93,
   "metadata": {},
   "outputs": [
    {
     "name": "stdout",
     "output_type": "stream",
     "text": [
      "<class 'pandas.core.frame.DataFrame'>\n",
      "Int64Index: 3721 entries, 0 to 3720\n",
      "Data columns (total 3 columns):\n",
      " #   Column      Non-Null Count  Dtype  \n",
      "---  ------      --------------  -----  \n",
      " 0   person1     3721 non-null   object \n",
      " 1   person2     3721 non-null   object \n",
      " 2   similarity  3721 non-null   float64\n",
      "dtypes: float64(1), object(2)\n",
      "memory usage: 116.3+ KB\n"
     ]
    }
   ],
   "source": [
    "df_similarities = compute_similarities(data_encoded, reduced=False)\n",
    "df_similarities.info()"
   ]
  },
  {
   "cell_type": "code",
   "execution_count": 109,
   "metadata": {},
   "outputs": [
    {
     "name": "stdout",
     "output_type": "stream",
     "text": [
      "<class 'pandas.core.frame.DataFrame'>\n",
      "Int64Index: 1830 entries, 0 to 1829\n",
      "Data columns (total 3 columns):\n",
      " #   Column      Non-Null Count  Dtype  \n",
      "---  ------      --------------  -----  \n",
      " 0   person1     1830 non-null   object \n",
      " 1   person2     1830 non-null   object \n",
      " 2   similarity  1830 non-null   float64\n",
      "dtypes: float64(1), object(2)\n",
      "memory usage: 57.2+ KB\n"
     ]
    }
   ],
   "source": [
    "df_similarities = compute_similarities(data_encoded, reduced=True)\n",
    "df_similarities.info()"
   ]
  },
  {
   "cell_type": "markdown",
   "metadata": {},
   "source": [
    "Deprecated Code zum nachträglichen Entfernen von Vergleichen der Datenpunkte mit sich selbst. Ist jetzt in der Berechnungsmethode selbst enthalten (für reduced=True), kann also ggf. entfernt werden."
   ]
  },
  {
   "cell_type": "code",
   "execution_count": 100,
   "metadata": {},
   "outputs": [],
   "source": [
    "# df_removed_rows = df_similarities.iloc[0:0]\n",
    "# df_similarities_wo_duplicates = df_similarities.copy()\n",
    "\n",
    "# for row in df_similarities_wo_duplicates.iterrows():\n",
    "#     if row[1][0] == row[1][1]:\n",
    "#         df_removed_rows = pd.concat([row[1].T, df_removed_rows], ignore_index=True)\n",
    "#         df_similarities_wo_duplicates = df_similarities_wo_duplicates.drop(row[0])\n",
    "\n",
    "# df_similarities_wo_duplicates, df_removed_rows"
   ]
  },
  {
   "cell_type": "markdown",
   "metadata": {},
   "source": [
    "Ausgabe der geordneten Scores. Aktuell wird die Ähnlichkeit durch den Abstand angegeben, was nicht der Intuition entspricht (kleiner ist \"ähnlicher\") Deshalb wird die Skalierung vor der Ausgabe \"umgedreht\"."
   ]
  },
  {
   "cell_type": "code",
   "execution_count": 116,
   "metadata": {},
   "outputs": [
    {
     "data": {
      "text/html": [
       "<div>\n",
       "<style scoped>\n",
       "    .dataframe tbody tr th:only-of-type {\n",
       "        vertical-align: middle;\n",
       "    }\n",
       "\n",
       "    .dataframe tbody tr th {\n",
       "        vertical-align: top;\n",
       "    }\n",
       "\n",
       "    .dataframe thead th {\n",
       "        text-align: right;\n",
       "    }\n",
       "</style>\n",
       "<table border=\"1\" class=\"dataframe\">\n",
       "  <thead>\n",
       "    <tr style=\"text-align: right;\">\n",
       "      <th></th>\n",
       "      <th>person1</th>\n",
       "      <th>person2</th>\n",
       "      <th>similarity</th>\n",
       "    </tr>\n",
       "  </thead>\n",
       "  <tbody>\n",
       "    <tr>\n",
       "      <th>868</th>\n",
       "      <td>123</td>\n",
       "      <td>asdf</td>\n",
       "      <td>0.790123</td>\n",
       "    </tr>\n",
       "    <tr>\n",
       "      <th>418</th>\n",
       "      <td>air-oughtest-wood-abate</td>\n",
       "      <td>ac1306</td>\n",
       "      <td>0.641975</td>\n",
       "    </tr>\n",
       "    <tr>\n",
       "      <th>417</th>\n",
       "      <td>air-oughtest-wood-abate</td>\n",
       "      <td>agalper</td>\n",
       "      <td>0.617284</td>\n",
       "    </tr>\n",
       "    <tr>\n",
       "      <th>106</th>\n",
       "      <td>hbstr</td>\n",
       "      <td>DRP</td>\n",
       "      <td>0.617284</td>\n",
       "    </tr>\n",
       "    <tr>\n",
       "      <th>662</th>\n",
       "      <td>bangnon123</td>\n",
       "      <td>7bpf8</td>\n",
       "      <td>0.604938</td>\n",
       "    </tr>\n",
       "    <tr>\n",
       "      <th>...</th>\n",
       "      <td>...</td>\n",
       "      <td>...</td>\n",
       "      <td>...</td>\n",
       "    </tr>\n",
       "    <tr>\n",
       "      <th>314</th>\n",
       "      <td>242</td>\n",
       "      <td>kevkev</td>\n",
       "      <td>0.061728</td>\n",
       "    </tr>\n",
       "    <tr>\n",
       "      <th>1594</th>\n",
       "      <td>aw17</td>\n",
       "      <td>JustTill</td>\n",
       "      <td>0.061728</td>\n",
       "    </tr>\n",
       "    <tr>\n",
       "      <th>298</th>\n",
       "      <td>242</td>\n",
       "      <td>sekkuro</td>\n",
       "      <td>0.024691</td>\n",
       "    </tr>\n",
       "    <tr>\n",
       "      <th>331</th>\n",
       "      <td>242</td>\n",
       "      <td>Ark</td>\n",
       "      <td>0.024691</td>\n",
       "    </tr>\n",
       "    <tr>\n",
       "      <th>353</th>\n",
       "      <td>3186</td>\n",
       "      <td>420</td>\n",
       "      <td>0.024691</td>\n",
       "    </tr>\n",
       "  </tbody>\n",
       "</table>\n",
       "<p>1830 rows × 3 columns</p>\n",
       "</div>"
      ],
      "text/plain": [
       "                      person1   person2  similarity\n",
       "868                       123      asdf    0.790123\n",
       "418   air-oughtest-wood-abate    ac1306    0.641975\n",
       "417   air-oughtest-wood-abate   agalper    0.617284\n",
       "106                     hbstr       DRP    0.617284\n",
       "662                bangnon123     7bpf8    0.604938\n",
       "...                       ...       ...         ...\n",
       "314                       242    kevkev    0.061728\n",
       "1594                     aw17  JustTill    0.061728\n",
       "298                       242   sekkuro    0.024691\n",
       "331                       242       Ark    0.024691\n",
       "353                      3186       420    0.024691\n",
       "\n",
       "[1830 rows x 3 columns]"
      ]
     },
     "execution_count": 116,
     "metadata": {},
     "output_type": "execute_result"
    }
   ],
   "source": [
    "df_similarities[\"similarity\"] = 1-df_similarities[\"similarity\"]\n",
    "\n",
    "df_similarities = df_similarities.sort_values(\"similarity\", ascending=False)\n",
    "df_similarities"
   ]
  },
  {
   "cell_type": "markdown",
   "metadata": {},
   "source": [
    "# 2. Netzwerk-Analyse"
   ]
  },
  {
   "cell_type": "markdown",
   "metadata": {},
   "source": [
    "# 3. Student Matcher Anwendung"
   ]
  },
  {
   "cell_type": "code",
   "execution_count": 120,
   "metadata": {},
   "outputs": [],
   "source": [
    "def student_matcher(pseudonym):\n",
    "    mask_pseudo = df_similarities.person1 == pseudonym\n",
    "    if len(df_similarities[mask_pseudo]) <= 0:\n",
    "        print(\"Für das übergebene Pseudonym wurde leider kein passender Datenpunkt gefunden.\")\n",
    "        return\n",
    "    \n",
    "    df_matches = df_similarities[mask_pseudo].sort_values(\"similarity\", ascending=False)\n",
    "    print(\"Für die gesuchte Personen wurden die folgenden Personen gefunden, die zu ihr passen könnten:\\n\")\n",
    "    print(df_matches.iloc[0:5][\"person2\"])\n",
    "\n",
    "    return df_matches.iloc[0:5]"
   ]
  },
  {
   "cell_type": "code",
   "execution_count": 121,
   "metadata": {},
   "outputs": [
    {
     "name": "stdout",
     "output_type": "stream",
     "text": [
      "Für die gesuchte Personen wurden die folgenden Personen gefunden, die zu ihr passen könnten:\n",
      "\n",
      "19        FB42\n",
      "50          TV\n",
      "25     agalper\n",
      "55    JustTill\n",
      "18     dotf_23\n",
      "Name: person2, dtype: object\n"
     ]
    },
    {
     "data": {
      "text/html": [
       "<div>\n",
       "<style scoped>\n",
       "    .dataframe tbody tr th:only-of-type {\n",
       "        vertical-align: middle;\n",
       "    }\n",
       "\n",
       "    .dataframe tbody tr th {\n",
       "        vertical-align: top;\n",
       "    }\n",
       "\n",
       "    .dataframe thead th {\n",
       "        text-align: right;\n",
       "    }\n",
       "</style>\n",
       "<table border=\"1\" class=\"dataframe\">\n",
       "  <thead>\n",
       "    <tr style=\"text-align: right;\">\n",
       "      <th></th>\n",
       "      <th>person1</th>\n",
       "      <th>person2</th>\n",
       "      <th>similarity</th>\n",
       "    </tr>\n",
       "  </thead>\n",
       "  <tbody>\n",
       "    <tr>\n",
       "      <th>19</th>\n",
       "      <td>lalala-lololo</td>\n",
       "      <td>FB42</td>\n",
       "      <td>0.580247</td>\n",
       "    </tr>\n",
       "    <tr>\n",
       "      <th>50</th>\n",
       "      <td>lalala-lololo</td>\n",
       "      <td>TV</td>\n",
       "      <td>0.543210</td>\n",
       "    </tr>\n",
       "    <tr>\n",
       "      <th>25</th>\n",
       "      <td>lalala-lololo</td>\n",
       "      <td>agalper</td>\n",
       "      <td>0.543210</td>\n",
       "    </tr>\n",
       "    <tr>\n",
       "      <th>55</th>\n",
       "      <td>lalala-lololo</td>\n",
       "      <td>JustTill</td>\n",
       "      <td>0.518519</td>\n",
       "    </tr>\n",
       "    <tr>\n",
       "      <th>18</th>\n",
       "      <td>lalala-lololo</td>\n",
       "      <td>dotf_23</td>\n",
       "      <td>0.518519</td>\n",
       "    </tr>\n",
       "  </tbody>\n",
       "</table>\n",
       "</div>"
      ],
      "text/plain": [
       "          person1   person2  similarity\n",
       "19  lalala-lololo      FB42    0.580247\n",
       "50  lalala-lololo        TV    0.543210\n",
       "25  lalala-lololo   agalper    0.543210\n",
       "55  lalala-lololo  JustTill    0.518519\n",
       "18  lalala-lololo   dotf_23    0.518519"
      ]
     },
     "execution_count": 121,
     "metadata": {},
     "output_type": "execute_result"
    }
   ],
   "source": [
    "student_matcher(\"lalala-lololo\")"
   ]
  }
 ],
 "metadata": {
  "kernelspec": {
   "display_name": "data_science",
   "language": "python",
   "name": "python3"
  },
  "language_info": {
   "codemirror_mode": {
    "name": "ipython",
    "version": 3
   },
   "file_extension": ".py",
   "mimetype": "text/x-python",
   "name": "python",
   "nbconvert_exporter": "python",
   "pygments_lexer": "ipython3",
   "version": "3.10.9"
  },
  "orig_nbformat": 4
 },
 "nbformat": 4,
 "nbformat_minor": 2
}
